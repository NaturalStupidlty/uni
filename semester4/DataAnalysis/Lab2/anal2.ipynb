{
 "cells": [
  {
   "cell_type": "code",
   "execution_count": 91,
   "id": "e035219b",
   "metadata": {},
   "outputs": [],
   "source": [
    "# Data Science\n",
    "import numpy as np\n",
    "import pandas as pd\n",
    "import statsmodels.api as sm\n",
    "from scipy import stats\n",
    "\n",
    "# Plotting\n",
    "import matplotlib.pyplot as plt\n",
    "import seaborn as sns"
   ]
  },
  {
   "cell_type": "code",
   "execution_count": 2,
   "id": "9b6ce3fb",
   "metadata": {},
   "outputs": [],
   "source": [
    "data = pd.read_csv(\"train.csv\")"
   ]
  },
  {
   "cell_type": "code",
   "execution_count": 3,
   "id": "591a61e9",
   "metadata": {},
   "outputs": [],
   "source": [
    "def clean(data):\n",
    "    data = data.drop([\"Sex\", \"Embarked\",\n",
    "                      \"Ticket\", \"Cabin\",\n",
    "                      \"Name\", \"PassengerId\",\n",
    "                      \"SibSp\", \"Parch\"], axis = 1)\n",
    "    return data.dropna().reset_index(drop=True)\n",
    "data = clean(data)"
   ]
  },
  {
   "cell_type": "code",
   "execution_count": 4,
   "id": "1401885e",
   "metadata": {},
   "outputs": [
    {
     "data": {
      "text/html": [
       "<div>\n",
       "<style scoped>\n",
       "    .dataframe tbody tr th:only-of-type {\n",
       "        vertical-align: middle;\n",
       "    }\n",
       "\n",
       "    .dataframe tbody tr th {\n",
       "        vertical-align: top;\n",
       "    }\n",
       "\n",
       "    .dataframe thead th {\n",
       "        text-align: right;\n",
       "    }\n",
       "</style>\n",
       "<table border=\"1\" class=\"dataframe\">\n",
       "  <thead>\n",
       "    <tr style=\"text-align: right;\">\n",
       "      <th></th>\n",
       "      <th>Survived</th>\n",
       "      <th>Pclass</th>\n",
       "      <th>Age</th>\n",
       "      <th>Fare</th>\n",
       "    </tr>\n",
       "  </thead>\n",
       "  <tbody>\n",
       "    <tr>\n",
       "      <th>0</th>\n",
       "      <td>0</td>\n",
       "      <td>3</td>\n",
       "      <td>22.0</td>\n",
       "      <td>7.2500</td>\n",
       "    </tr>\n",
       "    <tr>\n",
       "      <th>1</th>\n",
       "      <td>1</td>\n",
       "      <td>1</td>\n",
       "      <td>38.0</td>\n",
       "      <td>71.2833</td>\n",
       "    </tr>\n",
       "    <tr>\n",
       "      <th>2</th>\n",
       "      <td>1</td>\n",
       "      <td>3</td>\n",
       "      <td>26.0</td>\n",
       "      <td>7.9250</td>\n",
       "    </tr>\n",
       "    <tr>\n",
       "      <th>3</th>\n",
       "      <td>1</td>\n",
       "      <td>1</td>\n",
       "      <td>35.0</td>\n",
       "      <td>53.1000</td>\n",
       "    </tr>\n",
       "    <tr>\n",
       "      <th>4</th>\n",
       "      <td>0</td>\n",
       "      <td>3</td>\n",
       "      <td>35.0</td>\n",
       "      <td>8.0500</td>\n",
       "    </tr>\n",
       "    <tr>\n",
       "      <th>...</th>\n",
       "      <td>...</td>\n",
       "      <td>...</td>\n",
       "      <td>...</td>\n",
       "      <td>...</td>\n",
       "    </tr>\n",
       "    <tr>\n",
       "      <th>709</th>\n",
       "      <td>0</td>\n",
       "      <td>3</td>\n",
       "      <td>39.0</td>\n",
       "      <td>29.1250</td>\n",
       "    </tr>\n",
       "    <tr>\n",
       "      <th>710</th>\n",
       "      <td>0</td>\n",
       "      <td>2</td>\n",
       "      <td>27.0</td>\n",
       "      <td>13.0000</td>\n",
       "    </tr>\n",
       "    <tr>\n",
       "      <th>711</th>\n",
       "      <td>1</td>\n",
       "      <td>1</td>\n",
       "      <td>19.0</td>\n",
       "      <td>30.0000</td>\n",
       "    </tr>\n",
       "    <tr>\n",
       "      <th>712</th>\n",
       "      <td>1</td>\n",
       "      <td>1</td>\n",
       "      <td>26.0</td>\n",
       "      <td>30.0000</td>\n",
       "    </tr>\n",
       "    <tr>\n",
       "      <th>713</th>\n",
       "      <td>0</td>\n",
       "      <td>3</td>\n",
       "      <td>32.0</td>\n",
       "      <td>7.7500</td>\n",
       "    </tr>\n",
       "  </tbody>\n",
       "</table>\n",
       "<p>714 rows × 4 columns</p>\n",
       "</div>"
      ],
      "text/plain": [
       "     Survived  Pclass   Age     Fare\n",
       "0           0       3  22.0   7.2500\n",
       "1           1       1  38.0  71.2833\n",
       "2           1       3  26.0   7.9250\n",
       "3           1       1  35.0  53.1000\n",
       "4           0       3  35.0   8.0500\n",
       "..        ...     ...   ...      ...\n",
       "709         0       3  39.0  29.1250\n",
       "710         0       2  27.0  13.0000\n",
       "711         1       1  19.0  30.0000\n",
       "712         1       1  26.0  30.0000\n",
       "713         0       3  32.0   7.7500\n",
       "\n",
       "[714 rows x 4 columns]"
      ]
     },
     "execution_count": 4,
     "metadata": {},
     "output_type": "execute_result"
    }
   ],
   "source": [
    "data"
   ]
  },
  {
   "cell_type": "code",
   "execution_count": 6,
   "id": "af4f8df5",
   "metadata": {},
   "outputs": [
    {
     "name": "stdout",
     "output_type": "stream",
     "text": [
      "4.653630367827739\n",
      "Коефіцієнт асиметрії більше за нуль,  тобто даний розподіл скошений ліворуч\n",
      "30.924249014716096\n",
      "Коефіцієнт ексцесу більше за нуль, тобто даний розподіл більш гостроверхий, ніж нормальний з відповідними параметрами\n",
      "Змінна не розподілена нормально\n",
      "7.461928335514294e-40\n",
      "0.3891077823008268\n",
      "Коефіцієнт асиметрії більше за нуль,  тобто даний розподіл скошений ліворуч\n",
      "0.17827415364210308\n",
      "Коефіцієнт ексцесу більше за нуль, тобто даний розподіл більш гостроверхий, ніж нормальний з відповідними параметрами\n",
      "Змінна не розподілена нормально\n",
      "7.341357388668257e-08\n"
     ]
    }
   ],
   "source": [
    "for col in ['Fare', 'Age']:\n",
    "    print(col)\n",
    "    # 7. Аналіз скошеності та гостроверхості розподілу\n",
    "    skew_coeff = stats.skew(data[col], bias=False)\n",
    "\n",
    "    print(skew_coeff)\n",
    "    if skew_coeff < 0:\n",
    "        print(\"Коефіцієнт асиметрії менше за нуль, \",\n",
    "              \"тобто даний розподіл скошений праворуч\")\n",
    "    elif skew_coeff > 0:\n",
    "        print(\"Коефіцієнт асиметрії більше за нуль, \",\n",
    "              \"тобто даний розподіл скошений ліворуч\")\n",
    "    else:\n",
    "        print(\"Коефіцієнт асиметрії дорівнює нулю, \",\n",
    "              \"тобто даний розподіл симетричний \",\n",
    "              \"відносно матсподівання\")\n",
    "\n",
    "    kurtosis_coeff = stats.kurtosis(data[col], bias=False)\n",
    "\n",
    "    print(kurtosis_coeff)\n",
    "    if kurtosis_coeff < 0:\n",
    "        print(\"Коефіцієнт ексцесу менше за нуль, \"\n",
    "        \"тобто даний розподіл менш гостроверхий, \"\n",
    "        \"ніж нормальний з відповідними параметрами\")\n",
    "    elif kurtosis_coeff > 0:\n",
    "        print(\"Коефіцієнт ексцесу більше за нуль, \"\n",
    "        \"тобто даний розподіл більш гостроверхий, \"\n",
    "        \"ніж нормальний з відповідними параметрами\")\n",
    "    else:\n",
    "        print(\"Коефіцієнт ексцесу дорівнює нулю, \"\n",
    "        \"тобто даний розподіл нормальний\")\n",
    "\n",
    "    # 8. З'ясувати, чи нормально розподілена змінна\n",
    "    p = 0.05\n",
    "    # Shapiro-Wilk test\n",
    "    p_value = stats.shapiro(data[col])[1]\n",
    "    if p_value > p:\n",
    "        print(\"Змінна нормально розподілена\")\n",
    "    else:\n",
    "        print(\"Змінна не розподілена нормально\")\n",
    "    print(p_value)"
   ]
  },
  {
   "cell_type": "code",
   "execution_count": 36,
   "id": "e2b329b5",
   "metadata": {},
   "outputs": [
    {
     "data": {
      "text/html": [
       "<div>\n",
       "<style scoped>\n",
       "    .dataframe tbody tr th:only-of-type {\n",
       "        vertical-align: middle;\n",
       "    }\n",
       "\n",
       "    .dataframe tbody tr th {\n",
       "        vertical-align: top;\n",
       "    }\n",
       "\n",
       "    .dataframe thead th {\n",
       "        text-align: right;\n",
       "    }\n",
       "</style>\n",
       "<table border=\"1\" class=\"dataframe\">\n",
       "  <thead>\n",
       "    <tr style=\"text-align: right;\">\n",
       "      <th></th>\n",
       "      <th>Survived</th>\n",
       "      <th>Pclass</th>\n",
       "      <th>Age</th>\n",
       "      <th>Fare</th>\n",
       "    </tr>\n",
       "  </thead>\n",
       "  <tbody>\n",
       "    <tr>\n",
       "      <th>Survived</th>\n",
       "      <td>1.000000</td>\n",
       "      <td>-0.360656</td>\n",
       "      <td>-0.052565</td>\n",
       "      <td>0.339027</td>\n",
       "    </tr>\n",
       "    <tr>\n",
       "      <th>Pclass</th>\n",
       "      <td>-0.360656</td>\n",
       "      <td>1.000000</td>\n",
       "      <td>-0.361666</td>\n",
       "      <td>-0.730578</td>\n",
       "    </tr>\n",
       "    <tr>\n",
       "      <th>Age</th>\n",
       "      <td>-0.052565</td>\n",
       "      <td>-0.361666</td>\n",
       "      <td>1.000000</td>\n",
       "      <td>0.135051</td>\n",
       "    </tr>\n",
       "    <tr>\n",
       "      <th>Fare</th>\n",
       "      <td>0.339027</td>\n",
       "      <td>-0.730578</td>\n",
       "      <td>0.135051</td>\n",
       "      <td>1.000000</td>\n",
       "    </tr>\n",
       "  </tbody>\n",
       "</table>\n",
       "</div>"
      ],
      "text/plain": [
       "          Survived    Pclass       Age      Fare\n",
       "Survived  1.000000 -0.360656 -0.052565  0.339027\n",
       "Pclass   -0.360656  1.000000 -0.361666 -0.730578\n",
       "Age      -0.052565 -0.361666  1.000000  0.135051\n",
       "Fare      0.339027 -0.730578  0.135051  1.000000"
      ]
     },
     "execution_count": 36,
     "metadata": {},
     "output_type": "execute_result"
    }
   ],
   "source": [
    "corr_matrix = data.corr(method='spearman')"
   ]
  },
  {
   "cell_type": "code",
   "execution_count": 53,
   "id": "a8e0d5ca",
   "metadata": {},
   "outputs": [
    {
     "data": {
      "text/html": [
       "<div>\n",
       "<style scoped>\n",
       "    .dataframe tbody tr th:only-of-type {\n",
       "        vertical-align: middle;\n",
       "    }\n",
       "\n",
       "    .dataframe tbody tr th {\n",
       "        vertical-align: top;\n",
       "    }\n",
       "\n",
       "    .dataframe thead th {\n",
       "        text-align: right;\n",
       "    }\n",
       "</style>\n",
       "<table border=\"1\" class=\"dataframe\">\n",
       "  <thead>\n",
       "    <tr style=\"text-align: right;\">\n",
       "      <th></th>\n",
       "      <th>Survived</th>\n",
       "      <th>Pclass</th>\n",
       "      <th>Age</th>\n",
       "      <th>Fare</th>\n",
       "    </tr>\n",
       "  </thead>\n",
       "  <tbody>\n",
       "    <tr>\n",
       "      <th>Survived</th>\n",
       "      <td>1.000000</td>\n",
       "      <td>-0.342105</td>\n",
       "      <td>-0.043385</td>\n",
       "      <td>0.278785</td>\n",
       "    </tr>\n",
       "    <tr>\n",
       "      <th>Pclass</th>\n",
       "      <td>-0.342105</td>\n",
       "      <td>1.000000</td>\n",
       "      <td>-0.286081</td>\n",
       "      <td>-0.611963</td>\n",
       "    </tr>\n",
       "    <tr>\n",
       "      <th>Age</th>\n",
       "      <td>-0.043385</td>\n",
       "      <td>-0.286081</td>\n",
       "      <td>1.000000</td>\n",
       "      <td>0.093249</td>\n",
       "    </tr>\n",
       "    <tr>\n",
       "      <th>Fare</th>\n",
       "      <td>0.278785</td>\n",
       "      <td>-0.611963</td>\n",
       "      <td>0.093249</td>\n",
       "      <td>1.000000</td>\n",
       "    </tr>\n",
       "  </tbody>\n",
       "</table>\n",
       "</div>"
      ],
      "text/plain": [
       "          Survived    Pclass       Age      Fare\n",
       "Survived  1.000000 -0.342105 -0.043385  0.278785\n",
       "Pclass   -0.342105  1.000000 -0.286081 -0.611963\n",
       "Age      -0.043385 -0.286081  1.000000  0.093249\n",
       "Fare      0.278785 -0.611963  0.093249  1.000000"
      ]
     },
     "execution_count": 53,
     "metadata": {},
     "output_type": "execute_result"
    }
   ],
   "source": [
    "corr_matrix = data.corr(method='kendall')\n",
    "corr_matrix."
   ]
  },
  {
   "cell_type": "code",
   "execution_count": 50,
   "id": "29b30d13",
   "metadata": {},
   "outputs": [
    {
     "data": {
      "text/plain": [
       "0.16058855181140086"
      ]
     },
     "execution_count": 50,
     "metadata": {},
     "output_type": "execute_result"
    }
   ],
   "source": [
    "stats.spearmanr(data['Survived'], data['Age']).pvalue"
   ]
  },
  {
   "cell_type": "code",
   "execution_count": 49,
   "id": "37d588a3",
   "metadata": {},
   "outputs": [
    {
     "data": {
      "text/plain": [
       "0.1604374625220748"
      ]
     },
     "execution_count": 49,
     "metadata": {},
     "output_type": "execute_result"
    }
   ],
   "source": [
    "stats.kendalltau(data['Survived'], data['Age']).pvalue"
   ]
  },
  {
   "cell_type": "code",
   "execution_count": 106,
   "id": "53c85f88",
   "metadata": {},
   "outputs": [
    {
     "name": "stdout",
     "output_type": "stream",
     "text": [
      "Coefficient of multiple correlation: 0.7964297781062655\n"
     ]
    }
   ],
   "source": [
    "# extract predictor variables (Age, Fare, Pclass) and response variable (Survived)\n",
    "X = data[['Age', 'Fare', 'Survived']]\n",
    "y = data['Pclass']\n",
    "\n",
    "# create a linear regression model\n",
    "model = sm.OLS(y, X)\n",
    "\n",
    "# fit the model and extract the coefficient of multiple correlation\n",
    "r = np.sqrt(model.fit().rsquared)\n",
    "\n",
    "# print the result\n",
    "print(\"Coefficient of multiple correlation:\", r)"
   ]
  },
  {
   "cell_type": "code",
   "execution_count": 107,
   "id": "18de156d",
   "metadata": {
    "scrolled": true
   },
   "outputs": [
    {
     "data": {
      "text/plain": [
       "2.243749651776368e-06"
      ]
     },
     "execution_count": 107,
     "metadata": {},
     "output_type": "execute_result"
    }
   ],
   "source": [
    "model.fit().pvalues.max()"
   ]
  },
  {
   "cell_type": "code",
   "execution_count": 128,
   "id": "7b59b979",
   "metadata": {
    "scrolled": false
   },
   "outputs": [
    {
     "data": {
      "text/plain": [
       "<Axes: xlabel='Fare', ylabel='Age'>"
      ]
     },
     "execution_count": 128,
     "metadata": {},
     "output_type": "execute_result"
    },
    {
     "data": {
      "image/png": "[encoded data removed]",
      "text/plain": [
       "<Figure size 640x480 with 1 Axes>"
      ]
     },
     "metadata": {},
     "output_type": "display_data"
    }
   ],
   "source": [
    "sns.scatterplot(data=data, x='Fare', y='Age', hue='Survived', palette=['black', 'green'], )"
   ]
  },
  {
   "cell_type": "code",
   "execution_count": null,
   "id": "25621a89",
   "metadata": {},
   "outputs": [],
   "source": []
  }
 ],
 "metadata": {
  "kernelspec": {
   "display_name": "Python 3.10 (pytorch)",
   "language": "python",
   "name": "torch"
  },
  "language_info": {
   "codemirror_mode": {
    "name": "ipython",
    "version": 3
   },
   "file_extension": ".py",
   "mimetype": "text/x-python",
   "name": "python",
   "nbconvert_exporter": "python",
   "pygments_lexer": "ipython3",
   "version": "3.10.9"
  }
 },
 "nbformat": 4,
 "nbformat_minor": 5
}
