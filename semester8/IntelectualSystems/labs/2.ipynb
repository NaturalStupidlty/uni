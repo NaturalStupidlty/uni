{
 "cells": [
  {
   "cell_type": "markdown",
   "id": "671e3bd8",
   "metadata": {},
   "source": [
    "# NumPy vs Iterative Constructions Exercises\n",
    "This notebook contains:\n",
    "1. Vectorized (NumPy) and iterative (pure Python) solutions for selected exercises, with timing comparisons.\n",
    "2. Solving a system of algebraic equations using Cramer's rule, verified by matrix multiplication, inverse, and numpy.linalg.solve().\n",
    "3. Computing the matrix expression $2(A+B)(2B - A)$ using both approaches, with timing and validation."
   ]
  },
  {
   "cell_type": "markdown",
   "id": "21877476",
   "metadata": {},
   "source": [
    "## Exercise 1\n",
    "The number $n$ is entered. Print an array of size $n\\times n$, in which the numbers from 1 to $n$ go diagonally, and the rest of the numbers are 0."
   ]
  },
  {
   "cell_type": "code",
   "id": "86a5159a",
   "metadata": {
    "ExecuteTime": {
     "end_time": "2025-04-19T12:51:33.421964Z",
     "start_time": "2025-04-19T12:51:33.353752Z"
    }
   },
   "source": [
    "import numpy as np\n",
    "import time\n",
    "\n",
    "def ex1_numpy(n):\n",
    "    arr = np.zeros((n, n), dtype=int)\n",
    "    np.fill_diagonal(arr, np.arange(1, n+1))\n",
    "    return arr\n",
    "\n",
    "def ex1_iter(n):\n",
    "    arr = [[0]*n for _ in range(n)]\n",
    "    for i in range(n):\n",
    "        arr[i][i] = i+1\n",
    "    return np.array(arr)\n",
    "\n",
    "# Timing\n",
    "n = 1000\n",
    "t0 = time.time(); _ = ex1_numpy(n); t1 = time.time(); t_numpy = t1 - t0\n",
    "t0 = time.time(); _ = ex1_iter(n); t1 = time.time(); t_iter = t1 - t0\n",
    "print(f\"Ex1 (n={n}): numpy {t_numpy:.6f}s, iter {t_iter:.6f}s\")"
   ],
   "outputs": [
    {
     "name": "stdout",
     "output_type": "stream",
     "text": [
      "Ex1 (n=1000): numpy 0.001088s, iter 0.031576s\n"
     ]
    }
   ],
   "execution_count": 1
  },
  {
   "cell_type": "markdown",
   "id": "8d298342",
   "metadata": {},
   "source": [
    "## Exercise 6\n",
    "An array is entered from the keyboard. Replace all non-zero elements with $-1$."
   ]
  },
  {
   "cell_type": "code",
   "id": "aad60a20",
   "metadata": {
    "ExecuteTime": {
     "end_time": "2025-04-19T12:51:48.702787Z",
     "start_time": "2025-04-19T12:51:48.632789Z"
    }
   },
   "source": [
    "import numpy as np\n",
    "import time\n",
    "\n",
    "def ex6_numpy(arr):\n",
    "    result = arr.copy()\n",
    "    result[result != 0] = -1\n",
    "    return result\n",
    "\n",
    "def ex6_iter(arr):\n",
    "    result = arr.copy().tolist()\n",
    "    for i in range(len(result)):\n",
    "        for j in range(len(result[0])):\n",
    "            if result[i][j] != 0:\n",
    "                result[i][j] = -1\n",
    "    return np.array(result)\n",
    "\n",
    "# Demonstration and timing\n",
    "arr = np.random.randint(-5, 5, (1000, 1000))\n",
    "t0 = time.time(); _ = ex6_numpy(arr); t1 = time.time(); t_numpy = t1 - t0\n",
    "t0 = time.time(); _ = ex6_iter(arr); t1 = time.time(); t_iter = t1 - t0\n",
    "print(f\"Ex6: numpy {t_numpy:.6f}s, iter {t_iter:.6f}s\")"
   ],
   "outputs": [
    {
     "name": "stdout",
     "output_type": "stream",
     "text": [
      "Ex6: numpy 0.003372s, iter 0.055928s\n"
     ]
    }
   ],
   "execution_count": 2
  },
  {
   "cell_type": "markdown",
   "id": "02db5367",
   "metadata": {},
   "source": [
    "## Exercise 7\n",
    "An array is entered from the keyboard. Replace all zero elements with $-1$."
   ]
  },
  {
   "cell_type": "code",
   "id": "e63172b3",
   "metadata": {
    "ExecuteTime": {
     "end_time": "2025-04-19T12:51:50.522599Z",
     "start_time": "2025-04-19T12:51:50.464439Z"
    }
   },
   "source": [
    "import numpy as np\n",
    "import time\n",
    "\n",
    "def ex7_numpy(arr):\n",
    "    result = arr.copy()\n",
    "    result[result == 0] = -1\n",
    "    return result\n",
    "\n",
    "def ex7_iter(arr):\n",
    "    result = arr.copy().tolist()\n",
    "    for i in range(len(result)):\n",
    "        for j in range(len(result[0])):\n",
    "            if result[i][j] == 0:\n",
    "                result[i][j] = -1\n",
    "    return np.array(result)\n",
    "\n",
    "# Demonstration and timing\n",
    "arr = np.random.randint(0, 5, (1000, 1000))\n",
    "t0 = time.time(); _ = ex7_numpy(arr); t1 = time.time(); t_numpy = t1 - t0\n",
    "t0 = time.time(); _ = ex7_iter(arr); t1 = time.time(); t_iter = t1 - t0\n",
    "print(f\"Ex7: numpy {t_numpy:.6f}s, iter {t_iter:.6f}s\")"
   ],
   "outputs": [
    {
     "name": "stdout",
     "output_type": "stream",
     "text": [
      "Ex7: numpy 0.002769s, iter 0.045770s\n"
     ]
    }
   ],
   "execution_count": 3
  },
  {
   "cell_type": "markdown",
   "id": "091f4961",
   "metadata": {},
   "source": [
    "## Exercise 9\n",
    "The number $n$ is entered. Create an array of values from $n$ to 0."
   ]
  },
  {
   "cell_type": "code",
   "id": "e990d8c6",
   "metadata": {
    "ExecuteTime": {
     "end_time": "2025-04-19T12:51:51.541392Z",
     "start_time": "2025-04-19T12:51:51.505655Z"
    }
   },
   "source": [
    "import numpy as np\n",
    "import time\n",
    "\n",
    "def ex9_numpy(n):\n",
    "    return np.arange(n, -1, -1)\n",
    "\n",
    "def ex9_iter(n):\n",
    "    return np.array([i for i in range(n, -1, -1)])\n",
    "\n",
    "# Timing\n",
    "n = 1000000\n",
    "t0 = time.time(); _ = ex9_numpy(n); t1 = time.time(); t_numpy = t1 - t0\n",
    "t0 = time.time(); _ = ex9_iter(n); t1 = time.time(); t_iter = t1 - t0\n",
    "print(f\"Ex9 (n={n}): numpy {t_numpy:.6f}s, iter {t_iter:.6f}s\")"
   ],
   "outputs": [
    {
     "name": "stdout",
     "output_type": "stream",
     "text": [
      "Ex9 (n=1000000): numpy 0.000462s, iter 0.033121s\n"
     ]
    }
   ],
   "execution_count": 4
  },
  {
   "cell_type": "markdown",
   "id": "c381b1a0",
   "metadata": {},
   "source": [
    "## Exercise 10\n",
    "The numbers $n$ and $m$ are given. Create an array of random values $n\\times m$ and calculate the minimum, maximum, average, and standard deviation, rounded to 3 decimal places."
   ]
  },
  {
   "cell_type": "code",
   "id": "7d1ab44a",
   "metadata": {
    "ExecuteTime": {
     "end_time": "2025-04-19T12:51:52.589832Z",
     "start_time": "2025-04-19T12:51:52.566392Z"
    }
   },
   "source": [
    "import numpy as np\n",
    "import time\n",
    "import random\n",
    "import math\n",
    "\n",
    "def ex10_numpy(n, m):\n",
    "    arr = np.random.random((n, m))\n",
    "    return np.round(np.min(arr), 3), np.round(np.max(arr), 3), np.round(np.mean(arr), 3), np.round(np.std(arr), 3)\n",
    "\n",
    "def ex10_iter(n, m):\n",
    "    total = 0.0; total2 = 0.0; count = n*m\n",
    "    minimum = 1.0; maximum = 0.0\n",
    "    for _ in range(n*m):\n",
    "        v = random.random()\n",
    "        total += v; total2 += v*v\n",
    "        if v < minimum: minimum = v\n",
    "        if v > maximum: maximum = v\n",
    "    mean = total / count\n",
    "    std = math.sqrt(total2/count - mean*mean)\n",
    "    return round(minimum, 3), round(maximum, 3), round(mean, 3), round(std, 3)\n",
    "\n",
    "# Timing\n",
    "n, m = 500, 500\n",
    "t0 = time.time(); _ = ex10_numpy(n, m); t1 = time.time(); t_numpy = t1 - t0\n",
    "t0 = time.time(); _ = ex10_iter(n, m); t1 = time.time(); t_iter = t1 - t0\n",
    "print(f\"Ex10 ({n}x{m}): numpy {t_numpy:.6f}s, iter {t_iter:.6f}s\")"
   ],
   "outputs": [
    {
     "name": "stdout",
     "output_type": "stream",
     "text": [
      "Ex10 (500x500): numpy 0.001827s, iter 0.018026s\n"
     ]
    }
   ],
   "execution_count": 5
  },
  {
   "cell_type": "markdown",
   "id": "01ae1401",
   "metadata": {},
   "source": [
    "## Exercise 11\n",
    "Create an array of ones of size $n\\times n$ and add a “frame” to it, starting with 0."
   ]
  },
  {
   "cell_type": "code",
   "id": "3e119ac4",
   "metadata": {
    "ExecuteTime": {
     "end_time": "2025-04-19T12:51:53.466431Z",
     "start_time": "2025-04-19T12:51:53.392713Z"
    }
   },
   "source": [
    "import numpy as np\n",
    "import time\n",
    "\n",
    "def ex11_numpy(n):\n",
    "    arr = np.ones((n, n), dtype=int)\n",
    "    arr[0, :] = 0; arr[-1, :] = 0; arr[:, 0] = 0; arr[:, -1] = 0\n",
    "    return arr\n",
    "\n",
    "def ex11_iter(n):\n",
    "    arr = [[1]*n for _ in range(n)]\n",
    "    for i in range(n):\n",
    "        for j in range(n):\n",
    "            if i in (0, n-1) or j in (0, n-1):\n",
    "                arr[i][j] = 0\n",
    "    return np.array(arr)\n",
    "\n",
    "# Timing\n",
    "n = 1000\n",
    "t0 = time.time(); _ = ex11_numpy(n); t1 = time.time(); t_numpy = t1 - t0\n",
    "t0 = time.time(); _ = ex11_iter(n); t1 = time.time(); t_iter = t1 - t0\n",
    "print(f\"Ex11 (n={n}): numpy {t_numpy:.6f}s, iter {t_iter:.6f}s\")"
   ],
   "outputs": [
    {
     "name": "stdout",
     "output_type": "stream",
     "text": [
      "Ex11 (n=1000): numpy 0.000847s, iter 0.069324s\n"
     ]
    }
   ],
   "execution_count": 6
  },
  {
   "cell_type": "markdown",
   "id": "3b4b4d47",
   "metadata": {},
   "source": [
    "## Exercise 15\n",
    "Fill the even columns of the matrix of size $n\\times n$ with ones and the odd columns with zeros."
   ]
  },
  {
   "cell_type": "code",
   "id": "d368c05b",
   "metadata": {
    "ExecuteTime": {
     "end_time": "2025-04-19T12:51:54.174449Z",
     "start_time": "2025-04-19T12:51:54.126256Z"
    }
   },
   "source": [
    "import numpy as np\n",
    "import time\n",
    "\n",
    "def ex15_numpy(n):\n",
    "    arr = np.zeros((n, n), dtype=int)\n",
    "    arr[:, ::2] = 1\n",
    "    return arr\n",
    "\n",
    "def ex15_iter(n):\n",
    "    arr = [[0]*n for _ in range(n)]\n",
    "    for i in range(n):\n",
    "        for j in range(n):\n",
    "            arr[i][j] = 1 if j % 2 == 0 else 0\n",
    "    return np.array(arr)\n",
    "\n",
    "# Timing\n",
    "n = 1000\n",
    "t0 = time.time(); _ = ex15_numpy(n); t1 = time.time(); t_numpy = t1 - t0\n",
    "t0 = time.time(); _ = ex15_iter(n); t1 = time.time(); t_iter = t1 - t0\n",
    "print(f\"Ex15 (n={n}): numpy {t_numpy:.6f}s, iter {t_iter:.6f}s\")"
   ],
   "outputs": [
    {
     "name": "stdout",
     "output_type": "stream",
     "text": [
      "Ex15 (n=1000): numpy 0.000731s, iter 0.044639s\n"
     ]
    }
   ],
   "execution_count": 7
  },
  {
   "cell_type": "markdown",
   "id": "3f3c656b",
   "metadata": {},
   "source": [
    "## Exercise 17\n",
    "Fill the vector with values from 0 to $n$. Replace signs for all values less than $n/2$ and greater than $3n/4$ with opposite signs."
   ]
  },
  {
   "cell_type": "code",
   "id": "5737550a",
   "metadata": {
    "ExecuteTime": {
     "end_time": "2025-04-19T12:51:55.757071Z",
     "start_time": "2025-04-19T12:51:54.885656Z"
    }
   },
   "source": [
    "import numpy as np\n",
    "import time\n",
    "\n",
    "def ex17_numpy(n):\n",
    "    arr = np.arange(n+1)\n",
    "    mask = (arr < n/2) | (arr > 3*n/4)\n",
    "    arr[mask] = -arr[mask]\n",
    "    return arr\n",
    "\n",
    "def ex17_iter(n):\n",
    "    arr = list(range(n+1))\n",
    "    for i, v in enumerate(arr):\n",
    "        if v < n/2 or v > 3*n/4:\n",
    "            arr[i] = -v\n",
    "    return np.array(arr)\n",
    "\n",
    "# Timing\n",
    "n = 10000000\n",
    "t0 = time.time(); _ = ex17_numpy(n); t1 = time.time(); t_numpy = t1 - t0\n",
    "t0 = time.time(); _ = ex17_iter(n); t1 = time.time(); t_iter = t1 - t0\n",
    "print(f\"Ex17 (n={n}): numpy {t_numpy:.6f}s, iter {t_iter:.6f}s\")"
   ],
   "outputs": [
    {
     "name": "stdout",
     "output_type": "stream",
     "text": [
      "Ex17 (n=10000000): numpy 0.041199s, iter 0.827502s\n"
     ]
    }
   ],
   "execution_count": 8
  },
  {
   "cell_type": "markdown",
   "id": "2f2179dd",
   "metadata": {},
   "source": [
    "## Exercise 18\n",
    "Generate a vector of $n$ random numbers in the range from 0 to 99. Find the number of unique numbers in the sequence."
   ]
  },
  {
   "cell_type": "code",
   "id": "bdac6634",
   "metadata": {
    "ExecuteTime": {
     "end_time": "2025-04-19T12:51:57.121750Z",
     "start_time": "2025-04-19T12:51:56.870838Z"
    }
   },
   "source": [
    "import numpy as np\n",
    "import time\n",
    "import random\n",
    "\n",
    "def ex18_numpy(n):\n",
    "    arr = np.random.randint(0, 100, size=n)\n",
    "    return len(np.unique(arr))\n",
    "\n",
    "def ex18_iter(n):\n",
    "    arr = [random.randint(0, 99) for _ in range(n)]\n",
    "    return len(set(arr))\n",
    "\n",
    "# Timing\n",
    "n = 1000000\n",
    "t0 = time.time(); _ = ex18_numpy(n); t1 = time.time(); numpy_time = t1 - t0\n",
    "t0 = time.time(); _ = ex18_iter(n); t1 = time.time(); iter_time = t1 - t0\n",
    "print(f\"Ex18 (n={n}): numpy {numpy_time:.6f}s, iter {iter_time:.6f}s\")"
   ],
   "outputs": [
    {
     "name": "stdout",
     "output_type": "stream",
     "text": [
      "Ex18 (n=1000000): numpy 0.023910s, iter 0.224542s\n"
     ]
    }
   ],
   "execution_count": 9
  },
  {
   "cell_type": "markdown",
   "id": "138491d3",
   "metadata": {},
   "source": [
    "## Part 2: Solving a System of Equations\n",
    "Solve using Cramer's rule and verify:\n",
    "a) Matrix multiplication\n",
    "b) Inverse matrix multiplication\n",
    "c) `numpy.linalg.solve()`\n",
    "\n",
    "The system is:\n",
    "\\[\n",
    "\\begin{cases}\n",
    " x_1 + x_2 + 2x_3 + 3x_4 = 1\\\\\n",
    " 3x_1 - x_2 - x_3 - 2x_4 = -4\\\\\n",
    " 2x_1 - 3x_2 - x_3 - x_4 = -6\\\\\n",
    " x_1 + 2x_2 + 3x_3 - x_4 = -4\n",
    "\\end{cases}\n",
    "\\]"
   ]
  },
  {
   "cell_type": "code",
   "id": "093a52c8",
   "metadata": {
    "ExecuteTime": {
     "end_time": "2025-04-19T12:52:04.362684Z",
     "start_time": "2025-04-19T12:52:04.358160Z"
    }
   },
   "source": [
    "import numpy as np\n",
    "\n",
    "A = np.array([[1,1,2,3],[3,-1,-1,-2],[2,-3,-1,-1],[1,2,3,-1]], dtype=float)\n",
    "b = np.array([1,-4,-6,-4], dtype=float)\n",
    "\n",
    "# Cramer's rule\n",
    "detA = np.linalg.det(A)\n",
    "x_cramer = np.zeros(4)\n",
    "for i in range(4):\n",
    "    Ai = A.copy()\n",
    "    Ai[:, i] = b\n",
    "    x_cramer[i] = np.linalg.det(Ai) / detA\n",
    "\n",
    "# Verification\n",
    "res_mul = A.dot(x_cramer)\n",
    "res_inv = np.linalg.inv(A).dot(b)\n",
    "x_solve = np.linalg.solve(A, b)\n",
    "\n",
    "print(\"Cramer's solution:\", x_cramer)\n",
    "print(\"Numpy solve solution:\", x_solve)\n",
    "print(\"A @ x_cramer ≈ b:\", np.allclose(res_mul, b))\n",
    "print(\"inv(A) @ b ≈ x_cramer:\", np.allclose(res_inv, x_cramer))\n",
    "print(\"cramer ≈ solve:\", np.allclose(x_cramer, x_solve))"
   ],
   "outputs": [
    {
     "name": "stdout",
     "output_type": "stream",
     "text": [
      "Cramer's solution: [-0.55555556  1.88888889 -2.          1.22222222]\n",
      "Numpy solve solution: [-0.55555556  1.88888889 -2.          1.22222222]\n",
      "A @ x_cramer ≈ b: True\n",
      "inv(A) @ b ≈ x_cramer: True\n",
      "cramer ≈ solve: True\n"
     ]
    }
   ],
   "execution_count": 10
  },
  {
   "cell_type": "markdown",
   "id": "f9a87c0a",
   "metadata": {},
   "source": [
    "## Part 3: Matrix Expression\n",
    "Calculate $2(A+B)(2B - A)$ using:\n",
    "a) NumPy universal functions\n",
    "b) Iterative constructs\n",
    "\n",
    "Matrices:\n",
    "A = [[2, 3, -1], [4, 5, 2], [-1, 0, 7]]\n",
    "B = [[-1, 0, 5], [0, 1, 3], [2, -2, 4]]"
   ]
  },
  {
   "cell_type": "code",
   "id": "956b383b",
   "metadata": {
    "ExecuteTime": {
     "end_time": "2025-04-19T12:52:05.837280Z",
     "start_time": "2025-04-19T12:52:05.833643Z"
    }
   },
   "source": [
    "import numpy as np\n",
    "import time\n",
    "\n",
    "A = np.array([[2,3,-1],[4,5,2],[-1,0,7]])\n",
    "B = np.array([[-1,0,5],[0,1,3],[2,-2,4]])\n",
    "\n",
    "# Vectorized\n",
    "t0 = time.time()\n",
    "C_vec = 2 * (A + B).dot(2*B - A)\n",
    "t1 = time.time(); t_vec = t1 - t0\n",
    "\n",
    "# Iterative\n",
    "def mat_mult(X, Y):\n",
    "    return [[sum(X[i][k] * Y[k][j] for k in range(len(Y))) for j in range(len(Y))] for i in range(len(X))]\n",
    "\n",
    "t0 = time.time()\n",
    "M1 = (A + B).tolist()\n",
    "M2 = (2*B - A).tolist()\n",
    "prod = mat_mult(M1, M2)\n",
    "C_iter = np.array([[2 * prod[i][j] for j in range(len(prod))] for i in range(len(prod))])\n",
    "t1 = time.time(); t_iter = t1 - t0\n",
    "\n",
    "print(\"C_vec:\\n\", C_vec)\n",
    "print(\"C_iter:\\n\", C_iter)\n",
    "print(\"All close?\", np.allclose(C_vec, C_iter))\n",
    "print(f\"Times: vectorized {t_vec:.6f}s, iterative {t_iter:.6f}s\")"
   ],
   "outputs": [
    {
     "name": "stdout",
     "output_type": "stream",
     "text": [
      "C_vec:\n",
      " [[   8  -56   54]\n",
      " [ -30 -100  146]\n",
      " [ 118  -82   28]]\n",
      "C_iter:\n",
      " [[   8  -56   54]\n",
      " [ -30 -100  146]\n",
      " [ 118  -82   28]]\n",
      "All close? True\n",
      "Times: vectorized 0.000048s, iterative 0.000088s\n"
     ]
    }
   ],
   "execution_count": 11
  },
  {
   "cell_type": "markdown",
   "id": "65683c5a",
   "metadata": {},
   "source": [
    "## Conclusions\n",
    "- In all timed exercises, the NumPy vectorized implementations were significantly faster than the pure Python iterative versions, especially for large data sizes.\n",
    "- Cramer's rule yields the same solution as `numpy.linalg.solve`, and matrix multiplication and inverse-based methods verify correctness.\n",
    "- The matrix expression computed iteratively matches the vectorized result, but vectorized computation is far more efficient."
   ]
  },
  {
   "metadata": {},
   "cell_type": "code",
   "outputs": [],
   "execution_count": null,
   "source": "",
   "id": "1e2447ac24490cc4"
  }
 ],
 "metadata": {
  "kernelspec": {
   "name": "python3",
   "language": "python",
   "display_name": "Python 3 (ipykernel)"
  }
 },
 "nbformat": 4,
 "nbformat_minor": 5
}
