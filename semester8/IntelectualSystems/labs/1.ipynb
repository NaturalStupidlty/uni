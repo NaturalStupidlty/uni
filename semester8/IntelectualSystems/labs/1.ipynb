{
 "cells": [
  {
   "metadata": {},
   "cell_type": "markdown",
   "source": "Варіант 1",
   "id": "47cfcc3200189f07"
  },
  {
   "cell_type": "markdown",
   "id": "fb4030a21f93b8b0",
   "metadata": {},
   "source": [
    "# 🇬🇷 **Greece: Country Profile**\n",
    "A comprehensive overview of *Greece* including its geography, population, culture, and more."
   ]
  },
  {
   "cell_type": "code",
   "execution_count": 1,
   "id": "6feab82027841649",
   "metadata": {
    "ExecuteTime": {
     "end_time": "2025-04-19T12:11:20.354900Z",
     "start_time": "2025-04-19T12:11:20.352581Z"
    }
   },
   "outputs": [
    {
     "data": {
      "text/html": [
       "<svg widt h=\"300\" height=\"200\" viewBox=\"0 0 9 6\">\n",
       "  <rect width=\"9\" height=\"6\" fill=\"#0D5EAF\"/>\n",
       "  <g fill=\"#fff\">\n",
       "    <rect y=\"0.6667\" width=\"9\" height=\"0.6667\"/>\n",
       "    <rect y=\"2.0001\" width=\"9\" height=\"0.6667\"/>\n",
       "    <rect y=\"3.3334\" width=\"9\" height=\"0.6667\"/>\n",
       "    <rect y=\"4.6668\" width=\"9\" height=\"0.6667\"/>\n",
       "  </g>\n",
       "  <rect width=\"4\" height=\"4\" fill=\"#0D5EAF\"/>\n",
       "  <path d=\"M2 0 L2 4 M0 2 L4 2\" stroke=\"#fff\" stroke-width=\"0.5\"/>\n",
       "</svg>\n"
      ],
      "text/plain": [
       "<IPython.core.display.HTML object>"
      ]
     },
     "metadata": {},
     "output_type": "display_data"
    }
   ],
   "source": [
    "%%HTML\n",
    "<svg widt h=\"300\" height=\"200\" viewBox=\"0 0 9 6\">\n",
    "  <rect width=\"9\" height=\"6\" fill=\"#0D5EAF\"/>\n",
    "  <g fill=\"#fff\">\n",
    "    <rect y=\"0.6667\" width=\"9\" height=\"0.6667\"/>\n",
    "    <rect y=\"2.0001\" width=\"9\" height=\"0.6667\"/>\n",
    "    <rect y=\"3.3334\" width=\"9\" height=\"0.6667\"/>\n",
    "    <rect y=\"4.6668\" width=\"9\" height=\"0.6667\"/>\n",
    "  </g>\n",
    "  <rect width=\"4\" height=\"4\" fill=\"#0D5EAF\"/>\n",
    "  <path d=\"M2 0 L2 4 M0 2 L4 2\" stroke=\"#fff\" stroke-width=\"0.5\"/>\n",
    "</svg>"
   ]
  },
  {
   "cell_type": "markdown",
   "id": "9977950ac3f6eb61",
   "metadata": {},
   "source": [
    "<div style='border:2px solid #0D5EAF; padding:10px; border-radius:5px;'>\n",
    "**Area:** <span style='color:#D32F2F;'>131,957 km²</span><br>\n",
    "**Population (2021):** <span style='color:#388E3C;'>10.7 million</span><br>\n",
    "**Capital:** **Athens**\n",
    "</div>"
   ]
  },
  {
   "cell_type": "markdown",
   "id": "d2d3f0bfff367c8c",
   "metadata": {},
   "source": [
    "## Government Structure\n",
    "Greece is a **parliamentary republic** with the following branches:\n",
    "- **Executive:** President (ceremonial) and Prime Minister (head of government)\n",
    "- **Legislative:** Unicameral Parliament (*Vouli ton Ellinon*) with 300 seats\n",
    "- **Judicial:** Independent courts including the Council of State and Supreme Civil and Criminal Court\n"
   ]
  },
  {
   "cell_type": "markdown",
   "id": "ff06972ec184f65e",
   "metadata": {},
   "source": [
    "## Prominent Personalities\n",
    "| Name | Field |\n",
    "|------|-------|\n",
    "| *Alexis Tsipras* | Politics (Former Prime Minister) |\n",
    "| **Giorgos Seferis** | Literature (Nobel Laureate, 1963) |\n",
    "| Maria Callas | Opera Singer |\n",
    "| **Constantine Kavafis** | Poetry |\n"
   ]
  },
  {
   "cell_type": "markdown",
   "id": "cf74a5d45be8b7ba",
   "metadata": {},
   "source": [
    "## Cultural & Natural Monuments\n",
    "<ul>\n",
    "  <li><strong>Ancient Monuments</strong>\n",
    "    <ul>\n",
    "      <li>**Acropolis of Athens**</li>\n",
    "      <li>Temple of Apollo at Delphi</li>\n",
    "      <li>Palace of Knossos</li>\n",
    "    </ul>\n",
    "  </li>\n",
    "  <li><strong>Natural Wonders</strong>\n",
    "    <ul>\n",
    "      <li><span style='font-style:italic;'>Meteora</span> (rock formations & monasteries)</li>\n",
    "      <li>Samaria Gorge</li>\n",
    "      <li>Navagio Beach (Zakynthos)</li>\n",
    "    </ul>\n",
    "  </li>\n",
    "</ul>"
   ]
  },
  {
   "cell_type": "markdown",
   "id": "2d50f0ccd023b523",
   "metadata": {},
   "source": [
    "### Table of Islands by Size\n",
    "| Island | Area (km²) |\n",
    "|--------|------------|\n",
    "| Crete | 8,336 |\n",
    "| Evia | 3,670 |\n",
    "| Lesbos | 1,630 |\n",
    "| Rhodes | 1,400 |\n"
   ]
  },
  {
   "cell_type": "markdown",
   "id": "573fc3bdf38d920",
   "metadata": {},
   "source": [
    "## Links\n",
    "- [Official Tourism Website](https://www.visitgreece.gr)\n"
   ]
  },
  {
   "metadata": {},
   "cell_type": "markdown",
   "source": [
    "Реалізувати гіпотезу Гольдбаха, що стверджує,\n",
    "що будь-яке парне число (окрім 2) може бути\n",
    "представлене у вигляді суми двох простих\n",
    "чисел."
   ],
   "id": "dc88e381a586a966"
  },
  {
   "cell_type": "code",
   "execution_count": 2,
   "id": "74deafa8ccc592ef",
   "metadata": {
    "ExecuteTime": {
     "end_time": "2025-04-19T12:17:10.521711Z",
     "start_time": "2025-04-19T12:17:10.519268Z"
    }
   },
   "outputs": [],
   "source": [
    "def is_prime(n):\n",
    "    \"\"\"Check if n is a prime number.\"\"\"\n",
    "    if not isinstance(n, int) or n < 2:\n",
    "        return False\n",
    "    if n == 2:\n",
    "        return True\n",
    "    if n % 2 == 0:\n",
    "        return False\n",
    "    p = 3\n",
    "    while p * p <= n:\n",
    "        if n % p == 0:\n",
    "            return False\n",
    "        p += 2\n",
    "    return True"
   ]
  },
  {
   "cell_type": "code",
   "execution_count": 3,
   "id": "a28881ef9879d392",
   "metadata": {
    "ExecuteTime": {
     "end_time": "2025-04-19T12:17:11.120066Z",
     "start_time": "2025-04-19T12:17:11.117756Z"
    }
   },
   "outputs": [],
   "source": [
    "def goldbach(n):\n",
    "    \"\"\"\n",
    "    Return two prime numbers (p, q) such that p + q = n for even n > 2.\n",
    "    Raises ValueError for invalid inputs.\n",
    "    \"\"\"\n",
    "    if not isinstance(n, int):\n",
    "        raise ValueError(f\"Input must be an integer, got {type(n).__name__}.\")\n",
    "    if n <= 2 or n % 2 != 0:\n",
    "        raise ValueError(f\"Input must be an even integer greater than 2, got {n}.\")\n",
    "    for p in range(2, n):\n",
    "        q = n - p\n",
    "        if is_prime(p) and is_prime(q):\n",
    "            return p, q\n",
    "    raise AssertionError(f\"Goldbach decomposition not found for {n}.\")"
   ]
  },
  {
   "cell_type": "code",
   "execution_count": 4,
   "id": "74c1ce87f62987cc",
   "metadata": {
    "ExecuteTime": {
     "end_time": "2025-04-19T12:17:11.683957Z",
     "start_time": "2025-04-19T12:17:11.642314Z"
    }
   },
   "outputs": [
    {
     "name": "stdout",
     "output_type": "stream",
     "text": [
      "Goldbach tests passed for [4, 28, 100]\n",
      "Correctly raised ValueError for input 3: Input must be an even integer greater than 2, got 3.\n",
      "Correctly raised ValueError for input 2: Input must be an even integer greater than 2, got 2.\n",
      "Correctly raised ValueError for input -4: Input must be an even integer greater than 2, got -4.\n",
      "Correctly raised ValueError for input 5.5: Input must be an integer, got float.\n",
      "Correctly raised ValueError for input 10: Input must be an integer, got str.\n"
     ]
    }
   ],
   "source": [
    "# Test cases for goldbach function\n",
    "test_values = [4, 28, 100]\n",
    "for val in test_values:\n",
    "    p, q = goldbach(val)\n",
    "    assert p + q == val and is_prime(p) and is_prime(q), \\\n",
    "        f\"Failed for {val}: got ({p}, {q})\"\n",
    "print(\"Goldbach tests passed for\", test_values)\n",
    "\n",
    "# Test invalid inputs\n",
    "import pytest\n",
    "for invalid in [3, 2, -4, 5.5, '10']:\n",
    "    try:\n",
    "        goldbach(invalid)\n",
    "    except ValueError as e:\n",
    "        print(f\"Correctly raised ValueError for input {invalid}: {e}\")\n",
    "    else:\n",
    "        raise AssertionError(f\"goldbach() did not raise for invalid input {invalid}.\")"
   ]
  },
  {
   "cell_type": "code",
   "execution_count": null,
   "id": "f48fd7dc5b1e7dd",
   "metadata": {},
   "outputs": [],
   "source": []
  }
 ],
 "metadata": {
  "kernelspec": {
   "display_name": "Python 3 (ipykernel)",
   "language": "python",
   "name": "python3"
  },
  "language_info": {
   "codemirror_mode": {
    "name": "ipython",
    "version": 3
   },
   "file_extension": ".py",
   "mimetype": "text/x-python",
   "name": "python",
   "nbconvert_exporter": "python",
   "pygments_lexer": "ipython3",
   "version": "3.10.15"
  }
 },
 "nbformat": 4,
 "nbformat_minor": 5
}
