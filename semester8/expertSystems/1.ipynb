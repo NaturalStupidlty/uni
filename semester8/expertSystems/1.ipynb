{
 "cells": [
  {
   "cell_type": "code",
   "id": "initial_id",
   "metadata": {
    "collapsed": true,
    "ExecuteTime": {
     "end_time": "2025-01-29T18:18:23.432470Z",
     "start_time": "2025-01-29T18:18:23.075471Z"
    }
   },
   "source": "import pandas as pd",
   "outputs": [],
   "execution_count": 1
  },
  {
   "metadata": {
    "ExecuteTime": {
     "end_time": "2025-01-29T18:33:32.692507Z",
     "start_time": "2025-01-29T18:33:32.662693Z"
    }
   },
   "cell_type": "code",
   "source": [
    "# 1. Read the data\n",
    "column_names = [\n",
    "    \"age\", \"workclass\", \"fnlwgt\", \"education\", \"education-num\",\n",
    "    \"marital-status\", \"occupation\", \"relationship\", \"race\", \"sex\",\n",
    "    \"capital-gain\", \"capital-loss\", \"hours-per-week\", \"native-country\", \"salary\"\n",
    "]\n",
    "\n",
    "df = pd.read_csv(\"../assets/adult.data.csv\", names=column_names, na_values=' ?',\n",
    "                 skipinitialspace=True)\n",
    "\n",
    "df.drop(index=0, inplace=True)  # Drop the first row as it contains the column names\n",
    "\n",
    "print(df.shape)"
   ],
   "id": "38b249ab0c306dcf",
   "outputs": [
    {
     "name": "stdout",
     "output_type": "stream",
     "text": [
      "(32561, 15)\n"
     ]
    }
   ],
   "execution_count": 50
  },
  {
   "metadata": {},
   "cell_type": "markdown",
   "source": "1. Скільки бакалаврів та магістрів (ознака education) представлено в цьому наборі даних?",
   "id": "939ab04bb41fbaca"
  },
  {
   "metadata": {
    "ExecuteTime": {
     "end_time": "2025-01-29T18:33:41.988503Z",
     "start_time": "2025-01-29T18:33:41.983319Z"
    }
   },
   "cell_type": "code",
   "source": [
    "bachelors_count = df[df['education'] == 'Bachelors'].shape[0]\n",
    "masters_count   = df[df['education'] == 'Masters'].shape[0]\n",
    "\n",
    "print(\"Bachelors:\", bachelors_count)\n",
    "print(\"Masters:\", masters_count)"
   ],
   "id": "2f40ebb36da7fb43",
   "outputs": [
    {
     "name": "stdout",
     "output_type": "stream",
     "text": [
      "Bachelors: 5355\n",
      "Masters: 1723\n"
     ]
    }
   ],
   "execution_count": 52
  },
  {
   "metadata": {},
   "cell_type": "markdown",
   "source": "2. Який середній вік громадян Сполучених Штатів Америки (ознака native-country)?",
   "id": "f6b418b91af13ec4"
  },
  {
   "metadata": {
    "ExecuteTime": {
     "end_time": "2025-01-29T18:33:48.806635Z",
     "start_time": "2025-01-29T18:33:48.794227Z"
    }
   },
   "cell_type": "code",
   "source": [
    "df = df.astype({'age': 'int32'})\n",
    "\n",
    "avg_age_us = df[df['native-country'] == 'United-States']['age'].mean()\n",
    "print(avg_age_us)"
   ],
   "id": "2a4fe76538b8ea2a",
   "outputs": [
    {
     "name": "stdout",
     "output_type": "stream",
     "text": [
      "38.65567363729859\n"
     ]
    }
   ],
   "execution_count": 53
  },
  {
   "metadata": {},
   "cell_type": "markdown",
   "source": "3. Яка частка громадян Куби (ознака native-country)?",
   "id": "8f2f24bdf8f1ea06"
  },
  {
   "metadata": {
    "ExecuteTime": {
     "end_time": "2025-01-29T18:33:52.479791Z",
     "start_time": "2025-01-29T18:33:52.476428Z"
    }
   },
   "cell_type": "code",
   "source": [
    "total_count = len(df)\n",
    "cuba_count  = (df['native-country'] == 'Cuba').sum()\n",
    "cuba_proportion = cuba_count / total_count\n",
    "\n",
    "print(\"Number of Cuban nationals:\", cuba_count)\n",
    "print(\"Proportion of Cuban nationals:\", cuba_proportion)"
   ],
   "id": "cae29eb9a8737047",
   "outputs": [
    {
     "name": "stdout",
     "output_type": "stream",
     "text": [
      "Number of Cuban nationals: 95\n",
      "Proportion of Cuban nationals: 0.0029176008107859096\n"
     ]
    }
   ],
   "execution_count": 54
  },
  {
   "metadata": {},
   "cell_type": "markdown",
   "source": [
    "4. Які середні значення та середньоквадратичні відхилення віку для білої та чорної рас (ознака\n",
    "race)?"
   ],
   "id": "623a20559eaf3ed7"
  },
  {
   "metadata": {
    "ExecuteTime": {
     "end_time": "2025-01-29T18:33:56.456131Z",
     "start_time": "2025-01-29T18:33:56.452307Z"
    }
   },
   "cell_type": "code",
   "source": [
    "race_stats = df.groupby('race')['age'].agg(['mean', 'std'])\n",
    "white_mean = race_stats.loc['White', 'mean']\n",
    "white_std  = race_stats.loc['White', 'std']\n",
    "black_mean = race_stats.loc['Black', 'mean']\n",
    "black_std  = race_stats.loc['Black', 'std']\n",
    "\n",
    "print(\"White -- mean age:\", white_mean,  \"std:\", white_std)\n",
    "print(\"Black -- mean age:\", black_mean,  \"std:\", black_std)"
   ],
   "id": "2369c992021ae78",
   "outputs": [
    {
     "name": "stdout",
     "output_type": "stream",
     "text": [
      "White -- mean age: 38.76988064423354 std: 13.782306359178051\n",
      "Black -- mean age: 37.7679257362356 std: 12.759289573948983\n"
     ]
    }
   ],
   "execution_count": 56
  },
  {
   "metadata": {},
   "cell_type": "markdown",
   "source": [
    "5. Чи правда, що громадяни Ямайки працюють не менше 40 годин на тиждень (ознака hours-per-\n",
    "week)?"
   ],
   "id": "3976f4f079e1e522"
  },
  {
   "metadata": {
    "ExecuteTime": {
     "end_time": "2025-01-29T18:33:56.931123Z",
     "start_time": "2025-01-29T18:33:56.923836Z"
    }
   },
   "cell_type": "code",
   "source": [
    "df = df.astype({'hours-per-week': 'int32'})\n",
    "\n",
    "jamaica_hours = df[df['native-country'] == 'Jamaica']['hours-per-week']\n",
    "jamaica_min_hours = jamaica_hours.min()\n",
    "\n",
    "if jamaica_min_hours >= 40:\n",
    "    print(\"громадяни Ямайки працюють не менше 40 годин на тиждень\")\n",
    "else:\n",
    "    print(\"громадяни Ямайки не працюють не менше 40 годин на тиждень\")"
   ],
   "id": "2b31ef9437982ef0",
   "outputs": [
    {
     "name": "stdout",
     "output_type": "stream",
     "text": [
      "громадяни Ямайки не працюють не менше 40 годин на тиждень\n"
     ]
    }
   ],
   "execution_count": 57
  },
  {
   "metadata": {},
   "cell_type": "markdown",
   "source": [
    "6. Виведіть статистику годин на тиждень для кожної раси (ознака race) та зарплати (ознака\n",
    "salary). Використовуйте groupby та describe. Знайдіть мінімальну кількість годин, яку\n",
    "працюють люди раси Asian-Pac-Islander з високою зарплатнею (більше 50К)."
   ],
   "id": "a344edd5980e483a"
  },
  {
   "metadata": {
    "ExecuteTime": {
     "end_time": "2025-01-29T18:33:57.720613Z",
     "start_time": "2025-01-29T18:33:57.706712Z"
    }
   },
   "cell_type": "code",
   "source": [
    "group_stats = df.groupby(['race','salary'])['hours-per-week'].describe()\n",
    "print(group_stats)"
   ],
   "id": "82657af08afbfd8f",
   "outputs": [
    {
     "name": "stdout",
     "output_type": "stream",
     "text": [
      "                             count       mean        std   min   25%   50%  \\\n",
      "race               salary                                                    \n",
      "Amer-Indian-Eskimo <=50K     275.0  39.410909  11.782482   3.0  40.0  40.0   \n",
      "                   >50K       36.0  44.916667   9.854296  20.0  40.0  40.0   \n",
      "Asian-Pac-Islander <=50K     763.0  38.425950  12.614856   1.0  36.0  40.0   \n",
      "                   >50K      276.0  44.829710  11.134385   5.0  40.0  40.0   \n",
      "Black              <=50K    2737.0  37.580197   9.957707   1.0  35.0  40.0   \n",
      "                   >50K      387.0  44.382429  10.838834   2.0  40.0  40.0   \n",
      "Other              <=50K     246.0  38.914634  11.173805   5.0  35.0  40.0   \n",
      "                   >50K       25.0  44.920000   9.402659  30.0  40.0  40.0   \n",
      "White              <=50K   20699.0  39.013624  12.597917   1.0  35.0  40.0   \n",
      "                   >50K     7117.0  45.562035  11.026999   1.0  40.0  42.0   \n",
      "\n",
      "                            75%   max  \n",
      "race               salary              \n",
      "Amer-Indian-Eskimo <=50K   40.0  84.0  \n",
      "                   >50K    50.0  70.0  \n",
      "Asian-Pac-Islander <=50K   40.0  99.0  \n",
      "                   >50K    50.0  99.0  \n",
      "Black              <=50K   40.0  99.0  \n",
      "                   >50K    49.0  99.0  \n",
      "Other              <=50K   40.0  98.0  \n",
      "                   >50K    50.0  70.0  \n",
      "White              <=50K   40.0  99.0  \n",
      "                   >50K    50.0  99.0  \n"
     ]
    }
   ],
   "execution_count": 58
  },
  {
   "metadata": {
    "ExecuteTime": {
     "end_time": "2025-01-29T18:33:58.216208Z",
     "start_time": "2025-01-29T18:33:58.211652Z"
    }
   },
   "cell_type": "code",
   "source": [
    "mask = (df['race'] == 'Asian-Pac-Islander') & (df['salary'] == '>50K')\n",
    "asian_pac_high_salary_min = df.loc[mask, 'hours-per-week'].min()\n",
    "print(\"(Asian-Pac-Islander, >50K):\", asian_pac_high_salary_min)"
   ],
   "id": "be6ed2490ad7b3eb",
   "outputs": [
    {
     "name": "stdout",
     "output_type": "stream",
     "text": [
      "(Asian-Pac-Islander, >50K): 5\n"
     ]
    }
   ],
   "execution_count": 59
  },
  {
   "metadata": {},
   "cell_type": "markdown",
   "source": [
    "7. Серед кого більша частка з високою зарплатнею (>50K): серед людей з вищою освітою чи ні?\n",
    "Люди з вищою освітою – ті, що мають ознаку education однією з таких: Bachelors, Prof-school,\n",
    "Assoc-acdm, Assoc-voc, Masters, Doctorate."
   ],
   "id": "c18702543bd58577"
  },
  {
   "metadata": {
    "ExecuteTime": {
     "end_time": "2025-01-29T18:33:58.268197Z",
     "start_time": "2025-01-29T18:33:58.266243Z"
    }
   },
   "cell_type": "code",
   "source": "[\"Bachelors\", \"Prof-school\", \"Assoc-acdm\", \"Assoc-voc\", \"Masters\", \"Doctorate\"]\n",
   "id": "d6650c3de6ebc589",
   "outputs": [
    {
     "data": {
      "text/plain": [
       "['Bachelors', 'Prof-school', 'Assoc-acdm', 'Assoc-voc', 'Masters', 'Doctorate']"
      ]
     },
     "execution_count": 60,
     "metadata": {},
     "output_type": "execute_result"
    }
   ],
   "execution_count": 60
  },
  {
   "metadata": {
    "ExecuteTime": {
     "end_time": "2025-01-29T18:33:58.309758Z",
     "start_time": "2025-01-29T18:33:58.301276Z"
    }
   },
   "cell_type": "code",
   "source": [
    "higher_edu = [\"Bachelors\", \"Prof-school\", \"Assoc-acdm\", \"Assoc-voc\", \"Masters\", \"Doctorate\"]\n",
    "\n",
    "df['higher_education'] = df['education'].isin(higher_edu)\n",
    "\n",
    "high_edu_df   = df[df['higher_education']]\n",
    "low_edu_df    = df[~df['higher_education']]\n",
    "\n",
    "high_edu_rich = high_edu_df[high_edu_df['salary'] == '>50K'].shape[0] / high_edu_df.shape[0]\n",
    "low_edu_rich  = low_edu_df[low_edu_df['salary'] == '>50K'].shape[0] / low_edu_df.shape[0]\n",
    "\n",
    "print(\"Proportion of >50K among higher-educated:\", high_edu_rich)\n",
    "print(\"Proportion of >50K among lower-educated:\", low_edu_rich)\n"
   ],
   "id": "489d2e105ce024b4",
   "outputs": [
    {
     "name": "stdout",
     "output_type": "stream",
     "text": [
      "Proportion of >50K among higher-educated: 0.4312476226702168\n",
      "Proportion of >50K among lower-educated: 0.14996597867997277\n"
     ]
    }
   ],
   "execution_count": 61
  },
  {
   "metadata": {},
   "cell_type": "markdown",
   "source": [
    "8. Який мінімальний вік людей з цього набору даних? Скільки людей цього віку та який серед\n",
    "них відсоток жінок, які заробляють більше 50К?"
   ],
   "id": "496b9ab304421239"
  },
  {
   "metadata": {
    "ExecuteTime": {
     "end_time": "2025-01-29T18:33:58.393879Z",
     "start_time": "2025-01-29T18:33:58.390208Z"
    }
   },
   "cell_type": "code",
   "source": [
    "min_age = df['age'].min()\n",
    "min_age_df = df[df['age'] == min_age]\n",
    "\n",
    "count_min_age = min_age_df.shape[0]\n",
    "count_min_age_female = (min_age_df['sex'] == 'Female').sum()\n",
    "\n",
    "percent_female_min_age = 100.0 * count_min_age_female / count_min_age\n",
    "\n",
    "# Among the min-age group who are women, how many earn >50K?\n",
    "min_age_female_rich = min_age_df[\n",
    "    (min_age_df['sex'] == 'Female') & (min_age_df['salary'] == '>50K')\n",
    "].shape[0]\n",
    "\n",
    "if count_min_age_female > 0:\n",
    "    percent_female_rich = 100.0 * min_age_female_rich / count_min_age_female\n",
    "else:\n",
    "    percent_female_rich = 0  # or NaN, if there are no women in that group\n",
    "\n",
    "print(\"Minimum age in dataset:\", min_age)\n",
    "print(\"Number of people with min age:\", count_min_age)\n",
    "print(\"Percentage of women among them: {:.2f}%\".format(percent_female_min_age))\n",
    "print(\"Percentage of those women who earn >50K: {:.2f}%\".format(percent_female_rich))\n"
   ],
   "id": "6341630a41738421",
   "outputs": [
    {
     "name": "stdout",
     "output_type": "stream",
     "text": [
      "Minimum age in dataset: 17\n",
      "Number of people with min age: 395\n",
      "Percentage of women among them: 47.09%\n",
      "Percentage of those women who earn >50K: 0.00%\n"
     ]
    }
   ],
   "execution_count": 62
  },
  {
   "metadata": {},
   "cell_type": "markdown",
   "source": [
    "9. Порахуйте середньоквадратичне відхилення чоловіків та жінок для кожного значення ознаки\n",
    "relationship."
   ],
   "id": "4b3a784ccccbd096"
  },
  {
   "metadata": {
    "ExecuteTime": {
     "end_time": "2025-01-29T18:33:58.429291Z",
     "start_time": "2025-01-29T18:33:58.425184Z"
    }
   },
   "cell_type": "code",
   "source": [
    "std_by_relationship_sex = df.groupby(['relationship','sex'])['age'].std()\n",
    "print(std_by_relationship_sex)"
   ],
   "id": "22435aa53649087a",
   "outputs": [
    {
     "name": "stdout",
     "output_type": "stream",
     "text": [
      "relationship    sex   \n",
      "Husband         Female          NaN\n",
      "                Male      12.024501\n",
      "Not-in-family   Female    15.033271\n",
      "                Male      12.546099\n",
      "Other-relative  Female    16.091400\n",
      "                Male      11.803060\n",
      "Own-child       Female     8.375150\n",
      "                Male       7.901183\n",
      "Unmarried       Female    11.366622\n",
      "                Male      12.297476\n",
      "Wife            Female    11.231101\n",
      "                Male       4.949747\n",
      "Name: age, dtype: float64\n"
     ]
    }
   ],
   "execution_count": 63
  }
 ],
 "metadata": {
  "kernelspec": {
   "display_name": "Python 3",
   "language": "python",
   "name": "python3"
  },
  "language_info": {
   "codemirror_mode": {
    "name": "ipython",
    "version": 2
   },
   "file_extension": ".py",
   "mimetype": "text/x-python",
   "name": "python",
   "nbconvert_exporter": "python",
   "pygments_lexer": "ipython2",
   "version": "2.7.6"
  }
 },
 "nbformat": 4,
 "nbformat_minor": 5
}
