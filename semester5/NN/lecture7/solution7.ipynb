{
 "metadata": {
  "kernelspec": {
   "display_name": "Python 3",
   "language": "python",
   "name": "python3"
  },
  "language_info": {
   "name": "python",
   "version": "3.10.12",
   "mimetype": "text/x-python",
   "codemirror_mode": {
    "name": "ipython",
    "version": 3
   },
   "pygments_lexer": "ipython3",
   "nbconvert_exporter": "python",
   "file_extension": ".py"
  },
  "colab": {
   "provenance": []
  }
 },
 "nbformat_minor": 4,
 "nbformat": 4,
 "cells": [
  {
   "cell_type": "code",
   "source": [
    "import torch\n",
    "import torch.nn as nn\n",
    "import numpy as np\n",
    "import torch.optim as optim\n",
    "from torchvision import datasets, transforms\n",
    "from sklearn.metrics import precision_score, recall_score\n",
    "from torch.utils.data import DataLoader"
   ],
   "metadata": {
    "pycharm": {
     "name": "#%%\n",
     "is_executing": true
    },
    "id": "hcFvgRGJ8cit",
    "execution": {
     "iopub.status.busy": "2023-10-18T19:43:44.243444Z",
     "iopub.execute_input": "2023-10-18T19:43:44.243731Z",
     "iopub.status.idle": "2023-10-18T19:43:44.247727Z",
     "shell.execute_reply.started": "2023-10-18T19:43:44.243709Z",
     "shell.execute_reply": "2023-10-18T19:43:44.246948Z"
    },
    "trusted": true
   },
   "execution_count": 10,
   "outputs": []
  },
  {
   "cell_type": "code",
   "source": [
    "class Perceptron(nn.Module):\n",
    "    def __init__(self):\n",
    "        super(Perceptron, self).__init__()\n",
    "\n",
    "        self.fc1 = nn.Linear(28*28, 512)\n",
    "        self.bn1 = nn.BatchNorm1d(512)\n",
    "        self.fc2 = nn.Linear(512, 256)\n",
    "        self.bn2 = nn.BatchNorm1d(256)\n",
    "        self.fc3 = nn.Linear(256, 10)\n",
    "        self.softmax = nn.Softmax(dim=1)\n",
    "\n",
    "    def forward(self, x):\n",
    "        x = x.view(-1, 28*28)\n",
    "        x = torch.relu(self.bn1(self.fc1(x)))\n",
    "        x = torch.relu(self.bn2(self.fc2(x)))\n",
    "        x = self.fc3(x)\n",
    "\n",
    "        return self.softmax(x)"
   ],
   "metadata": {
    "pycharm": {
     "name": "#%%\n"
    },
    "id": "Z0gy8U188cix",
    "execution": {
     "iopub.status.busy": "2023-10-18T19:41:41.987888Z",
     "iopub.execute_input": "2023-10-18T19:41:41.988219Z",
     "iopub.status.idle": "2023-10-18T19:41:41.996113Z",
     "shell.execute_reply.started": "2023-10-18T19:41:41.988198Z",
     "shell.execute_reply": "2023-10-18T19:41:41.995337Z"
    },
    "trusted": true
   },
   "execution_count": 2,
   "outputs": []
  },
  {
   "cell_type": "code",
   "source": [
    "def compute_metrics(targets, outputs):\n",
    "    outputs = np.argmax(outputs, axis=1)\n",
    "    targets = np.array(targets)\n",
    "    precision = precision_score(targets, outputs, average=\"weighted\")\n",
    "    recall = recall_score(targets, outputs, average=\"weighted\")\n",
    "\n",
    "    return precision, recall"
   ],
   "metadata": {
    "pycharm": {
     "name": "#%%\n"
    },
    "id": "BEUbKC5K8cix",
    "execution": {
     "iopub.status.busy": "2023-10-18T19:41:41.996807Z",
     "iopub.execute_input": "2023-10-18T19:41:41.997038Z",
     "iopub.status.idle": "2023-10-18T19:41:42.010503Z",
     "shell.execute_reply.started": "2023-10-18T19:41:41.997018Z",
     "shell.execute_reply": "2023-10-18T19:41:42.009798Z"
    },
    "trusted": true
   },
   "execution_count": 3,
   "outputs": []
  },
  {
   "cell_type": "code",
   "source": [
    "def create_dataset(batch_size: int = 64):\n",
    "    transform = transforms.Compose([transforms.ToTensor(),\n",
    "                                    transforms.Normalize((0.5,), (0.5,))])\n",
    "\n",
    "    train_dataset = datasets.MNIST(root='./data', train=True, transform=transform, download=True)\n",
    "    test_dataset = datasets.MNIST(root='./data', train=False, transform=transform, download=True)\n",
    "\n",
    "    train_loader = DataLoader(train_dataset, batch_size=batch_size, shuffle=True)\n",
    "    test_loader = DataLoader(test_dataset, batch_size=batch_size)\n",
    "\n",
    "    return train_loader, test_loader"
   ],
   "metadata": {
    "pycharm": {
     "name": "#%%\n"
    },
    "id": "X4Eb8DJN8ciy",
    "execution": {
     "iopub.status.busy": "2023-10-18T19:41:42.011283Z",
     "iopub.execute_input": "2023-10-18T19:41:42.011511Z",
     "iopub.status.idle": "2023-10-18T19:41:42.022961Z",
     "shell.execute_reply.started": "2023-10-18T19:41:42.011491Z",
     "shell.execute_reply": "2023-10-18T19:41:42.022119Z"
    },
    "trusted": true
   },
   "execution_count": 4,
   "outputs": []
  },
  {
   "cell_type": "code",
   "source": [
    "def train(train_loader, test_loader, optimizer = None, criterion = None, num_epochs = 10, verbose: bool = True):\n",
    "    model = Perceptron()\n",
    "\n",
    "    if optimizer is None:\n",
    "        optimizer = optim.Adam(model.parameters(), lr=0.001)\n",
    "    if criterion is None:\n",
    "        criterion = nn.CrossEntropyLoss()\n",
    "\n",
    "    for epoch in range(num_epochs):\n",
    "        model.train().to(\"cuda\")\n",
    "        for batch_idx, (data, target) in enumerate(train_loader):\n",
    "            optimizer.zero_grad()\n",
    "            output = model(data.to(\"cuda\"))\n",
    "            loss = criterion(output, target.to(\"cuda\"))\n",
    "            loss.backward()\n",
    "            optimizer.step()\n",
    "\n",
    "        model.eval().to(\"cuda\")\n",
    "        test_loss = 0\n",
    "        correct = 0\n",
    "        targets = []\n",
    "        outputs = []\n",
    "\n",
    "        with torch.no_grad():\n",
    "            for data, target in test_loader:\n",
    "                output = model(data.to(\"cuda\"))\n",
    "                test_loss += criterion(output, target.to(\"cuda\")).item()\n",
    "                pred = output.argmax(dim=1, keepdim=True).detach().cpu()\n",
    "                correct += pred.eq(target.view_as(pred)).sum().item()\n",
    "                targets.extend(target.detach().cpu().tolist())\n",
    "                outputs.extend(output.detach().cpu().tolist())\n",
    "\n",
    "        test_loss /= len(test_loader.dataset)\n",
    "        accuracy = 100. * correct / len(test_loader.dataset)\n",
    "\n",
    "        precision, recall = compute_metrics(targets, outputs)\n",
    "\n",
    "        print(f\"Epoch {epoch+1}/{num_epochs}:\")\n",
    "        print(f\"Test Loss: {test_loss:.4f}, Accuracy: {accuracy:.2f}%\")\n",
    "        print(f\"Precision: {precision:.4f}, Recall: {recall:.4f}\")\n",
    "\n",
    "    torch.save(model.state_dict(), 'perceptron.pth')"
   ],
   "metadata": {
    "pycharm": {
     "name": "#%%\n"
    },
    "id": "qB9fqMhx8ciy",
    "execution": {
     "iopub.status.busy": "2023-10-18T19:54:41.226299Z",
     "iopub.execute_input": "2023-10-18T19:54:41.226824Z",
     "iopub.status.idle": "2023-10-18T19:54:41.236483Z",
     "shell.execute_reply.started": "2023-10-18T19:54:41.226794Z",
     "shell.execute_reply": "2023-10-18T19:54:41.235369Z"
    },
    "trusted": true
   },
   "execution_count": 30,
   "outputs": []
  },
  {
   "cell_type": "code",
   "source": [
    "train_loader, test_loader = create_dataset()"
   ],
   "metadata": {
    "execution": {
     "iopub.status.busy": "2023-10-18T19:50:07.058334Z",
     "iopub.execute_input": "2023-10-18T19:50:07.059143Z",
     "iopub.status.idle": "2023-10-18T19:50:07.159694Z",
     "shell.execute_reply.started": "2023-10-18T19:50:07.059113Z",
     "shell.execute_reply": "2023-10-18T19:50:07.159032Z"
    },
    "trusted": true,
    "pycharm": {
     "name": "#%%\n"
    }
   },
   "execution_count": 20,
   "outputs": []
  },
  {
   "cell_type": "code",
   "source": [
    "train(train_loader, test_loader, num_epochs=10)"
   ],
   "metadata": {
    "pycharm": {
     "name": "#%%\n"
    },
    "colab": {
     "base_uri": "https://localhost:8080/"
    },
    "id": "s4BsCFNY8ciy",
    "outputId": "2cba15d9-50b0-4294-be9c-f35514703a2b"
   },
   "execution_count": 74,
   "outputs": [
    {
     "output_type": "stream",
     "name": "stdout",
     "text": "Epoch 1/10:\n\nTest Loss: 0.0236, Accuracy: 95.92%\n\nPrecision: 0.9603, Recall: 0.9592\n\nEpoch 2/10:\n\nTest Loss: 0.0234, Accuracy: 97.01%\n\nPrecision: 0.9703, Recall: 0.9701\n\nEpoch 3/10:\n\nTest Loss: 0.0234, Accuracy: 97.15%\n\nPrecision: 0.9720, Recall: 0.9715\n\nEpoch 4/10:\n\nTest Loss: 0.0233, Accuracy: 97.76%\n\nPrecision: 0.9776, Recall: 0.9776\n\nEpoch 5/10:\n\nTest Loss: 0.0233, Accuracy: 97.68%\n\nPrecision: 0.9769, Recall: 0.9768\n\nEpoch 6/10:\n\nTest Loss: 0.0233, Accuracy: 97.59%\n\nPrecision: 0.9759, Recall: 0.9759\n\nEpoch 7/10:\n\nTest Loss: 0.0233, Accuracy: 97.86%\n\nPrecision: 0.9787, Recall: 0.9786\n\nEpoch 8/10:\n\nTest Loss: 0.0233, Accuracy: 97.96%\n\nPrecision: 0.9797, Recall: 0.9796\n\nEpoch 9/10:\n\nTest Loss: 0.0233, Accuracy: 98.10%\n\nPrecision: 0.9812, Recall: 0.9810\n\nEpoch 10/10:\n\nTest Loss: 0.0232, Accuracy: 98.02%\n\nPrecision: 0.9803, Recall: 0.9802\n"
    }
   ]
  },
  {
   "cell_type": "markdown",
   "source": [
    "1. Використайте різну кількість нейронів на вхідному шарі:"
   ],
   "metadata": {
    "id": "Nt_K81i5SBDK",
    "pycharm": {
     "name": "#%% md\n"
    }
   }
  },
  {
   "cell_type": "markdown",
   "source": [
    "Перевизначемо модель"
   ],
   "metadata": {
    "id": "Q0AZXnS0L84a",
    "pycharm": {
     "name": "#%% md\n"
    }
   }
  },
  {
   "cell_type": "markdown",
   "source": [
    "400 нейронів у вхідному шарі (використовуємо лише частину вхідного забраження, відкинувши частину вектора фіч зліва та справа)"
   ],
   "metadata": {
    "id": "N68MVlu3N-yJ",
    "pycharm": {
     "name": "#%% md\n"
    }
   }
  },
  {
   "cell_type": "code",
   "source": [
    "class Perceptron(nn.Module):\n",
    "    def __init__(self):\n",
    "        super(Perceptron, self).__init__()\n",
    "\n",
    "        self.fc1 = nn.Linear(400, 512)\n",
    "        self.bn1 = nn.BatchNorm1d(512)\n",
    "        self.fc2 = nn.Linear(512, 256)\n",
    "        self.bn2 = nn.BatchNorm1d(256)\n",
    "        self.fc3 = nn.Linear(256, 10)\n",
    "        self.softmax = nn.Softmax(dim=1)\n",
    "\n",
    "    def forward(self, x):\n",
    "        x = x.view(-1, 28*28)\n",
    "        slice_start = (28*28 - 400) // 2\n",
    "        slice_end = slice_start + 400\n",
    "        x = x[:, slice_start: slice_end]\n",
    "        x = torch.relu(self.bn1(self.fc1(x)))\n",
    "        x = torch.relu(self.bn2(self.fc2(x)))\n",
    "        x = self.fc3(x)\n",
    "\n",
    "        return self.softmax(x)"
   ],
   "metadata": {
    "id": "-F96_SoIN9It",
    "pycharm": {
     "name": "#%%\n"
    }
   },
   "execution_count": 96,
   "outputs": []
  },
  {
   "cell_type": "code",
   "source": [
    "train(train_loader, test_loader, num_epochs=10)"
   ],
   "metadata": {
    "colab": {
     "base_uri": "https://localhost:8080/"
    },
    "id": "VM1oerxiO8-c",
    "outputId": "8dad8763-de54-4901-f2a5-1e910733ee89",
    "pycharm": {
     "name": "#%%\n"
    }
   },
   "execution_count": 97,
   "outputs": [
    {
     "output_type": "stream",
     "name": "stdout",
     "text": "Epoch 1/10:\n\nTest Loss: 0.0238, Accuracy: 94.93%\n\nPrecision: 0.9502, Recall: 0.9493\n\nEpoch 2/10:\n\nTest Loss: 0.0236, Accuracy: 96.19%\n\nPrecision: 0.9621, Recall: 0.9619\n\nEpoch 3/10:\n\nTest Loss: 0.0235, Accuracy: 96.61%\n\nPrecision: 0.9662, Recall: 0.9661\n\nEpoch 4/10:\n\nTest Loss: 0.0235, Accuracy: 96.53%\n\nPrecision: 0.9656, Recall: 0.9653\n\nEpoch 5/10:\n\nTest Loss: 0.0234, Accuracy: 96.93%\n\nPrecision: 0.9694, Recall: 0.9693\n\nEpoch 6/10:\n\nTest Loss: 0.0234, Accuracy: 96.87%\n\nPrecision: 0.9688, Recall: 0.9687\n\nEpoch 7/10:\n\nTest Loss: 0.0234, Accuracy: 96.99%\n\nPrecision: 0.9699, Recall: 0.9699\n\nEpoch 8/10:\n\nTest Loss: 0.0234, Accuracy: 97.15%\n\nPrecision: 0.9715, Recall: 0.9715\n\nEpoch 9/10:\n\nTest Loss: 0.0234, Accuracy: 97.13%\n\nPrecision: 0.9714, Recall: 0.9713\n\nEpoch 10/10:\n\nTest Loss: 0.0234, Accuracy: 97.32%\n\nPrecision: 0.9734, Recall: 0.9732\n"
    }
   ]
  },
  {
   "cell_type": "markdown",
   "source": [
    "Метрики впали, через те, що модель втратила частину інформації з вхідних даних. Сенсу у зменшенні вхідного шару у нашому випадку небагато. З позитивних моментів можна виділити лише швидше навчання моделі."
   ],
   "metadata": {
    "id": "OXE3kDOlRcWw",
    "pycharm": {
     "name": "#%% md\n"
    }
   }
  },
  {
   "cell_type": "markdown",
   "source": [
    "1200 нейронів у вхідному шарі"
   ],
   "metadata": {
    "id": "4OpdQkxzNtFf",
    "pycharm": {
     "name": "#%% md\n"
    }
   }
  },
  {
   "cell_type": "code",
   "source": [
    "class Perceptron(nn.Module):\n",
    "    def __init__(self):\n",
    "        super(Perceptron, self).__init__()\n",
    "\n",
    "        self.fc1 = nn.Linear(1200, 512)\n",
    "        self.bn1 = nn.BatchNorm1d(512)\n",
    "        self.fc2 = nn.Linear(512, 256)\n",
    "        self.bn2 = nn.BatchNorm1d(256)\n",
    "        self.fc3 = nn.Linear(256, 10)\n",
    "        self.softmax = nn.Softmax(dim=1)\n",
    "\n",
    "    def forward(self, x):\n",
    "        x = x.view(-1, 28*28)\n",
    "        x = torch.nn.functional.pad(x, (0, 1200 - 28*28), mode='constant', value=0)\n",
    "        x = torch.relu(self.bn1(self.fc1(x)))\n",
    "        x = torch.relu(self.bn2(self.fc2(x)))\n",
    "        x = self.fc3(x)\n",
    "\n",
    "        return self.softmax(x)"
   ],
   "metadata": {
    "id": "MfbDbarb8jub",
    "pycharm": {
     "name": "#%%\n"
    }
   },
   "execution_count": 81,
   "outputs": []
  },
  {
   "cell_type": "code",
   "source": [
    "train(train_loader, test_loader, num_epochs=10)"
   ],
   "metadata": {
    "colab": {
     "base_uri": "https://localhost:8080/"
    },
    "id": "zWpjc0TWMZBp",
    "outputId": "8f9a39b5-9fb3-43b3-c521-df3e24466518",
    "pycharm": {
     "name": "#%%\n"
    }
   },
   "execution_count": 82,
   "outputs": [
    {
     "output_type": "stream",
     "name": "stdout",
     "text": "Epoch 1/10:\n\nTest Loss: 0.0235, Accuracy: 96.62%\n\nPrecision: 0.9664, Recall: 0.9662\n\nEpoch 2/10:\n\nTest Loss: 0.0234, Accuracy: 97.13%\n\nPrecision: 0.9714, Recall: 0.9713\n\nEpoch 3/10:\n\nTest Loss: 0.0234, Accuracy: 97.48%\n\nPrecision: 0.9749, Recall: 0.9748\n\nEpoch 4/10:\n\nTest Loss: 0.0234, Accuracy: 97.19%\n\nPrecision: 0.9721, Recall: 0.9719\n\nEpoch 5/10:\n\nTest Loss: 0.0233, Accuracy: 97.69%\n\nPrecision: 0.9770, Recall: 0.9769\n\nEpoch 6/10:\n\nTest Loss: 0.0233, Accuracy: 97.96%\n\nPrecision: 0.9797, Recall: 0.9796\n\nEpoch 7/10:\n\nTest Loss: 0.0233, Accuracy: 97.75%\n\nPrecision: 0.9775, Recall: 0.9775\n\nEpoch 8/10:\n\nTest Loss: 0.0233, Accuracy: 97.52%\n\nPrecision: 0.9753, Recall: 0.9752\n\nEpoch 9/10:\n\nTest Loss: 0.0233, Accuracy: 97.88%\n\nPrecision: 0.9789, Recall: 0.9788\n\nEpoch 10/10:\n\nTest Loss: 0.0232, Accuracy: 98.22%\n\nPrecision: 0.9822, Recall: 0.9822\n"
    }
   ]
  },
  {
   "cell_type": "markdown",
   "source": [
    "метрики аналогічні, як і очікувалося. сенсу брати розмір вхідного шару іншим, ніж кількість пікселів на зображенні у даному випадку не раціонально."
   ],
   "metadata": {
    "id": "Xa8VmRIVRxXh",
    "pycharm": {
     "name": "#%% md\n"
    }
   }
  },
  {
   "cell_type": "markdown",
   "source": [
    "2. Додайте в нейронну мережу прихований шар з різною кількістю нейронів\n",
    "\n"
   ],
   "metadata": {
    "id": "fHu0WaDiR-LU",
    "pycharm": {
     "name": "#%% md\n"
    }
   }
  },
  {
   "cell_type": "markdown",
   "source": [
    "Збільшимо кілььість параметрів моделі за рахунок збільшення кількості нейронів у проміжних шарах"
   ],
   "metadata": {
    "execution": {
     "iopub.status.busy": "2023-10-18T20:03:35.224717Z",
     "iopub.execute_input": "2023-10-18T20:03:35.225332Z",
     "iopub.status.idle": "2023-10-18T20:03:35.230406Z",
     "shell.execute_reply.started": "2023-10-18T20:03:35.225300Z",
     "shell.execute_reply": "2023-10-18T20:03:35.229406Z"
    },
    "pycharm": {
     "name": "#%% md\n"
    }
   }
  },
  {
   "cell_type": "code",
   "source": [
    "class Perceptron(nn.Module):\n",
    "    def __init__(self):\n",
    "        super(Perceptron, self).__init__()\n",
    "\n",
    "        self.fc1 = nn.Linear(28*28, 28*28)\n",
    "        self.bn1 = nn.BatchNorm1d(28*28)\n",
    "        self.fc2 = nn.Linear(28*28, 28*28)\n",
    "        self.bn2 = nn.BatchNorm1d(28*28)\n",
    "        self.fc3 = nn.Linear(28*28, 10)\n",
    "        self.softmax = nn.Softmax(dim=1)\n",
    "\n",
    "    def forward(self, x):\n",
    "        x = x.view(-1, 28*28)\n",
    "        x = torch.relu(self.bn1(self.fc1(x)))\n",
    "        x = torch.relu(self.bn2(self.fc2(x)))\n",
    "        x = self.fc3(x)\n",
    "\n",
    "        return self.softmax(x)"
   ],
   "metadata": {
    "execution": {
     "iopub.status.busy": "2023-10-18T20:04:47.187845Z",
     "iopub.execute_input": "2023-10-18T20:04:47.188510Z",
     "iopub.status.idle": "2023-10-18T20:04:47.195036Z",
     "shell.execute_reply.started": "2023-10-18T20:04:47.188481Z",
     "shell.execute_reply": "2023-10-18T20:04:47.194171Z"
    },
    "trusted": true,
    "pycharm": {
     "name": "#%%\n"
    }
   },
   "execution_count": 33,
   "outputs": []
  },
  {
   "cell_type": "code",
   "source": [
    "train(train_loader, test_loader, num_epochs=10)"
   ],
   "metadata": {
    "execution": {
     "iopub.status.busy": "2023-10-18T20:04:55.610144Z",
     "iopub.execute_input": "2023-10-18T20:04:55.610978Z",
     "iopub.status.idle": "2023-10-18T20:07:14.389126Z",
     "shell.execute_reply.started": "2023-10-18T20:04:55.610945Z",
     "shell.execute_reply": "2023-10-18T20:07:14.388504Z"
    },
    "trusted": true,
    "pycharm": {
     "name": "#%%\n"
    }
   },
   "execution_count": 34,
   "outputs": [
    {
     "name": "stdout",
     "text": "Epoch 1/10:\nTest Loss: 0.0235, Accuracy: 96.37%\nPrecision: 0.9639, Recall: 0.9637\nEpoch 2/10:\nTest Loss: 0.0235, Accuracy: 96.76%\nPrecision: 0.9679, Recall: 0.9676\nEpoch 3/10:\nTest Loss: 0.0234, Accuracy: 97.19%\nPrecision: 0.9721, Recall: 0.9719\nEpoch 4/10:\nTest Loss: 0.0234, Accuracy: 97.29%\nPrecision: 0.9730, Recall: 0.9729\nEpoch 5/10:\nTest Loss: 0.0233, Accuracy: 97.42%\nPrecision: 0.9742, Recall: 0.9742\nEpoch 6/10:\nTest Loss: 0.0233, Accuracy: 97.65%\nPrecision: 0.9766, Recall: 0.9765\nEpoch 7/10:\nTest Loss: 0.0233, Accuracy: 97.56%\nPrecision: 0.9759, Recall: 0.9756\nEpoch 8/10:\nTest Loss: 0.0233, Accuracy: 97.69%\nPrecision: 0.9769, Recall: 0.9769\nEpoch 9/10:\nTest Loss: 0.0233, Accuracy: 97.77%\nPrecision: 0.9778, Recall: 0.9777\nEpoch 10/10:\nTest Loss: 0.0233, Accuracy: 97.88%\nPrecision: 0.9790, Recall: 0.9788\n",
     "output_type": "stream"
    }
   ]
  },
  {
   "cell_type": "markdown",
   "source": [
    "метрики погіршилися, це свідчиться про перенавчання моделі"
   ],
   "metadata": {
    "execution": {
     "iopub.status.busy": "2023-10-18T20:08:25.123690Z",
     "iopub.execute_input": "2023-10-18T20:08:25.124130Z",
     "iopub.status.idle": "2023-10-18T20:08:25.131234Z",
     "shell.execute_reply.started": "2023-10-18T20:08:25.124096Z",
     "shell.execute_reply": "2023-10-18T20:08:25.130288Z"
    },
    "pycharm": {
     "name": "#%% md\n"
    }
   }
  },
  {
   "cell_type": "markdown",
   "source": [
    "Зменшимо кількість нейронів у проміжних шарах"
   ],
   "metadata": {
    "id": "Jsh7LnHdR81K",
    "pycharm": {
     "name": "#%% md\n"
    }
   }
  },
  {
   "cell_type": "code",
   "source": [
    "class Perceptron(nn.Module):\n",
    "    def __init__(self):\n",
    "        super(Perceptron, self).__init__()\n",
    "\n",
    "        self.fc1 = nn.Linear(28*28, 400)\n",
    "        self.bn1 = nn.BatchNorm1d(400)\n",
    "        self.fc2 = nn.Linear(400, 200)\n",
    "        self.bn2 = nn.BatchNorm1d(200)\n",
    "        self.fc3 = nn.Linear(200, 10)\n",
    "        self.softmax = nn.Softmax(dim=1)\n",
    "\n",
    "    def forward(self, x):\n",
    "        x = x.view(-1, 28*28)\n",
    "        x = torch.relu(self.bn1(self.fc1(x)))\n",
    "        x = torch.relu(self.bn2(self.fc2(x)))\n",
    "        x = self.fc3(x)\n",
    "\n",
    "        return self.softmax(x)"
   ],
   "metadata": {
    "id": "JpenpLfCMnMw",
    "execution": {
     "iopub.status.busy": "2023-10-18T19:42:34.714649Z",
     "iopub.execute_input": "2023-10-18T19:42:34.715220Z",
     "iopub.status.idle": "2023-10-18T19:42:34.720508Z",
     "shell.execute_reply.started": "2023-10-18T19:42:34.715193Z",
     "shell.execute_reply": "2023-10-18T19:42:34.719695Z"
    },
    "trusted": true,
    "pycharm": {
     "name": "#%%\n"
    }
   },
   "execution_count": 6,
   "outputs": []
  },
  {
   "cell_type": "code",
   "source": [
    "train(train_loader, test_loader, num_epochs=10)"
   ],
   "metadata": {
    "colab": {
     "base_uri": "https://localhost:8080/"
    },
    "id": "8u8KPpdGSZ0F",
    "outputId": "cb249f1d-9e01-4db1-98db-05c63bad8a2b",
    "execution": {
     "iopub.status.busy": "2023-10-18T19:43:48.605180Z",
     "iopub.execute_input": "2023-10-18T19:43:48.605706Z",
     "iopub.status.idle": "2023-10-18T19:46:28.004563Z",
     "shell.execute_reply.started": "2023-10-18T19:43:48.605678Z",
     "shell.execute_reply": "2023-10-18T19:46:28.003869Z"
    },
    "trusted": true,
    "pycharm": {
     "name": "#%%\n"
    }
   },
   "execution_count": 11,
   "outputs": [
    {
     "name": "stdout",
     "text": "Epoch 1/10:\nTest Loss: 0.0236, Accuracy: 96.44%\nPrecision: 0.9646, Recall: 0.9644\nEpoch 2/10:\nTest Loss: 0.0235, Accuracy: 96.75%\nPrecision: 0.9678, Recall: 0.9675\nEpoch 3/10:\nTest Loss: 0.0234, Accuracy: 97.33%\nPrecision: 0.9734, Recall: 0.9733\nEpoch 4/10:\nTest Loss: 0.0233, Accuracy: 97.62%\nPrecision: 0.9763, Recall: 0.9762\nEpoch 5/10:\nTest Loss: 0.0233, Accuracy: 97.82%\nPrecision: 0.9784, Recall: 0.9782\nEpoch 6/10:\nTest Loss: 0.0233, Accuracy: 97.81%\nPrecision: 0.9782, Recall: 0.9781\nEpoch 7/10:\nTest Loss: 0.0233, Accuracy: 97.82%\nPrecision: 0.9782, Recall: 0.9782\nEpoch 8/10:\nTest Loss: 0.0233, Accuracy: 98.15%\nPrecision: 0.9815, Recall: 0.9815\nEpoch 9/10:\nTest Loss: 0.0232, Accuracy: 98.17%\nPrecision: 0.9817, Recall: 0.9817\nEpoch 10/10:\nTest Loss: 0.0232, Accuracy: 98.13%\nPrecision: 0.9814, Recall: 0.9813\n",
     "output_type": "stream"
    }
   ]
  },
  {
   "cell_type": "markdown",
   "source": [
    "Метрики залишилася на приблизно такому ж рівні (зменшилися на 0.08%), це значить що попередня модель можливо мала більшу складність ніж потрібно"
   ],
   "metadata": {
    "id": "Phxfr7fOSbMb",
    "pycharm": {
     "name": "#%% md\n"
    }
   }
  },
  {
   "cell_type": "markdown",
   "source": [
    "Зменшимо її розмір ще більше"
   ],
   "metadata": {
    "pycharm": {
     "name": "#%% md\n"
    }
   }
  },
  {
   "cell_type": "code",
   "source": [
    "class Perceptron(nn.Module):\n",
    "    def __init__(self):\n",
    "        super(Perceptron, self).__init__()\n",
    "\n",
    "        self.fc1 = nn.Linear(28*28, 200)\n",
    "        self.bn1 = nn.BatchNorm1d(200)\n",
    "        self.fc2 = nn.Linear(200, 100)\n",
    "        self.bn2 = nn.BatchNorm1d(100)\n",
    "        self.fc3 = nn.Linear(100, 10)\n",
    "        self.softmax = nn.Softmax(dim=1)\n",
    "\n",
    "    def forward(self, x):\n",
    "        x = x.view(-1, 28*28)\n",
    "        x = torch.relu(self.bn1(self.fc1(x)))\n",
    "        x = torch.relu(self.bn2(self.fc2(x)))\n",
    "        x = self.fc3(x)\n",
    "\n",
    "        return self.softmax(x)"
   ],
   "metadata": {
    "execution": {
     "iopub.status.busy": "2023-10-18T19:48:11.082359Z",
     "iopub.execute_input": "2023-10-18T19:48:11.082937Z",
     "iopub.status.idle": "2023-10-18T19:48:11.088128Z",
     "shell.execute_reply.started": "2023-10-18T19:48:11.082890Z",
     "shell.execute_reply": "2023-10-18T19:48:11.087287Z"
    },
    "trusted": true,
    "pycharm": {
     "name": "#%%\n"
    }
   },
   "execution_count": 13,
   "outputs": []
  },
  {
   "cell_type": "code",
   "source": [
    "train(train_loader, test_loader, num_epochs=10)"
   ],
   "metadata": {
    "execution": {
     "iopub.status.busy": "2023-10-18T19:54:44.821138Z",
     "iopub.execute_input": "2023-10-18T19:54:44.821725Z",
     "iopub.status.idle": "2023-10-18T19:57:14.379869Z",
     "shell.execute_reply.started": "2023-10-18T19:54:44.821696Z",
     "shell.execute_reply": "2023-10-18T19:57:14.379076Z"
    },
    "trusted": true,
    "pycharm": {
     "name": "#%%\n"
    }
   },
   "execution_count": 31,
   "outputs": [
    {
     "name": "stdout",
     "text": "Epoch 1/10:\nTest Loss: 0.0236, Accuracy: 96.48%\nPrecision: 0.9650, Recall: 0.9648\nEpoch 2/10:\nTest Loss: 0.0234, Accuracy: 97.00%\nPrecision: 0.9701, Recall: 0.9700\nEpoch 3/10:\nTest Loss: 0.0233, Accuracy: 97.63%\nPrecision: 0.9764, Recall: 0.9763\nEpoch 4/10:\nTest Loss: 0.0233, Accuracy: 97.61%\nPrecision: 0.9764, Recall: 0.9761\nEpoch 5/10:\nTest Loss: 0.0234, Accuracy: 97.49%\nPrecision: 0.9750, Recall: 0.9749\nEpoch 6/10:\nTest Loss: 0.0233, Accuracy: 97.90%\nPrecision: 0.9790, Recall: 0.9790\nEpoch 7/10:\nTest Loss: 0.0233, Accuracy: 97.92%\nPrecision: 0.9793, Recall: 0.9792\nEpoch 8/10:\nTest Loss: 0.0233, Accuracy: 98.00%\nPrecision: 0.9800, Recall: 0.9800\nEpoch 9/10:\nTest Loss: 0.0233, Accuracy: 97.93%\nPrecision: 0.9793, Recall: 0.9793\nEpoch 10/10:\nTest Loss: 0.0233, Accuracy: 98.07%\nPrecision: 0.9807, Recall: 0.9807\n",
     "output_type": "stream"
    }
   ]
  },
  {
   "cell_type": "markdown",
   "source": [
    "Бачимо, що зменшення кількості параметрів все-таки почало погіршувати метрики, варто повернутися до попередньої кількості парметрів. "
   ],
   "metadata": {
    "pycharm": {
     "name": "#%% md\n"
    }
   }
  },
  {
   "cell_type": "markdown",
   "source": [
    "3. Додайте кілька прихованих шарів в мережу з різною кількістю нейронів в кожному шарі. Яким чином це впливає на якість навчання нейронної мережі.\n"
   ],
   "metadata": {
    "pycharm": {
     "name": "#%% md\n"
    }
   }
  },
  {
   "cell_type": "markdown",
   "source": [
    "додамо ще один прихований шар, але спробуємо залишити загальну кількість параметрів моделі на тому ж рівні"
   ],
   "metadata": {
    "pycharm": {
     "name": "#%% md\n"
    }
   }
  },
  {
   "cell_type": "code",
   "source": [
    "class Perceptron(nn.Module):\n",
    "    def __init__(self):\n",
    "        super(Perceptron, self).__init__()\n",
    "\n",
    "        self.fc1 = nn.Linear(28*28, 200)\n",
    "        self.bn1 = nn.BatchNorm1d(200)\n",
    "        self.fc2 = nn.Linear(200, 200)\n",
    "        self.bn2 = nn.BatchNorm1d(200)\n",
    "        self.fc2 = nn.Linear(200, 100)\n",
    "        self.bn2 = nn.BatchNorm1d(100)\n",
    "        self.fc3 = nn.Linear(100, 10)\n",
    "        self.softmax = nn.Softmax(dim=1)\n",
    "\n",
    "    def forward(self, x):\n",
    "        x = x.view(-1, 28*28)\n",
    "        x = torch.relu(self.bn1(self.fc1(x)))\n",
    "        x = torch.relu(self.bn2(self.fc2(x)))\n",
    "        x = self.fc3(x)\n",
    "\n",
    "        return self.softmax(x)"
   ],
   "metadata": {
    "execution": {
     "iopub.status.busy": "2023-10-18T20:10:59.990611Z",
     "iopub.execute_input": "2023-10-18T20:10:59.991501Z",
     "iopub.status.idle": "2023-10-18T20:10:59.997527Z",
     "shell.execute_reply.started": "2023-10-18T20:10:59.991471Z",
     "shell.execute_reply": "2023-10-18T20:10:59.996688Z"
    },
    "trusted": true,
    "pycharm": {
     "name": "#%%\n"
    }
   },
   "execution_count": 37,
   "outputs": []
  },
  {
   "cell_type": "code",
   "source": [
    "train(train_loader, test_loader, num_epochs=10)"
   ],
   "metadata": {
    "execution": {
     "iopub.status.busy": "2023-10-18T20:11:06.684778Z",
     "iopub.execute_input": "2023-10-18T20:11:06.685191Z",
     "iopub.status.idle": "2023-10-18T20:13:21.196927Z",
     "shell.execute_reply.started": "2023-10-18T20:11:06.685160Z",
     "shell.execute_reply": "2023-10-18T20:13:21.196269Z"
    },
    "trusted": true,
    "pycharm": {
     "name": "#%%\n"
    }
   },
   "execution_count": 38,
   "outputs": [
    {
     "name": "stdout",
     "text": "Epoch 1/10:\nTest Loss: 0.0236, Accuracy: 96.56%\nPrecision: 0.9658, Recall: 0.9656\nEpoch 2/10:\nTest Loss: 0.0234, Accuracy: 97.10%\nPrecision: 0.9710, Recall: 0.9710\nEpoch 3/10:\nTest Loss: 0.0234, Accuracy: 97.19%\nPrecision: 0.9722, Recall: 0.9719\nEpoch 4/10:\nTest Loss: 0.0234, Accuracy: 97.50%\nPrecision: 0.9752, Recall: 0.9750\nEpoch 5/10:\nTest Loss: 0.0234, Accuracy: 97.28%\nPrecision: 0.9731, Recall: 0.9728\nEpoch 6/10:\nTest Loss: 0.0233, Accuracy: 97.80%\nPrecision: 0.9780, Recall: 0.9780\nEpoch 7/10:\nTest Loss: 0.0233, Accuracy: 97.84%\nPrecision: 0.9786, Recall: 0.9784\nEpoch 8/10:\nTest Loss: 0.0233, Accuracy: 97.87%\nPrecision: 0.9788, Recall: 0.9787\nEpoch 9/10:\nTest Loss: 0.0233, Accuracy: 97.92%\nPrecision: 0.9792, Recall: 0.9792\nEpoch 10/10:\nTest Loss: 0.0232, Accuracy: 98.08%\nPrecision: 0.9809, Recall: 0.9808\n",
     "output_type": "stream"
    }
   ]
  },
  {
   "cell_type": "markdown",
   "source": [
    "Підвищення якості моделі немає "
   ],
   "metadata": {
    "pycharm": {
     "name": "#%% md\n"
    }
   }
  },
  {
   "cell_type": "markdown",
   "source": [
    "4.Використовуйте різну кількість епох"
   ],
   "metadata": {
    "pycharm": {
     "name": "#%% md\n"
    }
   }
  },
  {
   "cell_type": "code",
   "source": [
    "class Perceptron(nn.Module):\n",
    "    def __init__(self):\n",
    "        super(Perceptron, self).__init__()\n",
    "\n",
    "        self.fc1 = nn.Linear(28*28, 512)\n",
    "        self.bn1 = nn.BatchNorm1d(512)\n",
    "        self.fc2 = nn.Linear(512, 256)\n",
    "        self.bn2 = nn.BatchNorm1d(256)\n",
    "        self.fc3 = nn.Linear(256, 10)\n",
    "        self.softmax = nn.Softmax(dim=1)\n",
    "\n",
    "    def forward(self, x):\n",
    "        x = x.view(-1, 28*28)\n",
    "        x = torch.relu(self.bn1(self.fc1(x)))\n",
    "        x = torch.relu(self.bn2(self.fc2(x)))\n",
    "        x = self.fc3(x)\n",
    "\n",
    "        return self.softmax(x)"
   ],
   "metadata": {
    "execution": {
     "iopub.status.busy": "2023-10-18T20:49:22.169305Z",
     "iopub.execute_input": "2023-10-18T20:49:22.170139Z",
     "iopub.status.idle": "2023-10-18T20:49:22.176140Z",
     "shell.execute_reply.started": "2023-10-18T20:49:22.170093Z",
     "shell.execute_reply": "2023-10-18T20:49:22.175332Z"
    },
    "trusted": true,
    "pycharm": {
     "name": "#%%\n"
    }
   },
   "execution_count": 39,
   "outputs": []
  },
  {
   "cell_type": "code",
   "source": [
    "train(train_loader, test_loader, num_epochs=30)"
   ],
   "metadata": {
    "execution": {
     "iopub.status.busy": "2023-10-18T20:49:32.922120Z",
     "iopub.execute_input": "2023-10-18T20:49:32.922694Z",
     "iopub.status.idle": "2023-10-18T20:56:30.322816Z",
     "shell.execute_reply.started": "2023-10-18T20:49:32.922664Z",
     "shell.execute_reply": "2023-10-18T20:56:30.321980Z"
    },
    "trusted": true,
    "pycharm": {
     "name": "#%%\n"
    }
   },
   "execution_count": 40,
   "outputs": [
    {
     "name": "stdout",
     "text": "Epoch 1/30:\nTest Loss: 0.0237, Accuracy: 95.71%\nPrecision: 0.9580, Recall: 0.9571\nEpoch 2/30:\nTest Loss: 0.0234, Accuracy: 97.02%\nPrecision: 0.9703, Recall: 0.9702\nEpoch 3/30:\nTest Loss: 0.0234, Accuracy: 97.46%\nPrecision: 0.9749, Recall: 0.9746\nEpoch 4/30:\nTest Loss: 0.0234, Accuracy: 97.49%\nPrecision: 0.9750, Recall: 0.9749\nEpoch 5/30:\nTest Loss: 0.0233, Accuracy: 97.64%\nPrecision: 0.9765, Recall: 0.9764\nEpoch 6/30:\nTest Loss: 0.0233, Accuracy: 97.88%\nPrecision: 0.9789, Recall: 0.9788\nEpoch 7/30:\nTest Loss: 0.0233, Accuracy: 97.77%\nPrecision: 0.9779, Recall: 0.9777\nEpoch 8/30:\nTest Loss: 0.0233, Accuracy: 97.76%\nPrecision: 0.9777, Recall: 0.9776\nEpoch 9/30:\nTest Loss: 0.0233, Accuracy: 97.98%\nPrecision: 0.9798, Recall: 0.9798\nEpoch 10/30:\nTest Loss: 0.0233, Accuracy: 97.82%\nPrecision: 0.9783, Recall: 0.9782\nEpoch 11/30:\nTest Loss: 0.0233, Accuracy: 97.88%\nPrecision: 0.9788, Recall: 0.9788\nEpoch 12/30:\nTest Loss: 0.0233, Accuracy: 97.99%\nPrecision: 0.9801, Recall: 0.9799\nEpoch 13/30:\nTest Loss: 0.0233, Accuracy: 98.03%\nPrecision: 0.9804, Recall: 0.9803\nEpoch 14/30:\nTest Loss: 0.0233, Accuracy: 98.00%\nPrecision: 0.9801, Recall: 0.9800\nEpoch 15/30:\nTest Loss: 0.0232, Accuracy: 98.40%\nPrecision: 0.9840, Recall: 0.9840\nEpoch 16/30:\nTest Loss: 0.0232, Accuracy: 98.25%\nPrecision: 0.9825, Recall: 0.9825\nEpoch 17/30:\nTest Loss: 0.0232, Accuracy: 98.30%\nPrecision: 0.9830, Recall: 0.9830\nEpoch 18/30:\nTest Loss: 0.0232, Accuracy: 98.30%\nPrecision: 0.9830, Recall: 0.9830\nEpoch 19/30:\nTest Loss: 0.0232, Accuracy: 98.34%\nPrecision: 0.9834, Recall: 0.9834\nEpoch 20/30:\nTest Loss: 0.0232, Accuracy: 98.23%\nPrecision: 0.9824, Recall: 0.9823\nEpoch 21/30:\nTest Loss: 0.0232, Accuracy: 98.20%\nPrecision: 0.9820, Recall: 0.9820\nEpoch 22/30:\nTest Loss: 0.0232, Accuracy: 98.19%\nPrecision: 0.9820, Recall: 0.9819\nEpoch 23/30:\nTest Loss: 0.0232, Accuracy: 98.28%\nPrecision: 0.9828, Recall: 0.9828\nEpoch 24/30:\nTest Loss: 0.0232, Accuracy: 98.40%\nPrecision: 0.9840, Recall: 0.9840\nEpoch 25/30:\nTest Loss: 0.0232, Accuracy: 98.18%\nPrecision: 0.9818, Recall: 0.9818\nEpoch 26/30:\nTest Loss: 0.0232, Accuracy: 98.00%\nPrecision: 0.9802, Recall: 0.9800\nEpoch 27/30:\nTest Loss: 0.0232, Accuracy: 98.26%\nPrecision: 0.9826, Recall: 0.9826\nEpoch 28/30:\nTest Loss: 0.0232, Accuracy: 98.41%\nPrecision: 0.9841, Recall: 0.9841\nEpoch 29/30:\nTest Loss: 0.0232, Accuracy: 98.15%\nPrecision: 0.9815, Recall: 0.9815\nEpoch 30/30:\nTest Loss: 0.0232, Accuracy: 98.40%\nPrecision: 0.9840, Recall: 0.9840\n",
     "output_type": "stream"
    }
   ]
  },
  {
   "cell_type": "markdown",
   "source": [
    "Бачимо, що довше тренування має сенс, але тренування довше 15 епох не має сенсу"
   ],
   "metadata": {
    "pycharm": {
     "name": "#%% md\n"
    }
   }
  },
  {
   "cell_type": "markdown",
   "source": [
    "5. Використовуйте різні розміри міні-вибірки (batch_size)"
   ],
   "metadata": {
    "pycharm": {
     "name": "#%% md\n"
    }
   }
  },
  {
   "cell_type": "code",
   "source": [
    "train_loader, test_loader = create_dataset(batch_size=32)\n",
    "train(train_loader, test_loader, num_epochs=15)"
   ],
   "metadata": {
    "execution": {
     "iopub.status.busy": "2023-10-18T21:06:41.115580Z",
     "iopub.execute_input": "2023-10-18T21:06:41.116108Z",
     "iopub.status.idle": "2023-10-18T21:10:42.252248Z",
     "shell.execute_reply.started": "2023-10-18T21:06:41.116079Z",
     "shell.execute_reply": "2023-10-18T21:10:42.251535Z"
    },
    "trusted": true,
    "pycharm": {
     "name": "#%%\n"
    }
   },
   "execution_count": 44,
   "outputs": [
    {
     "name": "stdout",
     "text": "Epoch 1/15:\nTest Loss: 0.0471, Accuracy: 96.03%\nPrecision: 0.9607, Recall: 0.9603\nEpoch 2/15:\nTest Loss: 0.0468, Accuracy: 96.78%\nPrecision: 0.9680, Recall: 0.9678\nEpoch 3/15:\nTest Loss: 0.0466, Accuracy: 97.18%\nPrecision: 0.9719, Recall: 0.9718\nEpoch 4/15:\nTest Loss: 0.0465, Accuracy: 97.48%\nPrecision: 0.9748, Recall: 0.9748\nEpoch 5/15:\nTest Loss: 0.0465, Accuracy: 97.59%\nPrecision: 0.9759, Recall: 0.9759\nEpoch 6/15:\nTest Loss: 0.0464, Accuracy: 97.71%\nPrecision: 0.9772, Recall: 0.9771\nEpoch 7/15:\nTest Loss: 0.0464, Accuracy: 97.84%\nPrecision: 0.9784, Recall: 0.9784\nEpoch 8/15:\nTest Loss: 0.0464, Accuracy: 97.76%\nPrecision: 0.9777, Recall: 0.9776\nEpoch 9/15:\nTest Loss: 0.0464, Accuracy: 98.05%\nPrecision: 0.9805, Recall: 0.9805\nEpoch 10/15:\nTest Loss: 0.0463, Accuracy: 98.07%\nPrecision: 0.9807, Recall: 0.9807\nEpoch 11/15:\nTest Loss: 0.0464, Accuracy: 97.96%\nPrecision: 0.9797, Recall: 0.9796\nEpoch 12/15:\nTest Loss: 0.0464, Accuracy: 97.99%\nPrecision: 0.9800, Recall: 0.9799\nEpoch 13/15:\nTest Loss: 0.0463, Accuracy: 98.08%\nPrecision: 0.9809, Recall: 0.9808\nEpoch 14/15:\nTest Loss: 0.0463, Accuracy: 98.21%\nPrecision: 0.9821, Recall: 0.9821\nEpoch 15/15:\nTest Loss: 0.0463, Accuracy: 98.09%\nPrecision: 0.9810, Recall: 0.9809\n",
     "output_type": "stream"
    }
   ]
  },
  {
   "cell_type": "markdown",
   "source": [
    "покращення не видно, зменшення розміру батча призвело до меншої загальності моделі"
   ],
   "metadata": {
    "pycharm": {
     "name": "#%% md\n"
    }
   }
  },
  {
   "cell_type": "code",
   "source": [
    "train_loader, test_loader = create_dataset(batch_size=128)\n",
    "train(train_loader, test_loader, num_epochs=15)"
   ],
   "metadata": {
    "execution": {
     "iopub.status.busy": "2023-10-18T21:13:42.323507Z",
     "iopub.execute_input": "2023-10-18T21:13:42.324131Z",
     "iopub.status.idle": "2023-10-18T21:16:57.111304Z",
     "shell.execute_reply.started": "2023-10-18T21:13:42.324100Z",
     "shell.execute_reply": "2023-10-18T21:16:57.110553Z"
    },
    "trusted": true,
    "pycharm": {
     "name": "#%%\n"
    }
   },
   "execution_count": 45,
   "outputs": [
    {
     "name": "stdout",
     "text": "Epoch 1/15:\nTest Loss: 0.0120, Accuracy: 94.46%\nPrecision: 0.9486, Recall: 0.9446\nEpoch 2/15:\nTest Loss: 0.0118, Accuracy: 97.21%\nPrecision: 0.9722, Recall: 0.9721\nEpoch 3/15:\nTest Loss: 0.0118, Accuracy: 97.36%\nPrecision: 0.9736, Recall: 0.9736\nEpoch 4/15:\nTest Loss: 0.0117, Accuracy: 97.73%\nPrecision: 0.9774, Recall: 0.9773\nEpoch 5/15:\nTest Loss: 0.0117, Accuracy: 97.76%\nPrecision: 0.9776, Recall: 0.9776\nEpoch 6/15:\nTest Loss: 0.0117, Accuracy: 97.96%\nPrecision: 0.9796, Recall: 0.9796\nEpoch 7/15:\nTest Loss: 0.0117, Accuracy: 97.88%\nPrecision: 0.9789, Recall: 0.9788\nEpoch 8/15:\nTest Loss: 0.0117, Accuracy: 97.96%\nPrecision: 0.9797, Recall: 0.9796\nEpoch 9/15:\nTest Loss: 0.0117, Accuracy: 97.83%\nPrecision: 0.9784, Recall: 0.9783\nEpoch 10/15:\nTest Loss: 0.0117, Accuracy: 98.12%\nPrecision: 0.9813, Recall: 0.9812\nEpoch 11/15:\nTest Loss: 0.0117, Accuracy: 97.98%\nPrecision: 0.9799, Recall: 0.9798\nEpoch 12/15:\nTest Loss: 0.0117, Accuracy: 98.17%\nPrecision: 0.9818, Recall: 0.9817\nEpoch 13/15:\nTest Loss: 0.0117, Accuracy: 98.07%\nPrecision: 0.9808, Recall: 0.9807\nEpoch 14/15:\nTest Loss: 0.0117, Accuracy: 98.01%\nPrecision: 0.9802, Recall: 0.9801\nEpoch 15/15:\nTest Loss: 0.0117, Accuracy: 97.88%\nPrecision: 0.9789, Recall: 0.9788\n",
     "output_type": "stream"
    }
   ]
  },
  {
   "cell_type": "markdown",
   "source": [
    "а збільшення батч сайзу трішки теж не покращило метрики."
   ],
   "metadata": {
    "pycharm": {
     "name": "#%% md\n"
    }
   }
  }
 ]
}