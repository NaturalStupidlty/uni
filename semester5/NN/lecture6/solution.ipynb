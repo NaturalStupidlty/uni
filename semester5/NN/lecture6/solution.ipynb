{
 "cells": [
  {
   "cell_type": "code",
   "execution_count": 56,
   "outputs": [],
   "source": [
    "# Made by NaturalStupldity"
   ],
   "metadata": {
    "collapsed": false,
    "pycharm": {
     "name": "#%%\n"
    }
   }
  },
  {
   "cell_type": "code",
   "execution_count": 57,
   "outputs": [],
   "source": [
    "import os\n",
    "import random\n",
    "import numpy as np\n",
    "import tensorflow as tf\n",
    "from keras.models import Sequential\n",
    "from keras.layers import Dense\n",
    "from keras.datasets import fashion_mnist\n",
    "from keras.utils import to_categorical"
   ],
   "metadata": {
    "collapsed": false,
    "pycharm": {
     "name": "#%%\n"
    }
   }
  },
  {
   "cell_type": "code",
   "execution_count": 58,
   "outputs": [],
   "source": [
    "## 1. Session preparation"
   ],
   "metadata": {
    "collapsed": false,
    "pycharm": {
     "name": "#%%\n"
    }
   }
  },
  {
   "cell_type": "code",
   "execution_count": 59,
   "outputs": [],
   "source": [
    "def set_random_state(seed: int):\n",
    "    os.environ['PYTHONHASHSEED'] = '0'\n",
    "    random.seed(seed)\n",
    "    np.random.seed(seed)\n",
    "    tf.random.set_seed(seed)\n",
    "\n",
    "    tf.debugging.set_log_device_placement(False)\n",
    "    config = tf.compat.v1.ConfigProto(\n",
    "        intra_op_parallelism_threads=1,\n",
    "        inter_op_parallelism_threads=1\n",
    "    )\n",
    "    tf.compat.v1.keras.backend.set_session(tf.compat.v1.Session(config=config))\n",
    "\n",
    "def clear_session():\n",
    "    tf.keras.backend.clear_session()\n",
    "\n",
    "def preparation():\n",
    "    set_random_state(seed=42)\n",
    "    clear_session()"
   ],
   "metadata": {
    "collapsed": false,
    "pycharm": {
     "name": "#%%\n"
    }
   }
  },
  {
   "cell_type": "code",
   "execution_count": 60,
   "outputs": [],
   "source": [
    "## 2. Data preparation"
   ],
   "metadata": {
    "collapsed": false,
    "pycharm": {
     "name": "#%%\n"
    }
   }
  },
  {
   "cell_type": "code",
   "execution_count": 61,
   "outputs": [],
   "source": [
    "def load_data():\n",
    "    return fashion_mnist.load_data()\n",
    "\n",
    "def one_hot_encoding(y_train, y_val, number_of_classes: int = 10):\n",
    "    return to_categorical(y_train, number_of_classes), to_categorical(y_val, number_of_classes)\n",
    "\n",
    "def normalize_images(x_train, x_val, pixel_depth: int = 255):\n",
    "    return x_train.astype('float32') / pixel_depth, x_val.astype('float32') / pixel_depth\n",
    "\n",
    "def flatten_images(x_train, x_val):\n",
    "    x_train = x_train.reshape(x_train.shape[0], x_train.shape[1] * x_train.shape[2])\n",
    "    x_val = x_val.reshape(x_val.shape[0], x_val.shape[1] * x_val.shape[2])\n",
    "\n",
    "    return x_train, x_val\n",
    "\n",
    "def preprocess_data(x_train, y_train, x_val, y_val):\n",
    "    x_train, x_val = normalize_images(x_train=x_train, x_val=x_val)\n",
    "    y_train, y_val = one_hot_encoding(y_train=y_train, y_val=y_val)\n",
    "\n",
    "    return x_train, y_train, x_val, y_val\n",
    "\n",
    "def build_dataset():\n",
    "    (x_train, y_train), (x_val, y_val) = load_data()\n",
    "\n",
    "    return preprocess_data(x_train=x_train, y_train=y_train, x_val=x_val, y_val=y_val)"
   ],
   "metadata": {
    "collapsed": false,
    "pycharm": {
     "name": "#%%\n"
    }
   }
  },
  {
   "cell_type": "code",
   "execution_count": 62,
   "outputs": [],
   "source": [
    "## 3. Building the model"
   ],
   "metadata": {
    "collapsed": false,
    "pycharm": {
     "name": "#%%\n"
    }
   }
  },
  {
   "cell_type": "code",
   "execution_count": 63,
   "outputs": [],
   "source": [
    "def build_perceptron(input_dimension: int = 784,\n",
    "                     output_dimension: int = 10,\n",
    "                     activation_function: str = \"relu\",\n",
    "                     loss_function=\"categorical_crossentropy\",\n",
    "                     optimizer=\"adam\",\n",
    "                     metrics=None):\n",
    "    if metrics is None:\n",
    "        metrics = [\"accuracy\"]\n",
    "\n",
    "    model = Sequential()\n",
    "    model.add(Dense(units=input_dimension, activation=activation_function))\n",
    "    model.add(Dense(units=78, activation=activation_function))\n",
    "    model.add(Dense(units=output_dimension, activation=\"softmax\"))\n",
    "    model.compile(loss=loss_function, optimizer=optimizer, metrics=metrics)\n",
    "\n",
    "    return model"
   ],
   "metadata": {
    "collapsed": false,
    "pycharm": {
     "name": "#%%\n"
    }
   }
  },
  {
   "cell_type": "code",
   "execution_count": 64,
   "outputs": [],
   "source": [
    "## 4. Training the model"
   ],
   "metadata": {
    "collapsed": false,
    "pycharm": {
     "name": "#%%\n"
    }
   }
  },
  {
   "cell_type": "code",
   "execution_count": 82,
   "outputs": [],
   "source": [
    "def train_model(model, x_train, y_train, x_val, y_val, batch_size: int, epochs: int):\n",
    "    model.fit(x_train, y_train, batch_size=batch_size, epochs=epochs, validation_data=(x_val, y_val))\n",
    "\n",
    "def evaluate_model(model, x_val, y_val):\n",
    "    return model.evaluate(x_val, y_val)\n",
    "\n",
    "def train(x_train, y_train, x_val, y_val, batch_size: int = 64, epochs: int = 10, verbose: bool = True):\n",
    "    optimizer = tf.keras.optimizers.Adam(learning_rate=1e-5,\n",
    "                                         weight_decay=1e-4)\n",
    "\n",
    "    model = build_perceptron(optimizer=optimizer)\n",
    "    train_model(model=model, x_train=x_train, y_train=y_train, x_val=x_val, y_val=y_val, batch_size=batch_size,epochs=epochs)\n",
    "    results = evaluate_model(model=model, x_val=x_val, y_val=y_val)\n",
    "    if verbose:\n",
    "        print(\"Validation loss: {}, Validation accuracy: {}\".format(results[0], results[1]))\n",
    "\n",
    "    return results"
   ],
   "metadata": {
    "collapsed": false,
    "pycharm": {
     "name": "#%%\n"
    }
   }
  },
  {
   "cell_type": "code",
   "execution_count": 83,
   "outputs": [],
   "source": [
    "## 5. Main function"
   ],
   "metadata": {
    "collapsed": false,
    "pycharm": {
     "name": "#%%\n"
    }
   }
  },
  {
   "cell_type": "code",
   "execution_count": 86,
   "outputs": [],
   "source": [
    "def main():\n",
    "    preparation()\n",
    "    x_train, y_train, x_val, y_val = build_dataset()\n",
    "    x_train, x_val = flatten_images(x_train=x_train, x_val=x_val)\n",
    "    train(x_train=x_train, y_train=y_train, x_val=x_val, y_val=y_val, batch_size=16, epochs=10)"
   ],
   "metadata": {
    "collapsed": false,
    "pycharm": {
     "name": "#%%\n"
    }
   }
  },
  {
   "cell_type": "markdown",
   "source": [],
   "metadata": {
    "collapsed": false,
    "pycharm": {
     "name": "#%% md\n"
    }
   }
  },
  {
   "cell_type": "code",
   "execution_count": 87,
   "outputs": [
    {
     "name": "stderr",
     "output_type": "stream",
     "text": [
      "2023-10-16 21:11:25.796467: I tensorflow/core/common_runtime/pluggable_device/pluggable_device_factory.cc:303] Could not identify NUMA node of platform GPU ID 0, defaulting to 0. Your kernel may not have been built with NUMA support.\n",
      "2023-10-16 21:11:25.796496: I tensorflow/core/common_runtime/pluggable_device/pluggable_device_factory.cc:269] Created TensorFlow device (/job:localhost/replica:0/task:0/device:GPU:0 with 0 MB memory) -> physical PluggableDevice (device: 0, name: METAL, pci bus id: <undefined>)\n",
      "WARNING:absl:At this time, the v2.11+ optimizer `tf.keras.optimizers.Adam` runs slowly on M1/M2 Macs, please use the legacy Keras optimizer instead, located at `tf.keras.optimizers.legacy.Adam`.\n",
      "WARNING:absl:There is a known slowdown when using v2.11+ Keras optimizers on M1/M2 Macs. Falling back to the legacy Keras optimizer, i.e., `tf.keras.optimizers.legacy.Adam`.\n"
     ]
    },
    {
     "name": "stdout",
     "output_type": "stream",
     "text": [
      "Epoch 1/10\n",
      "   7/3750 [..............................] - ETA: 33s - loss: 2.3342 - accuracy: 0.1339  "
     ]
    },
    {
     "name": "stderr",
     "output_type": "stream",
     "text": [
      "2023-10-16 21:11:26.694263: I tensorflow/core/grappler/optimizers/custom_graph_optimizer_registry.cc:114] Plugin optimizer for device_type GPU is enabled.\n"
     ]
    },
    {
     "name": "stdout",
     "output_type": "stream",
     "text": [
      "3746/3750 [============================>.] - ETA: 0s - loss: 0.8879 - accuracy: 0.7143"
     ]
    },
    {
     "name": "stderr",
     "output_type": "stream",
     "text": [
      "2023-10-16 21:11:52.891990: I tensorflow/core/grappler/optimizers/custom_graph_optimizer_registry.cc:114] Plugin optimizer for device_type GPU is enabled.\n"
     ]
    },
    {
     "name": "stdout",
     "output_type": "stream",
     "text": [
      "3750/3750 [==============================] - 29s 8ms/step - loss: 0.8875 - accuracy: 0.7145 - val_loss: 0.6392 - val_accuracy: 0.7854\n",
      "Epoch 2/10\n",
      "3750/3750 [==============================] - 28s 7ms/step - loss: 0.5746 - accuracy: 0.8074 - val_loss: 0.5599 - val_accuracy: 0.8083\n",
      "Epoch 3/10\n",
      "3750/3750 [==============================] - 29s 8ms/step - loss: 0.5183 - accuracy: 0.8244 - val_loss: 0.5313 - val_accuracy: 0.8130\n",
      "Epoch 4/10\n",
      "3750/3750 [==============================] - 28s 8ms/step - loss: 0.4891 - accuracy: 0.8350 - val_loss: 0.5049 - val_accuracy: 0.8236\n",
      "Epoch 5/10\n",
      "3750/3750 [==============================] - 28s 8ms/step - loss: 0.4718 - accuracy: 0.8401 - val_loss: 0.4938 - val_accuracy: 0.8286\n",
      "Epoch 6/10\n",
      "3750/3750 [==============================] - 29s 8ms/step - loss: 0.4590 - accuracy: 0.8436 - val_loss: 0.4875 - val_accuracy: 0.8297\n",
      "Epoch 7/10\n",
      "3750/3750 [==============================] - 29s 8ms/step - loss: 0.4496 - accuracy: 0.8471 - val_loss: 0.4806 - val_accuracy: 0.8305\n",
      "Epoch 8/10\n",
      "3750/3750 [==============================] - 29s 8ms/step - loss: 0.4421 - accuracy: 0.8488 - val_loss: 0.4718 - val_accuracy: 0.8371\n",
      "Epoch 9/10\n",
      "3750/3750 [==============================] - 28s 8ms/step - loss: 0.4365 - accuracy: 0.8500 - val_loss: 0.4647 - val_accuracy: 0.8373\n",
      "Epoch 10/10\n",
      "3750/3750 [==============================] - 28s 7ms/step - loss: 0.4323 - accuracy: 0.8527 - val_loss: 0.4622 - val_accuracy: 0.8388\n",
      " 19/313 [>.............................] - ETA: 1s - loss: 0.3989 - accuracy: 0.8618"
     ]
    },
    {
     "name": "stderr",
     "output_type": "stream",
     "text": [
      "2023-10-16 21:16:12.603674: I tensorflow/core/grappler/optimizers/custom_graph_optimizer_registry.cc:114] Plugin optimizer for device_type GPU is enabled.\n"
     ]
    },
    {
     "name": "stdout",
     "output_type": "stream",
     "text": [
      "313/313 [==============================] - 2s 6ms/step - loss: 0.4622 - accuracy: 0.8388\n",
      "Validation loss: 0.46216729283332825, Validation accuracy: 0.8388000130653381\n"
     ]
    }
   ],
   "source": [
    "main()"
   ],
   "metadata": {
    "collapsed": false,
    "pycharm": {
     "name": "#%%\n"
    }
   }
  },
  {
   "cell_type": "code",
   "execution_count": 68,
   "outputs": [],
   "source": [],
   "metadata": {
    "collapsed": false,
    "pycharm": {
     "name": "#%%\n"
    }
   }
  }
 ],
 "metadata": {
  "kernelspec": {
   "display_name": "Python 3",
   "language": "python",
   "name": "python3"
  },
  "language_info": {
   "codemirror_mode": {
    "name": "ipython",
    "version": 2
   },
   "file_extension": ".py",
   "mimetype": "text/x-python",
   "name": "python",
   "nbconvert_exporter": "python",
   "pygments_lexer": "ipython2",
   "version": "2.7.6"
  }
 },
 "nbformat": 4,
 "nbformat_minor": 0
}