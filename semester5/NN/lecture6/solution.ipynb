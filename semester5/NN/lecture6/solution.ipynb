{
 "cells": [
  {
   "cell_type": "code",
   "execution_count": 14,
   "outputs": [],
   "source": [
    "# Made by NaturalStupldity"
   ],
   "metadata": {
    "collapsed": false,
    "pycharm": {
     "name": "#%%\n"
    }
   }
  },
  {
   "cell_type": "code",
   "execution_count": 15,
   "outputs": [],
   "source": [
    "import os\n",
    "import random\n",
    "import numpy as np\n",
    "import tensorflow as tf\n",
    "from keras.models import Sequential\n",
    "from keras.layers import Dense\n",
    "from keras.datasets import fashion_mnist\n",
    "from keras.utils import to_categorical"
   ],
   "metadata": {
    "collapsed": false,
    "pycharm": {
     "name": "#%%\n"
    }
   }
  },
  {
   "cell_type": "code",
   "execution_count": 16,
   "outputs": [],
   "source": [
    "## 1. Session preparation"
   ],
   "metadata": {
    "collapsed": false,
    "pycharm": {
     "name": "#%%\n"
    }
   }
  },
  {
   "cell_type": "code",
   "execution_count": 17,
   "outputs": [],
   "source": [
    "def set_random_state(seed: int):\n",
    "    os.environ['PYTHONHASHSEED'] = '0'\n",
    "    random.seed(seed)\n",
    "    np.random.seed(seed)\n",
    "    tf.random.set_seed(seed)\n",
    "\n",
    "    tf.debugging.set_log_device_placement(False)\n",
    "    config = tf.compat.v1.ConfigProto(\n",
    "        intra_op_parallelism_threads=1,\n",
    "        inter_op_parallelism_threads=1\n",
    "    )\n",
    "    tf.compat.v1.keras.backend.set_session(tf.compat.v1.Session(config=config))\n",
    "\n",
    "def clear_session():\n",
    "    tf.keras.backend.clear_session()\n",
    "\n",
    "def preparation():\n",
    "    set_random_state(seed=42)\n",
    "    clear_session()"
   ],
   "metadata": {
    "collapsed": false,
    "pycharm": {
     "name": "#%%\n"
    }
   }
  },
  {
   "cell_type": "code",
   "execution_count": 18,
   "outputs": [],
   "source": [
    "## 2. Data preparation"
   ],
   "metadata": {
    "collapsed": false,
    "pycharm": {
     "name": "#%%\n"
    }
   }
  },
  {
   "cell_type": "code",
   "execution_count": 25,
   "outputs": [],
   "source": [
    "def load_data():\n",
    "    return fashion_mnist.load_data()\n",
    "\n",
    "def one_hot_encoding(y_train, y_val, number_of_classes: int = 10):\n",
    "    return to_categorical(y_train, number_of_classes), to_categorical(y_val, number_of_classes)\n",
    "\n",
    "def normalize_images(x_train, x_val, pixel_depth: int = 255):\n",
    "    return x_train.astype('float32') / pixel_depth, x_val.astype('float32') / pixel_depth\n",
    "\n",
    "def flatten_images(x_train, x_val):\n",
    "    x_train = x_train.reshape(x_train.shape[0], x_train.shape[1] * x_train.shape[2])\n",
    "    x_val = x_val.reshape(x_val.shape[0], x_val.shape[1] * x_val.shape[2])\n",
    "\n",
    "    return x_train, x_val\n",
    "\n",
    "def preprocess_data(x_train, y_train, x_val, y_val):\n",
    "    x_train, x_val = normalize_images(x_train=x_train, x_val=x_val)\n",
    "    y_train, y_val = one_hot_encoding(y_train=y_train, y_val=y_val)\n",
    "\n",
    "    return x_train, y_train, x_val, y_val\n",
    "\n",
    "def build_dataset():\n",
    "    (x_train, y_train), (x_val, y_val) = load_data()\n",
    "\n",
    "    return preprocess_data(x_train=x_train, y_train=y_train, x_val=x_val, y_val=y_val)"
   ],
   "metadata": {
    "collapsed": false,
    "pycharm": {
     "name": "#%%\n"
    }
   }
  },
  {
   "cell_type": "code",
   "execution_count": 7,
   "outputs": [],
   "source": [
    "## 3. Building the model"
   ],
   "metadata": {
    "collapsed": false,
    "pycharm": {
     "name": "#%%\n"
    }
   }
  },
  {
   "cell_type": "code",
   "execution_count": 41,
   "outputs": [],
   "source": [
    "def build_perceptron(input_dimension: int = 784,\n",
    "                     output_dimension: int = 10,\n",
    "                     loss_function=\"categorical_crossentropy\",\n",
    "                     optimizer=\"adam\",\n",
    "                     metrics=None):\n",
    "    if metrics is None:\n",
    "        metrics = [\"accuracy\"]\n",
    "\n",
    "    model = Sequential()\n",
    "    model.add(Dense(units=input_dimension, activation=\"relu\"))\n",
    "    model.add(Dense(units=128, activation=\"elu\"))\n",
    "    model.add(Dense(units=output_dimension, activation=\"softmax\"))\n",
    "    model.compile(loss=loss_function, optimizer=optimizer, metrics=metrics)\n",
    "\n",
    "    return model"
   ],
   "metadata": {
    "collapsed": false,
    "pycharm": {
     "name": "#%%\n"
    }
   }
  },
  {
   "cell_type": "code",
   "execution_count": 42,
   "outputs": [],
   "source": [
    "## 4. Training the model"
   ],
   "metadata": {
    "collapsed": false,
    "pycharm": {
     "name": "#%%\n"
    }
   }
  },
  {
   "cell_type": "code",
   "execution_count": 64,
   "outputs": [],
   "source": [
    "def train_model(model, x_train, y_train, x_val, y_val, batch_size: int, epochs: int):\n",
    "    model.fit(x_train, y_train, batch_size=batch_size, epochs=epochs, validation_data=(x_val, y_val))\n",
    "\n",
    "def evaluate_model(model, x_val, y_val):\n",
    "    return model.evaluate(x_val, y_val)\n",
    "\n",
    "def train(x_train, y_train, x_val, y_val, batch_size: int = 64, epochs: int = 10, verbose: bool = True):\n",
    "    optimizer = tf.keras.optimizers.Adam(learning_rate=1e-4,\n",
    "                                         weight_decay=1e-4)\n",
    "\n",
    "    model = build_perceptron(optimizer=optimizer)\n",
    "    train_model(model=model, x_train=x_train, y_train=y_train, x_val=x_val, y_val=y_val, batch_size=batch_size,epochs=epochs)\n",
    "    results = evaluate_model(model=model, x_val=x_val, y_val=y_val)\n",
    "    if verbose:\n",
    "        print(\"Validation loss: {}, Validation accuracy: {}\".format(results[0], results[1]))\n",
    "\n",
    "    return results"
   ],
   "metadata": {
    "collapsed": false,
    "pycharm": {
     "name": "#%%\n"
    }
   }
  },
  {
   "cell_type": "code",
   "execution_count": 65,
   "outputs": [],
   "source": [
    "## 5. Main function"
   ],
   "metadata": {
    "collapsed": false,
    "pycharm": {
     "name": "#%%\n"
    }
   }
  },
  {
   "cell_type": "code",
   "execution_count": 66,
   "outputs": [],
   "source": [
    "def main():\n",
    "    preparation()\n",
    "    x_train, y_train, x_val, y_val = build_dataset()\n",
    "    x_train, x_val = flatten_images(x_train=x_train, x_val=x_val)\n",
    "    train(x_train=x_train, y_train=y_train, x_val=x_val, y_val=y_val, batch_size=128, epochs=30)"
   ],
   "metadata": {
    "collapsed": false,
    "pycharm": {
     "name": "#%%\n"
    }
   }
  },
  {
   "cell_type": "markdown",
   "source": [],
   "metadata": {
    "collapsed": false,
    "pycharm": {
     "name": "#%% md\n"
    }
   }
  },
  {
   "cell_type": "code",
   "execution_count": 67,
   "outputs": [
    {
     "name": "stderr",
     "output_type": "stream",
     "text": [
      "2023-10-16 22:50:19.334515: I tensorflow/core/common_runtime/pluggable_device/pluggable_device_factory.cc:303] Could not identify NUMA node of platform GPU ID 0, defaulting to 0. Your kernel may not have been built with NUMA support.\n",
      "2023-10-16 22:50:19.334547: I tensorflow/core/common_runtime/pluggable_device/pluggable_device_factory.cc:269] Created TensorFlow device (/job:localhost/replica:0/task:0/device:GPU:0 with 0 MB memory) -> physical PluggableDevice (device: 0, name: METAL, pci bus id: <undefined>)\n",
      "WARNING:absl:At this time, the v2.11+ optimizer `tf.keras.optimizers.Adam` runs slowly on M1/M2 Macs, please use the legacy Keras optimizer instead, located at `tf.keras.optimizers.legacy.Adam`.\n",
      "WARNING:absl:There is a known slowdown when using v2.11+ Keras optimizers on M1/M2 Macs. Falling back to the legacy Keras optimizer, i.e., `tf.keras.optimizers.legacy.Adam`.\n"
     ]
    },
    {
     "name": "stdout",
     "output_type": "stream",
     "text": [
      "Epoch 1/30\n",
      "  5/469 [..............................] - ETA: 6s - loss: 2.4017 - accuracy: 0.1266  "
     ]
    },
    {
     "name": "stderr",
     "output_type": "stream",
     "text": [
      "2023-10-16 22:50:20.385969: I tensorflow/core/grappler/optimizers/custom_graph_optimizer_registry.cc:114] Plugin optimizer for device_type GPU is enabled.\n"
     ]
    },
    {
     "name": "stdout",
     "output_type": "stream",
     "text": [
      "468/469 [============================>.] - ETA: 0s - loss: 0.6692 - accuracy: 0.7752"
     ]
    },
    {
     "name": "stderr",
     "output_type": "stream",
     "text": [
      "2023-10-16 22:50:26.165690: I tensorflow/core/grappler/optimizers/custom_graph_optimizer_registry.cc:114] Plugin optimizer for device_type GPU is enabled.\n"
     ]
    },
    {
     "name": "stdout",
     "output_type": "stream",
     "text": [
      "469/469 [==============================] - 7s 14ms/step - loss: 0.6688 - accuracy: 0.7754 - val_loss: 0.5244 - val_accuracy: 0.8169\n",
      "Epoch 2/30\n",
      "469/469 [==============================] - 6s 12ms/step - loss: 0.4611 - accuracy: 0.8399 - val_loss: 0.4764 - val_accuracy: 0.8284\n",
      "Epoch 3/30\n",
      "469/469 [==============================] - 5s 12ms/step - loss: 0.4197 - accuracy: 0.8544 - val_loss: 0.4369 - val_accuracy: 0.8462\n",
      "Epoch 4/30\n",
      "469/469 [==============================] - 5s 12ms/step - loss: 0.3971 - accuracy: 0.8609 - val_loss: 0.4134 - val_accuracy: 0.8559\n",
      "Epoch 5/30\n",
      "469/469 [==============================] - 5s 12ms/step - loss: 0.3779 - accuracy: 0.8669 - val_loss: 0.4338 - val_accuracy: 0.8485\n",
      "Epoch 6/30\n",
      "469/469 [==============================] - 6s 12ms/step - loss: 0.3644 - accuracy: 0.8713 - val_loss: 0.4015 - val_accuracy: 0.8594\n",
      "Epoch 7/30\n",
      "469/469 [==============================] - 5s 12ms/step - loss: 0.3534 - accuracy: 0.8745 - val_loss: 0.3908 - val_accuracy: 0.8632\n",
      "Epoch 8/30\n",
      "469/469 [==============================] - 6s 12ms/step - loss: 0.3429 - accuracy: 0.8781 - val_loss: 0.3941 - val_accuracy: 0.8642\n",
      "Epoch 9/30\n",
      "469/469 [==============================] - 6s 12ms/step - loss: 0.3343 - accuracy: 0.8807 - val_loss: 0.3745 - val_accuracy: 0.8673\n",
      "Epoch 10/30\n",
      "469/469 [==============================] - 6s 13ms/step - loss: 0.3264 - accuracy: 0.8825 - val_loss: 0.3699 - val_accuracy: 0.8692\n",
      "Epoch 11/30\n",
      "469/469 [==============================] - 6s 12ms/step - loss: 0.3197 - accuracy: 0.8858 - val_loss: 0.3651 - val_accuracy: 0.8697\n",
      "Epoch 12/30\n",
      "469/469 [==============================] - 6s 12ms/step - loss: 0.3118 - accuracy: 0.8885 - val_loss: 0.3790 - val_accuracy: 0.8642\n",
      "Epoch 13/30\n",
      "469/469 [==============================] - 5s 12ms/step - loss: 0.3065 - accuracy: 0.8898 - val_loss: 0.3635 - val_accuracy: 0.8722\n",
      "Epoch 14/30\n",
      "469/469 [==============================] - 5s 12ms/step - loss: 0.3015 - accuracy: 0.8916 - val_loss: 0.3571 - val_accuracy: 0.8732\n",
      "Epoch 15/30\n",
      "469/469 [==============================] - 5s 12ms/step - loss: 0.2954 - accuracy: 0.8941 - val_loss: 0.3530 - val_accuracy: 0.8724\n",
      "Epoch 16/30\n",
      "469/469 [==============================] - 6s 13ms/step - loss: 0.2896 - accuracy: 0.8948 - val_loss: 0.3475 - val_accuracy: 0.8759\n",
      "Epoch 17/30\n",
      "469/469 [==============================] - 6s 13ms/step - loss: 0.2871 - accuracy: 0.8947 - val_loss: 0.3512 - val_accuracy: 0.8762\n",
      "Epoch 18/30\n",
      "469/469 [==============================] - 6s 13ms/step - loss: 0.2808 - accuracy: 0.8980 - val_loss: 0.3523 - val_accuracy: 0.8719\n",
      "Epoch 19/30\n",
      "469/469 [==============================] - 6s 12ms/step - loss: 0.2773 - accuracy: 0.8992 - val_loss: 0.3573 - val_accuracy: 0.8685\n",
      "Epoch 20/30\n",
      "469/469 [==============================] - 6s 12ms/step - loss: 0.2739 - accuracy: 0.8997 - val_loss: 0.3477 - val_accuracy: 0.8739\n",
      "Epoch 21/30\n",
      "469/469 [==============================] - 6s 12ms/step - loss: 0.2708 - accuracy: 0.9023 - val_loss: 0.3514 - val_accuracy: 0.8742\n",
      "Epoch 22/30\n",
      "469/469 [==============================] - 6s 12ms/step - loss: 0.2674 - accuracy: 0.9030 - val_loss: 0.3366 - val_accuracy: 0.8807\n",
      "Epoch 23/30\n",
      "469/469 [==============================] - 6s 12ms/step - loss: 0.2633 - accuracy: 0.9036 - val_loss: 0.3346 - val_accuracy: 0.8790\n",
      "Epoch 24/30\n",
      "469/469 [==============================] - 6s 13ms/step - loss: 0.2585 - accuracy: 0.9064 - val_loss: 0.3416 - val_accuracy: 0.8811\n",
      "Epoch 25/30\n",
      "469/469 [==============================] - 6s 12ms/step - loss: 0.2545 - accuracy: 0.9082 - val_loss: 0.3336 - val_accuracy: 0.8801\n",
      "Epoch 26/30\n",
      "469/469 [==============================] - 5s 12ms/step - loss: 0.2526 - accuracy: 0.9079 - val_loss: 0.3337 - val_accuracy: 0.8832\n",
      "Epoch 27/30\n",
      "469/469 [==============================] - 6s 12ms/step - loss: 0.2490 - accuracy: 0.9089 - val_loss: 0.3446 - val_accuracy: 0.8788\n",
      "Epoch 28/30\n",
      "469/469 [==============================] - 6s 12ms/step - loss: 0.2461 - accuracy: 0.9108 - val_loss: 0.3271 - val_accuracy: 0.8814\n",
      "Epoch 29/30\n",
      "469/469 [==============================] - 6s 12ms/step - loss: 0.2441 - accuracy: 0.9106 - val_loss: 0.3389 - val_accuracy: 0.8772\n",
      "Epoch 30/30\n",
      "469/469 [==============================] - 6s 12ms/step - loss: 0.2408 - accuracy: 0.9124 - val_loss: 0.3256 - val_accuracy: 0.8857\n",
      "313/313 [==============================] - 2s 7ms/step - loss: 0.3256 - accuracy: 0.8857\n",
      "Validation loss: 0.32556620240211487, Validation accuracy: 0.8857000470161438\n"
     ]
    }
   ],
   "source": [
    "main()"
   ],
   "metadata": {
    "collapsed": false,
    "pycharm": {
     "name": "#%%\n"
    }
   }
  },
  {
   "cell_type": "code",
   "execution_count": 13,
   "outputs": [],
   "source": [],
   "metadata": {
    "collapsed": false,
    "pycharm": {
     "name": "#%%\n"
    }
   }
  }
 ],
 "metadata": {
  "kernelspec": {
   "display_name": "Python 3",
   "language": "python",
   "name": "python3"
  },
  "language_info": {
   "codemirror_mode": {
    "name": "ipython",
    "version": 2
   },
   "file_extension": ".py",
   "mimetype": "text/x-python",
   "name": "python",
   "nbconvert_exporter": "python",
   "pygments_lexer": "ipython2",
   "version": "2.7.6"
  }
 },
 "nbformat": 4,
 "nbformat_minor": 0
}