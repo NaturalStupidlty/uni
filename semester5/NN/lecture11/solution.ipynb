{
 "cells": [
  {
   "cell_type": "code",
   "execution_count": 4,
   "outputs": [],
   "source": [
    "from keras.datasets import imdb\n",
    "from keras.preprocessing.sequence import pad_sequences\n",
    "from keras.models import Sequential\n",
    "from keras.layers import Dense, LSTM\n",
    "from keras.layers import Embedding\n",
    "from keras.optimizers.legacy import Adam\n",
    "from keras.metrics import AUC\n",
    "\n",
    "from sklearn.model_selection import train_test_split"
   ],
   "metadata": {
    "collapsed": false,
    "pycharm": {
     "name": "#%%\n"
    }
   }
  },
  {
   "cell_type": "code",
   "execution_count": 5,
   "outputs": [],
   "source": [
    "def create_dataset(\n",
    "        vocabulary_size: int,\n",
    "        max_tokens: int,\n",
    "        test_size: float,\n",
    "        random_state: int = 69\n",
    "):\n",
    "    (X_train, y_train), (X_test, y_test) = imdb.load_data(num_words=vocabulary_size)\n",
    "\n",
    "    X_train = pad_sequences(X_train, maxlen=max_tokens)\n",
    "    X_test = pad_sequences(X_test, maxlen=max_tokens)\n",
    "\n",
    "    X_test, X_val, y_test, y_val = train_test_split(\n",
    "        X_test, y_test,\n",
    "        random_state=random_state,\n",
    "        test_size=test_size\n",
    "    )\n",
    "\n",
    "    return X_train, y_train, X_val, y_val, X_test, y_test"
   ],
   "metadata": {
    "collapsed": false,
    "pycharm": {
     "name": "#%%\n"
    }
   }
  },
  {
   "cell_type": "code",
   "execution_count": 6,
   "outputs": [],
   "source": [
    "def build_model(\n",
    "        vocabulary_size: int,\n",
    "        max_tokens: int,\n",
    "        embedding_dim: int,\n",
    "        dropout: float = 0.0,\n",
    "):\n",
    "    lstm = Sequential()\n",
    "    lstm.add(Embedding(input_dim=vocabulary_size, output_dim=embedding_dim, input_length=max_tokens))\n",
    "    lstm.add(LSTM(units=embedding_dim, dropout=dropout))\n",
    "    lstm.add(Dense(units=1, activation='sigmoid'))\n",
    "\n",
    "    optimizer = Adam(lr=1e-4, decay=1e-4)\n",
    "\n",
    "    lstm.compile(loss='binary_crossentropy', optimizer=optimizer, metrics=['accuracy', AUC()])\n",
    "\n",
    "    return lstm"
   ],
   "metadata": {
    "collapsed": false,
    "pycharm": {
     "name": "#%%\n"
    }
   }
  },
  {
   "cell_type": "code",
   "execution_count": 13,
   "outputs": [],
   "source": [
    "vocabulary_size = 50000\n",
    "max_tokens = 256\n",
    "\n",
    "X_train, y_train, X_val, y_val, X_test, y_test = create_dataset(\n",
    "    vocabulary_size=vocabulary_size,\n",
    "    max_tokens=max_tokens,\n",
    "    test_size=0.1\n",
    ")\n",
    "\n",
    "model = build_model(\n",
    "    vocabulary_size=vocabulary_size,\n",
    "    max_tokens=max_tokens,\n",
    "    embedding_dim=256,\n",
    "    dropout=0.25\n",
    ")"
   ],
   "metadata": {
    "collapsed": false,
    "pycharm": {
     "name": "#%%\n"
    }
   }
  },
  {
   "cell_type": "code",
   "execution_count": 14,
   "outputs": [
    {
     "name": "stdout",
     "output_type": "stream",
     "text": [
      "Epoch 1/3\n"
     ]
    },
    {
     "name": "stderr",
     "output_type": "stream",
     "text": [
      "2023-11-26 15:20:56.883806: I tensorflow/core/grappler/optimizers/custom_graph_optimizer_registry.cc:114] Plugin optimizer for device_type GPU is enabled.\n",
      "2023-11-26 15:20:57.175288: I tensorflow/core/grappler/optimizers/custom_graph_optimizer_registry.cc:114] Plugin optimizer for device_type GPU is enabled.\n",
      "2023-11-26 15:20:57.844353: I tensorflow/core/grappler/optimizers/custom_graph_optimizer_registry.cc:114] Plugin optimizer for device_type GPU is enabled.\n"
     ]
    },
    {
     "name": "stdout",
     "output_type": "stream",
     "text": [
      "1563/1563 [==============================] - ETA: 0s - loss: 0.4129 - accuracy: 0.8059 - auc_1: 0.8955"
     ]
    },
    {
     "name": "stderr",
     "output_type": "stream",
     "text": [
      "2023-11-26 15:23:53.077978: I tensorflow/core/grappler/optimizers/custom_graph_optimizer_registry.cc:114] Plugin optimizer for device_type GPU is enabled.\n",
      "2023-11-26 15:23:53.163539: I tensorflow/core/grappler/optimizers/custom_graph_optimizer_registry.cc:114] Plugin optimizer for device_type GPU is enabled.\n"
     ]
    },
    {
     "name": "stdout",
     "output_type": "stream",
     "text": [
      "1563/1563 [==============================] - 183s 116ms/step - loss: 0.4129 - accuracy: 0.8059 - auc_1: 0.8955 - val_loss: 0.3112 - val_accuracy: 0.8740 - val_auc_1: 0.9496\n",
      "Epoch 2/3\n",
      "1563/1563 [==============================] - 175s 112ms/step - loss: 0.2097 - accuracy: 0.9225 - auc_1: 0.9726 - val_loss: 0.2800 - val_accuracy: 0.8788 - val_auc_1: 0.9531\n",
      "Epoch 3/3\n",
      "1563/1563 [==============================] - 188s 120ms/step - loss: 0.1317 - accuracy: 0.9553 - auc_1: 0.9882 - val_loss: 0.3140 - val_accuracy: 0.8736 - val_auc_1: 0.9505\n"
     ]
    },
    {
     "data": {
      "text/plain": "<keras.src.callbacks.History at 0x293f40190>"
     },
     "execution_count": 14,
     "metadata": {},
     "output_type": "execute_result"
    }
   ],
   "source": [
    "model.fit(\n",
    "    X_train, y_train,\n",
    "    validation_data=(X_val, y_val),\n",
    "    epochs=3,\n",
    "    batch_size=16,\n",
    ")"
   ],
   "metadata": {
    "collapsed": false,
    "pycharm": {
     "name": "#%%\n"
    }
   }
  },
  {
   "cell_type": "code",
   "execution_count": 15,
   "outputs": [
    {
     "name": "stdout",
     "output_type": "stream",
     "text": [
      "704/704 [==============================] - 31s 43ms/step - loss: 0.3265 - accuracy: 0.8780 - auc_1: 0.9476\n"
     ]
    },
    {
     "data": {
      "text/plain": "[0.32651808857917786, 0.8780444264411926, 0.947562575340271]"
     },
     "execution_count": 15,
     "metadata": {},
     "output_type": "execute_result"
    }
   ],
   "source": [
    "model.evaluate(X_test, y_test)"
   ],
   "metadata": {
    "collapsed": false,
    "pycharm": {
     "name": "#%%\n"
    }
   }
  },
  {
   "cell_type": "code",
   "execution_count": 17,
   "outputs": [],
   "source": [
    "model.save('/Users/tylerdurden/GitHub/uni/semester5/NN/lecture11/imdb_model2.h5')"
   ],
   "metadata": {
    "collapsed": false,
    "pycharm": {
     "name": "#%%\n"
    }
   }
  }
 ],
 "metadata": {
  "kernelspec": {
   "display_name": "Python 3",
   "language": "python",
   "name": "python3"
  },
  "language_info": {
   "codemirror_mode": {
    "name": "ipython",
    "version": 2
   },
   "file_extension": ".py",
   "mimetype": "text/x-python",
   "name": "python",
   "nbconvert_exporter": "python",
   "pygments_lexer": "ipython2",
   "version": "2.7.6"
  }
 },
 "nbformat": 4,
 "nbformat_minor": 0
}