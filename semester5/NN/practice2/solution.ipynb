{
 "cells": [
  {
   "cell_type": "markdown",
   "source": [
    "Made by [Ihor](\"https://github.com/NaturalStupldity\")"
   ],
   "metadata": {
    "collapsed": false,
    "pycharm": {
     "name": "#%% md\n"
    }
   }
  },
  {
   "cell_type": "code",
   "execution_count": 1,
   "outputs": [],
   "source": [
    "import pandas as pd"
   ],
   "metadata": {
    "collapsed": false,
    "pycharm": {
     "name": "#%%\n"
    }
   }
  },
  {
   "cell_type": "code",
   "execution_count": 2,
   "outputs": [
    {
     "data": {
      "text/plain": "   age         workclass  fnlwgt  education  education-num  \\\n0   39         State-gov   77516  Bachelors             13   \n1   50  Self-emp-not-inc   83311  Bachelors             13   \n2   38           Private  215646    HS-grad              9   \n3   53           Private  234721       11th              7   \n4   28           Private  338409  Bachelors             13   \n5   37           Private  284582    Masters             14   \n6   49           Private  160187        9th              5   \n7   52  Self-emp-not-inc  209642    HS-grad              9   \n8   31           Private   45781    Masters             14   \n9   42           Private  159449  Bachelors             13   \n\n          marital-status         occupation   relationship   race     sex  \\\n0          Never-married       Adm-clerical  Not-in-family  White    Male   \n1     Married-civ-spouse    Exec-managerial        Husband  White    Male   \n2               Divorced  Handlers-cleaners  Not-in-family  White    Male   \n3     Married-civ-spouse  Handlers-cleaners        Husband  Black    Male   \n4     Married-civ-spouse     Prof-specialty           Wife  Black  Female   \n5     Married-civ-spouse    Exec-managerial           Wife  White  Female   \n6  Married-spouse-absent      Other-service  Not-in-family  Black  Female   \n7     Married-civ-spouse    Exec-managerial        Husband  White    Male   \n8          Never-married     Prof-specialty  Not-in-family  White  Female   \n9     Married-civ-spouse    Exec-managerial        Husband  White    Male   \n\n   capital-gain  capital-loss  hours-per-week native-country salary  \n0          2174             0              40  United-States  <=50K  \n1             0             0              13  United-States  <=50K  \n2             0             0              40  United-States  <=50K  \n3             0             0              40  United-States  <=50K  \n4             0             0              40           Cuba  <=50K  \n5             0             0              40  United-States  <=50K  \n6             0             0              16        Jamaica  <=50K  \n7             0             0              45  United-States   >50K  \n8         14084             0              50  United-States   >50K  \n9          5178             0              40  United-States   >50K  ",
      "text/html": "<div>\n<style scoped>\n    .dataframe tbody tr th:only-of-type {\n        vertical-align: middle;\n    }\n\n    .dataframe tbody tr th {\n        vertical-align: top;\n    }\n\n    .dataframe thead th {\n        text-align: right;\n    }\n</style>\n<table border=\"1\" class=\"dataframe\">\n  <thead>\n    <tr style=\"text-align: right;\">\n      <th></th>\n      <th>age</th>\n      <th>workclass</th>\n      <th>fnlwgt</th>\n      <th>education</th>\n      <th>education-num</th>\n      <th>marital-status</th>\n      <th>occupation</th>\n      <th>relationship</th>\n      <th>race</th>\n      <th>sex</th>\n      <th>capital-gain</th>\n      <th>capital-loss</th>\n      <th>hours-per-week</th>\n      <th>native-country</th>\n      <th>salary</th>\n    </tr>\n  </thead>\n  <tbody>\n    <tr>\n      <th>0</th>\n      <td>39</td>\n      <td>State-gov</td>\n      <td>77516</td>\n      <td>Bachelors</td>\n      <td>13</td>\n      <td>Never-married</td>\n      <td>Adm-clerical</td>\n      <td>Not-in-family</td>\n      <td>White</td>\n      <td>Male</td>\n      <td>2174</td>\n      <td>0</td>\n      <td>40</td>\n      <td>United-States</td>\n      <td>&lt;=50K</td>\n    </tr>\n    <tr>\n      <th>1</th>\n      <td>50</td>\n      <td>Self-emp-not-inc</td>\n      <td>83311</td>\n      <td>Bachelors</td>\n      <td>13</td>\n      <td>Married-civ-spouse</td>\n      <td>Exec-managerial</td>\n      <td>Husband</td>\n      <td>White</td>\n      <td>Male</td>\n      <td>0</td>\n      <td>0</td>\n      <td>13</td>\n      <td>United-States</td>\n      <td>&lt;=50K</td>\n    </tr>\n    <tr>\n      <th>2</th>\n      <td>38</td>\n      <td>Private</td>\n      <td>215646</td>\n      <td>HS-grad</td>\n      <td>9</td>\n      <td>Divorced</td>\n      <td>Handlers-cleaners</td>\n      <td>Not-in-family</td>\n      <td>White</td>\n      <td>Male</td>\n      <td>0</td>\n      <td>0</td>\n      <td>40</td>\n      <td>United-States</td>\n      <td>&lt;=50K</td>\n    </tr>\n    <tr>\n      <th>3</th>\n      <td>53</td>\n      <td>Private</td>\n      <td>234721</td>\n      <td>11th</td>\n      <td>7</td>\n      <td>Married-civ-spouse</td>\n      <td>Handlers-cleaners</td>\n      <td>Husband</td>\n      <td>Black</td>\n      <td>Male</td>\n      <td>0</td>\n      <td>0</td>\n      <td>40</td>\n      <td>United-States</td>\n      <td>&lt;=50K</td>\n    </tr>\n    <tr>\n      <th>4</th>\n      <td>28</td>\n      <td>Private</td>\n      <td>338409</td>\n      <td>Bachelors</td>\n      <td>13</td>\n      <td>Married-civ-spouse</td>\n      <td>Prof-specialty</td>\n      <td>Wife</td>\n      <td>Black</td>\n      <td>Female</td>\n      <td>0</td>\n      <td>0</td>\n      <td>40</td>\n      <td>Cuba</td>\n      <td>&lt;=50K</td>\n    </tr>\n    <tr>\n      <th>5</th>\n      <td>37</td>\n      <td>Private</td>\n      <td>284582</td>\n      <td>Masters</td>\n      <td>14</td>\n      <td>Married-civ-spouse</td>\n      <td>Exec-managerial</td>\n      <td>Wife</td>\n      <td>White</td>\n      <td>Female</td>\n      <td>0</td>\n      <td>0</td>\n      <td>40</td>\n      <td>United-States</td>\n      <td>&lt;=50K</td>\n    </tr>\n    <tr>\n      <th>6</th>\n      <td>49</td>\n      <td>Private</td>\n      <td>160187</td>\n      <td>9th</td>\n      <td>5</td>\n      <td>Married-spouse-absent</td>\n      <td>Other-service</td>\n      <td>Not-in-family</td>\n      <td>Black</td>\n      <td>Female</td>\n      <td>0</td>\n      <td>0</td>\n      <td>16</td>\n      <td>Jamaica</td>\n      <td>&lt;=50K</td>\n    </tr>\n    <tr>\n      <th>7</th>\n      <td>52</td>\n      <td>Self-emp-not-inc</td>\n      <td>209642</td>\n      <td>HS-grad</td>\n      <td>9</td>\n      <td>Married-civ-spouse</td>\n      <td>Exec-managerial</td>\n      <td>Husband</td>\n      <td>White</td>\n      <td>Male</td>\n      <td>0</td>\n      <td>0</td>\n      <td>45</td>\n      <td>United-States</td>\n      <td>&gt;50K</td>\n    </tr>\n    <tr>\n      <th>8</th>\n      <td>31</td>\n      <td>Private</td>\n      <td>45781</td>\n      <td>Masters</td>\n      <td>14</td>\n      <td>Never-married</td>\n      <td>Prof-specialty</td>\n      <td>Not-in-family</td>\n      <td>White</td>\n      <td>Female</td>\n      <td>14084</td>\n      <td>0</td>\n      <td>50</td>\n      <td>United-States</td>\n      <td>&gt;50K</td>\n    </tr>\n    <tr>\n      <th>9</th>\n      <td>42</td>\n      <td>Private</td>\n      <td>159449</td>\n      <td>Bachelors</td>\n      <td>13</td>\n      <td>Married-civ-spouse</td>\n      <td>Exec-managerial</td>\n      <td>Husband</td>\n      <td>White</td>\n      <td>Male</td>\n      <td>5178</td>\n      <td>0</td>\n      <td>40</td>\n      <td>United-States</td>\n      <td>&gt;50K</td>\n    </tr>\n  </tbody>\n</table>\n</div>"
     },
     "execution_count": 2,
     "metadata": {},
     "output_type": "execute_result"
    }
   ],
   "source": [
    "df = pd.read_csv('adult.data.csv')\n",
    "df.head(10)"
   ],
   "metadata": {
    "collapsed": false,
    "pycharm": {
     "name": "#%%\n"
    }
   }
  },
  {
   "cell_type": "markdown",
   "source": [
    "1. Скільки чоловіків та жінок (ознака sex) представлено в цьому наборі даних?"
   ],
   "metadata": {
    "collapsed": false,
    "pycharm": {
     "name": "#%% md\n"
    }
   }
  },
  {
   "cell_type": "code",
   "execution_count": 3,
   "outputs": [
    {
     "data": {
      "text/plain": "sex\nMale      21790\nFemale    10771\nName: count, dtype: int64"
     },
     "execution_count": 3,
     "metadata": {},
     "output_type": "execute_result"
    }
   ],
   "source": [
    "df['sex'].value_counts()"
   ],
   "metadata": {
    "collapsed": false,
    "pycharm": {
     "name": "#%%\n"
    }
   }
  },
  {
   "cell_type": "markdown",
   "source": [
    "2. Який середній вік жінок (ознака age)?"
   ],
   "metadata": {
    "collapsed": false,
    "pycharm": {
     "name": "#%% md\n"
    }
   }
  },
  {
   "cell_type": "code",
   "execution_count": 4,
   "outputs": [
    {
     "data": {
      "text/plain": "38.58164675532078"
     },
     "execution_count": 4,
     "metadata": {},
     "output_type": "execute_result"
    }
   ],
   "source": [
    "df['age'].mean()"
   ],
   "metadata": {
    "collapsed": false,
    "pycharm": {
     "name": "#%%\n"
    }
   }
  },
  {
   "cell_type": "markdown",
   "source": [
    "3. Яка частка громадян Німеччини (ознака native-country)?"
   ],
   "metadata": {
    "collapsed": false,
    "pycharm": {
     "name": "#%% md\n"
    }
   }
  },
  {
   "cell_type": "code",
   "execution_count": 5,
   "outputs": [
    {
     "data": {
      "text/plain": "0.004207487485028101"
     },
     "execution_count": 5,
     "metadata": {},
     "output_type": "execute_result"
    }
   ],
   "source": [
    "(df['native-country'] == \"Germany\").mean()"
   ],
   "metadata": {
    "collapsed": false,
    "pycharm": {
     "name": "#%%\n"
    }
   }
  },
  {
   "cell_type": "markdown",
   "source": [
    "4. Які середні значення та середньоквадратичні відхилення віку тих, хто отримує більше 50К в\n",
    "рік (ознака salary) та менше або рівно 50К в рік?"
   ],
   "metadata": {
    "collapsed": false,
    "pycharm": {
     "name": "#%% md\n"
    }
   }
  },
  {
   "cell_type": "code",
   "execution_count": 6,
   "outputs": [
    {
     "data": {
      "text/plain": "mean    44.249841\nstd     10.519028\nName: age, dtype: float64"
     },
     "execution_count": 6,
     "metadata": {},
     "output_type": "execute_result"
    }
   ],
   "source": [
    "df[df['salary'] == '>50K']['age'].agg(['mean', 'std'])"
   ],
   "metadata": {
    "collapsed": false,
    "pycharm": {
     "name": "#%%\n"
    }
   }
  },
  {
   "cell_type": "code",
   "execution_count": 7,
   "outputs": [
    {
     "data": {
      "text/plain": "mean    36.783738\nstd     14.020088\nName: age, dtype: float64"
     },
     "execution_count": 7,
     "metadata": {},
     "output_type": "execute_result"
    }
   ],
   "source": [
    "df[df['salary'] == '<=50K']['age'].agg(['mean', 'std'])"
   ],
   "metadata": {
    "collapsed": false,
    "pycharm": {
     "name": "#%%\n"
    }
   }
  },
  {
   "cell_type": "markdown",
   "source": [
    "5. Чи правда, що люди, які отримують більше 50К, мають як мінімум вищу освіту (ознака\n",
    "education: Bachelors, Prof-school, Assoc-acdm, Assoc-voc, Masters, Doctorate)?"
   ],
   "metadata": {
    "collapsed": false,
    "pycharm": {
     "name": "#%% md\n"
    }
   }
  },
  {
   "cell_type": "code",
   "execution_count": 8,
   "outputs": [
    {
     "name": "stdout",
     "output_type": "stream",
     "text": [
      "Не всі люди, які отримують більше 50К, мають як мінімум вищу освіту\n"
     ]
    }
   ],
   "source": [
    "uni = ['Bachelors', 'Prof-school', 'Assoc-acdm', 'Assoc-voc', 'Masters', 'Doctorate']\n",
    "if (df[(df['salary'] == '>50K') & (~df['education'].isin(uni))].empty):\n",
    "    print(\"Всі люди, які отримують більше 50К, мають як мінімум вищу освіту\")\n",
    "else:\n",
    "    print(\"Не всі люди, які отримують більше 50К, мають як мінімум вищу освіту\")"
   ],
   "metadata": {
    "collapsed": false,
    "pycharm": {
     "name": "#%%\n"
    }
   }
  },
  {
   "cell_type": "markdown",
   "source": [
    "6. Виведіть статистику віку для кожної раси (ознака race) і статі. Використовуйте groupby та\n",
    "describe. Знайдіть максимальний вік чоловіків раси Amer-Indian-Eskimo."
   ],
   "metadata": {
    "collapsed": false,
    "pycharm": {
     "name": "#%% md\n"
    }
   }
  },
  {
   "cell_type": "code",
   "execution_count": 9,
   "outputs": [
    {
     "data": {
      "text/plain": "                             count       mean        std   min   25%   50%  \\\nrace               sex                                                       \nAmer-Indian-Eskimo Female    119.0  37.117647  13.114991  17.0  27.0  36.0   \n                   Male      192.0  37.208333  12.049563  17.0  28.0  35.0   \nAsian-Pac-Islander Female    346.0  35.089595  12.300845  17.0  25.0  33.0   \n                   Male      693.0  39.073593  12.883944  18.0  29.0  37.0   \nBlack              Female   1555.0  37.854019  12.637197  17.0  28.0  37.0   \n                   Male     1569.0  37.682600  12.882612  17.0  27.0  36.0   \nOther              Female    109.0  31.678899  11.631599  17.0  23.0  29.0   \n                   Male      162.0  34.654321  11.355531  17.0  26.0  32.0   \nWhite              Female   8642.0  36.811618  14.329093  17.0  25.0  35.0   \n                   Male    19174.0  39.652498  13.436029  17.0  29.0  38.0   \n\n                             75%   max  \nrace               sex                  \nAmer-Indian-Eskimo Female  46.00  80.0  \n                   Male    45.00  82.0  \nAsian-Pac-Islander Female  43.75  75.0  \n                   Male    46.00  90.0  \nBlack              Female  46.00  90.0  \n                   Male    46.00  90.0  \nOther              Female  39.00  74.0  \n                   Male    42.00  77.0  \nWhite              Female  46.00  90.0  \n                   Male    49.00  90.0  ",
      "text/html": "<div>\n<style scoped>\n    .dataframe tbody tr th:only-of-type {\n        vertical-align: middle;\n    }\n\n    .dataframe tbody tr th {\n        vertical-align: top;\n    }\n\n    .dataframe thead th {\n        text-align: right;\n    }\n</style>\n<table border=\"1\" class=\"dataframe\">\n  <thead>\n    <tr style=\"text-align: right;\">\n      <th></th>\n      <th></th>\n      <th>count</th>\n      <th>mean</th>\n      <th>std</th>\n      <th>min</th>\n      <th>25%</th>\n      <th>50%</th>\n      <th>75%</th>\n      <th>max</th>\n    </tr>\n    <tr>\n      <th>race</th>\n      <th>sex</th>\n      <th></th>\n      <th></th>\n      <th></th>\n      <th></th>\n      <th></th>\n      <th></th>\n      <th></th>\n      <th></th>\n    </tr>\n  </thead>\n  <tbody>\n    <tr>\n      <th rowspan=\"2\" valign=\"top\">Amer-Indian-Eskimo</th>\n      <th>Female</th>\n      <td>119.0</td>\n      <td>37.117647</td>\n      <td>13.114991</td>\n      <td>17.0</td>\n      <td>27.0</td>\n      <td>36.0</td>\n      <td>46.00</td>\n      <td>80.0</td>\n    </tr>\n    <tr>\n      <th>Male</th>\n      <td>192.0</td>\n      <td>37.208333</td>\n      <td>12.049563</td>\n      <td>17.0</td>\n      <td>28.0</td>\n      <td>35.0</td>\n      <td>45.00</td>\n      <td>82.0</td>\n    </tr>\n    <tr>\n      <th rowspan=\"2\" valign=\"top\">Asian-Pac-Islander</th>\n      <th>Female</th>\n      <td>346.0</td>\n      <td>35.089595</td>\n      <td>12.300845</td>\n      <td>17.0</td>\n      <td>25.0</td>\n      <td>33.0</td>\n      <td>43.75</td>\n      <td>75.0</td>\n    </tr>\n    <tr>\n      <th>Male</th>\n      <td>693.0</td>\n      <td>39.073593</td>\n      <td>12.883944</td>\n      <td>18.0</td>\n      <td>29.0</td>\n      <td>37.0</td>\n      <td>46.00</td>\n      <td>90.0</td>\n    </tr>\n    <tr>\n      <th rowspan=\"2\" valign=\"top\">Black</th>\n      <th>Female</th>\n      <td>1555.0</td>\n      <td>37.854019</td>\n      <td>12.637197</td>\n      <td>17.0</td>\n      <td>28.0</td>\n      <td>37.0</td>\n      <td>46.00</td>\n      <td>90.0</td>\n    </tr>\n    <tr>\n      <th>Male</th>\n      <td>1569.0</td>\n      <td>37.682600</td>\n      <td>12.882612</td>\n      <td>17.0</td>\n      <td>27.0</td>\n      <td>36.0</td>\n      <td>46.00</td>\n      <td>90.0</td>\n    </tr>\n    <tr>\n      <th rowspan=\"2\" valign=\"top\">Other</th>\n      <th>Female</th>\n      <td>109.0</td>\n      <td>31.678899</td>\n      <td>11.631599</td>\n      <td>17.0</td>\n      <td>23.0</td>\n      <td>29.0</td>\n      <td>39.00</td>\n      <td>74.0</td>\n    </tr>\n    <tr>\n      <th>Male</th>\n      <td>162.0</td>\n      <td>34.654321</td>\n      <td>11.355531</td>\n      <td>17.0</td>\n      <td>26.0</td>\n      <td>32.0</td>\n      <td>42.00</td>\n      <td>77.0</td>\n    </tr>\n    <tr>\n      <th rowspan=\"2\" valign=\"top\">White</th>\n      <th>Female</th>\n      <td>8642.0</td>\n      <td>36.811618</td>\n      <td>14.329093</td>\n      <td>17.0</td>\n      <td>25.0</td>\n      <td>35.0</td>\n      <td>46.00</td>\n      <td>90.0</td>\n    </tr>\n    <tr>\n      <th>Male</th>\n      <td>19174.0</td>\n      <td>39.652498</td>\n      <td>13.436029</td>\n      <td>17.0</td>\n      <td>29.0</td>\n      <td>38.0</td>\n      <td>49.00</td>\n      <td>90.0</td>\n    </tr>\n  </tbody>\n</table>\n</div>"
     },
     "execution_count": 9,
     "metadata": {},
     "output_type": "execute_result"
    }
   ],
   "source": [
    "df.groupby(['race', 'sex'])['age'].describe()"
   ],
   "metadata": {
    "collapsed": false,
    "pycharm": {
     "name": "#%%\n"
    }
   }
  },
  {
   "cell_type": "code",
   "execution_count": 10,
   "outputs": [
    {
     "data": {
      "text/plain": "82"
     },
     "execution_count": 10,
     "metadata": {},
     "output_type": "execute_result"
    }
   ],
   "source": [
    "df[(df['race'] == 'Amer-Indian-Eskimo') & (df['sex'] == 'Male')]['age'].max()"
   ],
   "metadata": {
    "collapsed": false,
    "pycharm": {
     "name": "#%%\n"
    }
   }
  },
  {
   "cell_type": "markdown",
   "source": [
    "7. Серед кого більша частка з високою зарплатнею (>50K): серед одружених або неодружених\n",
    "чоловіків (ознака marital-status)? Одруженими вважаємо тих, у кого marital-status починається з Married (Married-civ-spouse, Married-spouse-absent, Married-AF-spouse), інших вважаємо неодруженими."
   ],
   "metadata": {
    "collapsed": false,
    "pycharm": {
     "name": "#%% md\n"
    }
   }
  },
  {
   "cell_type": "code",
   "execution_count": 11,
   "outputs": [],
   "source": [
    "def is_married(status):\n",
    "    return status.startswith(\"Married-\")"
   ],
   "metadata": {
    "collapsed": false,
    "pycharm": {
     "name": "#%%def is_married(status):\n"
    }
   }
  },
  {
   "cell_type": "code",
   "execution_count": 12,
   "outputs": [
    {
     "data": {
      "text/plain": "salary         <=50K      >50K\nis_married                    \nFalse       0.935546  0.064454\nTrue        0.563080  0.436920",
      "text/html": "<div>\n<style scoped>\n    .dataframe tbody tr th:only-of-type {\n        vertical-align: middle;\n    }\n\n    .dataframe tbody tr th {\n        vertical-align: top;\n    }\n\n    .dataframe thead th {\n        text-align: right;\n    }\n</style>\n<table border=\"1\" class=\"dataframe\">\n  <thead>\n    <tr style=\"text-align: right;\">\n      <th>salary</th>\n      <th>&lt;=50K</th>\n      <th>&gt;50K</th>\n    </tr>\n    <tr>\n      <th>is_married</th>\n      <th></th>\n      <th></th>\n    </tr>\n  </thead>\n  <tbody>\n    <tr>\n      <th>False</th>\n      <td>0.935546</td>\n      <td>0.064454</td>\n    </tr>\n    <tr>\n      <th>True</th>\n      <td>0.563080</td>\n      <td>0.436920</td>\n    </tr>\n  </tbody>\n</table>\n</div>"
     },
     "execution_count": 12,
     "metadata": {},
     "output_type": "execute_result"
    }
   ],
   "source": [
    "df['is_married'] = df['marital-status'].apply(is_married)\n",
    "salary_stats = df.groupby('is_married')['salary'].value_counts(normalize=True).unstack()\n",
    "salary_stats"
   ],
   "metadata": {
    "collapsed": false,
    "pycharm": {
     "name": "#%%\n"
    }
   }
  },
  {
   "cell_type": "code",
   "execution_count": 13,
   "outputs": [
    {
     "name": "stdout",
     "output_type": "stream",
     "text": [
      "Більша частина з високою зарплатнею (>50K) серед одружених чоловіків.\n"
     ]
    }
   ],
   "source": [
    "married_high_income_percentage = salary_stats.loc[True, '>50K']\n",
    "unmarried_high_income_percentage = salary_stats.loc[False, '>50K']\n",
    "\n",
    "if married_high_income_percentage > unmarried_high_income_percentage:\n",
    "    print(\"Більша частина з високою зарплатнею (>50K) серед одружених чоловіків.\")\n",
    "elif married_high_income_percentage < unmarried_high_income_percentage:\n",
    "    print(\"Більша частина з високою зарплатнею (>50K) серед неодружених чоловіків.\")\n",
    "else:\n",
    "    print(\"Частка з високою зарплатнею (>50K) однакова серед обох груп.\")"
   ],
   "metadata": {
    "collapsed": false,
    "pycharm": {
     "name": "#%%\n"
    }
   }
  },
  {
   "cell_type": "markdown",
   "source": [
    "8. Яку максимальну кількість годин людина працює на тиждень (ознака hours-per-week)? Скільки людей працюють таку кількість годин і який серед них відсоток заробляють багато?"
   ],
   "metadata": {
    "collapsed": false,
    "pycharm": {
     "name": "#%% md\n"
    }
   }
  },
  {
   "cell_type": "code",
   "execution_count": 14,
   "outputs": [
    {
     "name": "stdout",
     "output_type": "stream",
     "text": [
      "Максимальна кількість годин людина працює на тиждень:  99\n"
     ]
    }
   ],
   "source": [
    "max_load = df['hours-per-week'].max()\n",
    "print(\"Максимальна кількість годин людина працює на тиждень: \", max_load)"
   ],
   "metadata": {
    "collapsed": false,
    "pycharm": {
     "name": "#%%\n"
    }
   }
  },
  {
   "cell_type": "code",
   "execution_count": 15,
   "outputs": [
    {
     "name": "stdout",
     "output_type": "stream",
     "text": [
      "Кількість таких людей:  85\n"
     ]
    }
   ],
   "source": [
    "num_workaholics = df[df['hours-per-week'] == max_load].shape[0]\n",
    "print(\"Кількість таких людей: \", num_workaholics)"
   ],
   "metadata": {
    "collapsed": false,
    "pycharm": {
     "name": "#%%\n"
    }
   }
  },
  {
   "cell_type": "code",
   "execution_count": 16,
   "outputs": [
    {
     "name": "stdout",
     "output_type": "stream",
     "text": [
      "Відсоток людей, що заробляють багато: 29.41%\n"
     ]
    }
   ],
   "source": [
    "rich_guys = float(df[(df['hours-per-week'] == max_load) & (df['salary'] == '>50K')].shape[0]) / num_workaholics\n",
    "print(\"Відсоток людей, що заробляють багато: {:.2f}%\".format(100 * rich_guys))"
   ],
   "metadata": {
    "collapsed": false,
    "pycharm": {
     "name": "#%%\n"
    }
   }
  },
  {
   "cell_type": "markdown",
   "source": [
    "9. Порахуйте середній час роботи (ознака hours-per-week) тих, хто заробляє мало і багато для кожної країни (ознака native-country)."
   ],
   "metadata": {
    "collapsed": false,
    "pycharm": {
     "name": "#%% md\n"
    }
   }
  },
  {
   "cell_type": "code",
   "execution_count": 17,
   "outputs": [
    {
     "data": {
      "text/plain": "salary                          <=50K       >50K\nnative-country                                  \n?                           40.164760  45.547945\nCambodia                    41.416667  40.000000\nCanada                      37.914634  45.641026\nChina                       37.381818  38.900000\nColumbia                    38.684211  50.000000\nCuba                        37.985714  42.440000\nDominican-Republic          42.338235  47.000000\nEcuador                     38.041667  48.750000\nEl-Salvador                 36.030928  45.000000\nEngland                     40.483333  44.533333\nFrance                      41.058824  50.750000\nGermany                     39.139785  44.977273\nGreece                      41.809524  50.625000\nGuatemala                   39.360656  36.666667\nHaiti                       36.325000  42.750000\nHoland-Netherlands          40.000000        NaN\nHonduras                    34.333333  60.000000\nHong                        39.142857  45.000000\nHungary                     31.300000  50.000000\nIndia                       38.233333  46.475000\nIran                        41.440000  47.500000\nIreland                     40.947368  48.000000\nItaly                       39.625000  45.400000\nJamaica                     38.239437  41.100000\nJapan                       41.000000  47.958333\nLaos                        40.375000  40.000000\nMexico                      40.003279  46.575758\nNicaragua                   36.093750  37.500000\nOutlying-US(Guam-USVI-etc)  41.857143        NaN\nPeru                        35.068966  40.000000\nPhilippines                 38.065693  43.032787\nPoland                      38.166667  39.000000\nPortugal                    41.939394  41.500000\nPuerto-Rico                 38.470588  39.416667\nScotland                    39.444444  46.666667\nSouth                       40.156250  51.437500\nTaiwan                      33.774194  46.800000\nThailand                    42.866667  58.333333\nTrinadad&Tobago             37.058824  40.000000\nUnited-States               38.799127  45.505369\nVietnam                     37.193548  39.200000\nYugoslavia                  41.600000  49.500000",
      "text/html": "<div>\n<style scoped>\n    .dataframe tbody tr th:only-of-type {\n        vertical-align: middle;\n    }\n\n    .dataframe tbody tr th {\n        vertical-align: top;\n    }\n\n    .dataframe thead th {\n        text-align: right;\n    }\n</style>\n<table border=\"1\" class=\"dataframe\">\n  <thead>\n    <tr style=\"text-align: right;\">\n      <th>salary</th>\n      <th>&lt;=50K</th>\n      <th>&gt;50K</th>\n    </tr>\n    <tr>\n      <th>native-country</th>\n      <th></th>\n      <th></th>\n    </tr>\n  </thead>\n  <tbody>\n    <tr>\n      <th>?</th>\n      <td>40.164760</td>\n      <td>45.547945</td>\n    </tr>\n    <tr>\n      <th>Cambodia</th>\n      <td>41.416667</td>\n      <td>40.000000</td>\n    </tr>\n    <tr>\n      <th>Canada</th>\n      <td>37.914634</td>\n      <td>45.641026</td>\n    </tr>\n    <tr>\n      <th>China</th>\n      <td>37.381818</td>\n      <td>38.900000</td>\n    </tr>\n    <tr>\n      <th>Columbia</th>\n      <td>38.684211</td>\n      <td>50.000000</td>\n    </tr>\n    <tr>\n      <th>Cuba</th>\n      <td>37.985714</td>\n      <td>42.440000</td>\n    </tr>\n    <tr>\n      <th>Dominican-Republic</th>\n      <td>42.338235</td>\n      <td>47.000000</td>\n    </tr>\n    <tr>\n      <th>Ecuador</th>\n      <td>38.041667</td>\n      <td>48.750000</td>\n    </tr>\n    <tr>\n      <th>El-Salvador</th>\n      <td>36.030928</td>\n      <td>45.000000</td>\n    </tr>\n    <tr>\n      <th>England</th>\n      <td>40.483333</td>\n      <td>44.533333</td>\n    </tr>\n    <tr>\n      <th>France</th>\n      <td>41.058824</td>\n      <td>50.750000</td>\n    </tr>\n    <tr>\n      <th>Germany</th>\n      <td>39.139785</td>\n      <td>44.977273</td>\n    </tr>\n    <tr>\n      <th>Greece</th>\n      <td>41.809524</td>\n      <td>50.625000</td>\n    </tr>\n    <tr>\n      <th>Guatemala</th>\n      <td>39.360656</td>\n      <td>36.666667</td>\n    </tr>\n    <tr>\n      <th>Haiti</th>\n      <td>36.325000</td>\n      <td>42.750000</td>\n    </tr>\n    <tr>\n      <th>Holand-Netherlands</th>\n      <td>40.000000</td>\n      <td>NaN</td>\n    </tr>\n    <tr>\n      <th>Honduras</th>\n      <td>34.333333</td>\n      <td>60.000000</td>\n    </tr>\n    <tr>\n      <th>Hong</th>\n      <td>39.142857</td>\n      <td>45.000000</td>\n    </tr>\n    <tr>\n      <th>Hungary</th>\n      <td>31.300000</td>\n      <td>50.000000</td>\n    </tr>\n    <tr>\n      <th>India</th>\n      <td>38.233333</td>\n      <td>46.475000</td>\n    </tr>\n    <tr>\n      <th>Iran</th>\n      <td>41.440000</td>\n      <td>47.500000</td>\n    </tr>\n    <tr>\n      <th>Ireland</th>\n      <td>40.947368</td>\n      <td>48.000000</td>\n    </tr>\n    <tr>\n      <th>Italy</th>\n      <td>39.625000</td>\n      <td>45.400000</td>\n    </tr>\n    <tr>\n      <th>Jamaica</th>\n      <td>38.239437</td>\n      <td>41.100000</td>\n    </tr>\n    <tr>\n      <th>Japan</th>\n      <td>41.000000</td>\n      <td>47.958333</td>\n    </tr>\n    <tr>\n      <th>Laos</th>\n      <td>40.375000</td>\n      <td>40.000000</td>\n    </tr>\n    <tr>\n      <th>Mexico</th>\n      <td>40.003279</td>\n      <td>46.575758</td>\n    </tr>\n    <tr>\n      <th>Nicaragua</th>\n      <td>36.093750</td>\n      <td>37.500000</td>\n    </tr>\n    <tr>\n      <th>Outlying-US(Guam-USVI-etc)</th>\n      <td>41.857143</td>\n      <td>NaN</td>\n    </tr>\n    <tr>\n      <th>Peru</th>\n      <td>35.068966</td>\n      <td>40.000000</td>\n    </tr>\n    <tr>\n      <th>Philippines</th>\n      <td>38.065693</td>\n      <td>43.032787</td>\n    </tr>\n    <tr>\n      <th>Poland</th>\n      <td>38.166667</td>\n      <td>39.000000</td>\n    </tr>\n    <tr>\n      <th>Portugal</th>\n      <td>41.939394</td>\n      <td>41.500000</td>\n    </tr>\n    <tr>\n      <th>Puerto-Rico</th>\n      <td>38.470588</td>\n      <td>39.416667</td>\n    </tr>\n    <tr>\n      <th>Scotland</th>\n      <td>39.444444</td>\n      <td>46.666667</td>\n    </tr>\n    <tr>\n      <th>South</th>\n      <td>40.156250</td>\n      <td>51.437500</td>\n    </tr>\n    <tr>\n      <th>Taiwan</th>\n      <td>33.774194</td>\n      <td>46.800000</td>\n    </tr>\n    <tr>\n      <th>Thailand</th>\n      <td>42.866667</td>\n      <td>58.333333</td>\n    </tr>\n    <tr>\n      <th>Trinadad&amp;Tobago</th>\n      <td>37.058824</td>\n      <td>40.000000</td>\n    </tr>\n    <tr>\n      <th>United-States</th>\n      <td>38.799127</td>\n      <td>45.505369</td>\n    </tr>\n    <tr>\n      <th>Vietnam</th>\n      <td>37.193548</td>\n      <td>39.200000</td>\n    </tr>\n    <tr>\n      <th>Yugoslavia</th>\n      <td>41.600000</td>\n      <td>49.500000</td>\n    </tr>\n  </tbody>\n</table>\n</div>"
     },
     "execution_count": 17,
     "metadata": {},
     "output_type": "execute_result"
    }
   ],
   "source": [
    "df.groupby(['native-country', 'salary'])['hours-per-week'].mean().unstack()"
   ],
   "metadata": {
    "collapsed": false,
    "pycharm": {
     "name": "#%%\n"
    }
   }
  }
 ],
 "metadata": {
  "kernelspec": {
   "display_name": "Python 3",
   "language": "python",
   "name": "python3"
  },
  "language_info": {
   "codemirror_mode": {
    "name": "ipython",
    "version": 2
   },
   "file_extension": ".py",
   "mimetype": "text/x-python",
   "name": "python",
   "nbconvert_exporter": "python",
   "pygments_lexer": "ipython2",
   "version": "2.7.6"
  }
 },
 "nbformat": 4,
 "nbformat_minor": 0
}