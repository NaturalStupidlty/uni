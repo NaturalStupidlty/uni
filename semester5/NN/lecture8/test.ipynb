{
 "cells": [
  {
   "cell_type": "code",
   "execution_count": 1,
   "outputs": [],
   "source": [
    "import pandas as pd"
   ],
   "metadata": {
    "collapsed": false,
    "pycharm": {
     "name": "#%%\n"
    }
   }
  },
  {
   "cell_type": "code",
   "execution_count": 2,
   "outputs": [],
   "source": [
    "data = pd.read_csv(\"telecom_churn.csv\")"
   ],
   "metadata": {
    "collapsed": false,
    "pycharm": {
     "name": "#%%\n"
    }
   }
  },
  {
   "cell_type": "code",
   "execution_count": 5,
   "outputs": [
    {
     "data": {
      "text/plain": "  State  Account length  Area code International plan Voice mail plan  \\\n0    KS             128        415                 No             Yes   \n1    OH             107        415                 No             Yes   \n2    NJ             137        415                 No              No   \n3    OH              84        408                Yes              No   \n4    OK              75        415                Yes              No   \n\n   Number vmail messages  Total day minutes  Total day calls  \\\n0                     25              265.1              110   \n1                     26              161.6              123   \n2                      0              243.4              114   \n3                      0              299.4               71   \n4                      0              166.7              113   \n\n   Total day charge  Total eve minutes  Total eve calls  Total eve charge  \\\n0             45.07              197.4               99             16.78   \n1             27.47              195.5              103             16.62   \n2             41.38              121.2              110             10.30   \n3             50.90               61.9               88              5.26   \n4             28.34              148.3              122             12.61   \n\n   Total night minutes  Total night calls  Total night charge  \\\n0                244.7                 91               11.01   \n1                254.4                103               11.45   \n2                162.6                104                7.32   \n3                196.9                 89                8.86   \n4                186.9                121                8.41   \n\n   Total intl minutes  Total intl calls  Total intl charge  \\\n0                10.0                 3               2.70   \n1                13.7                 3               3.70   \n2                12.2                 5               3.29   \n3                 6.6                 7               1.78   \n4                10.1                 3               2.73   \n\n   Customer service calls  Churn  \n0                       1  False  \n1                       1  False  \n2                       0  False  \n3                       2  False  \n4                       3  False  ",
      "text/html": "<div>\n<style scoped>\n    .dataframe tbody tr th:only-of-type {\n        vertical-align: middle;\n    }\n\n    .dataframe tbody tr th {\n        vertical-align: top;\n    }\n\n    .dataframe thead th {\n        text-align: right;\n    }\n</style>\n<table border=\"1\" class=\"dataframe\">\n  <thead>\n    <tr style=\"text-align: right;\">\n      <th></th>\n      <th>State</th>\n      <th>Account length</th>\n      <th>Area code</th>\n      <th>International plan</th>\n      <th>Voice mail plan</th>\n      <th>Number vmail messages</th>\n      <th>Total day minutes</th>\n      <th>Total day calls</th>\n      <th>Total day charge</th>\n      <th>Total eve minutes</th>\n      <th>Total eve calls</th>\n      <th>Total eve charge</th>\n      <th>Total night minutes</th>\n      <th>Total night calls</th>\n      <th>Total night charge</th>\n      <th>Total intl minutes</th>\n      <th>Total intl calls</th>\n      <th>Total intl charge</th>\n      <th>Customer service calls</th>\n      <th>Churn</th>\n    </tr>\n  </thead>\n  <tbody>\n    <tr>\n      <th>0</th>\n      <td>KS</td>\n      <td>128</td>\n      <td>415</td>\n      <td>No</td>\n      <td>Yes</td>\n      <td>25</td>\n      <td>265.1</td>\n      <td>110</td>\n      <td>45.07</td>\n      <td>197.4</td>\n      <td>99</td>\n      <td>16.78</td>\n      <td>244.7</td>\n      <td>91</td>\n      <td>11.01</td>\n      <td>10.0</td>\n      <td>3</td>\n      <td>2.70</td>\n      <td>1</td>\n      <td>False</td>\n    </tr>\n    <tr>\n      <th>1</th>\n      <td>OH</td>\n      <td>107</td>\n      <td>415</td>\n      <td>No</td>\n      <td>Yes</td>\n      <td>26</td>\n      <td>161.6</td>\n      <td>123</td>\n      <td>27.47</td>\n      <td>195.5</td>\n      <td>103</td>\n      <td>16.62</td>\n      <td>254.4</td>\n      <td>103</td>\n      <td>11.45</td>\n      <td>13.7</td>\n      <td>3</td>\n      <td>3.70</td>\n      <td>1</td>\n      <td>False</td>\n    </tr>\n    <tr>\n      <th>2</th>\n      <td>NJ</td>\n      <td>137</td>\n      <td>415</td>\n      <td>No</td>\n      <td>No</td>\n      <td>0</td>\n      <td>243.4</td>\n      <td>114</td>\n      <td>41.38</td>\n      <td>121.2</td>\n      <td>110</td>\n      <td>10.30</td>\n      <td>162.6</td>\n      <td>104</td>\n      <td>7.32</td>\n      <td>12.2</td>\n      <td>5</td>\n      <td>3.29</td>\n      <td>0</td>\n      <td>False</td>\n    </tr>\n    <tr>\n      <th>3</th>\n      <td>OH</td>\n      <td>84</td>\n      <td>408</td>\n      <td>Yes</td>\n      <td>No</td>\n      <td>0</td>\n      <td>299.4</td>\n      <td>71</td>\n      <td>50.90</td>\n      <td>61.9</td>\n      <td>88</td>\n      <td>5.26</td>\n      <td>196.9</td>\n      <td>89</td>\n      <td>8.86</td>\n      <td>6.6</td>\n      <td>7</td>\n      <td>1.78</td>\n      <td>2</td>\n      <td>False</td>\n    </tr>\n    <tr>\n      <th>4</th>\n      <td>OK</td>\n      <td>75</td>\n      <td>415</td>\n      <td>Yes</td>\n      <td>No</td>\n      <td>0</td>\n      <td>166.7</td>\n      <td>113</td>\n      <td>28.34</td>\n      <td>148.3</td>\n      <td>122</td>\n      <td>12.61</td>\n      <td>186.9</td>\n      <td>121</td>\n      <td>8.41</td>\n      <td>10.1</td>\n      <td>3</td>\n      <td>2.73</td>\n      <td>3</td>\n      <td>False</td>\n    </tr>\n  </tbody>\n</table>\n</div>"
     },
     "execution_count": 5,
     "metadata": {},
     "output_type": "execute_result"
    }
   ],
   "source": [
    "# 1. Вивести зміст перших 5 рядків з файлу telecom_churn.csv.\n",
    "data.head()"
   ],
   "metadata": {
    "collapsed": false,
    "pycharm": {
     "name": "#%%\n"
    }
   }
  },
  {
   "cell_type": "code",
   "execution_count": 7,
   "outputs": [
    {
     "name": "stdout",
     "output_type": "stream",
     "text": [
      "<class 'pandas.core.frame.DataFrame'>\n",
      "RangeIndex: 3333 entries, 0 to 3332\n",
      "Data columns (total 20 columns):\n",
      " #   Column                  Non-Null Count  Dtype  \n",
      "---  ------                  --------------  -----  \n",
      " 0   State                   3333 non-null   object \n",
      " 1   Account length          3333 non-null   int64  \n",
      " 2   Area code               3333 non-null   int64  \n",
      " 3   International plan      3333 non-null   object \n",
      " 4   Voice mail plan         3333 non-null   object \n",
      " 5   Number vmail messages   3333 non-null   int64  \n",
      " 6   Total day minutes       3333 non-null   float64\n",
      " 7   Total day calls         3333 non-null   int64  \n",
      " 8   Total day charge        3333 non-null   float64\n",
      " 9   Total eve minutes       3333 non-null   float64\n",
      " 10  Total eve calls         3333 non-null   int64  \n",
      " 11  Total eve charge        3333 non-null   float64\n",
      " 12  Total night minutes     3333 non-null   float64\n",
      " 13  Total night calls       3333 non-null   int64  \n",
      " 14  Total night charge      3333 non-null   float64\n",
      " 15  Total intl minutes      3333 non-null   float64\n",
      " 16  Total intl calls        3333 non-null   int64  \n",
      " 17  Total intl charge       3333 non-null   float64\n",
      " 18  Customer service calls  3333 non-null   int64  \n",
      " 19  Churn                   3333 non-null   bool   \n",
      "dtypes: bool(1), float64(8), int64(8), object(3)\n",
      "memory usage: 498.1+ KB\n"
     ]
    }
   ],
   "source": [
    "# 2. Вивести розмір даних (кількість рядків і стовбців), назву ознак та їх типи.\n",
    "data.info()"
   ],
   "metadata": {
    "collapsed": false,
    "pycharm": {
     "name": "#%%\n"
    }
   }
  },
  {
   "cell_type": "code",
   "execution_count": 10,
   "outputs": [
    {
     "name": "stdout",
     "output_type": "stream",
     "text": [
      "Пропусків немає\n"
     ]
    }
   ],
   "source": [
    "# Чи є пропуски даний у таблиці?\n",
    "if data.isnull().sum().sum() == 0:\n",
    "    print(\"Пропусків немає\")\n",
    "else:\n",
    "    print(\"Пропуски є\")"
   ],
   "metadata": {
    "collapsed": false,
    "pycharm": {
     "name": "#%%\n"
    }
   }
  },
  {
   "cell_type": "code",
   "execution_count": 13,
   "outputs": [
    {
     "name": "stdout",
     "output_type": "stream",
     "text": [
      "int64\n"
     ]
    }
   ],
   "source": [
    "# 3. Змінити тип даних для стовпчика Churn на int64.\n",
    "data[\"Churn\"] = data[\"Churn\"].astype(\"int64\")\n",
    "print(data[\"Churn\"].dtype)"
   ],
   "metadata": {
    "collapsed": false,
    "pycharm": {
     "name": "#%%\n"
    }
   }
  },
  {
   "cell_type": "code",
   "execution_count": 14,
   "outputs": [
    {
     "data": {
      "text/plain": "     State  Account length  Area code International plan Voice mail plan  \\\n817     UT             243        510                 No              No   \n1408    NM             232        408                 No              No   \n1751    WY             225        415                 No              No   \n1551    MI             225        415                 No              No   \n1886    ID             224        510                 No              No   \n...    ...             ...        ...                ...             ...   \n1838    IA               1        408                 No             Yes   \n2879    SC               1        415                 No             Yes   \n923     MS               1        415                 No              No   \n1409    NJ               1        415                 No             Yes   \n2475    AK               1        408                 No              No   \n\n      Number vmail messages  Total day minutes  Total day calls  \\\n817                       0               95.5               92   \n1408                      0              165.6              104   \n1751                      0              182.7              142   \n1551                      0              165.4              106   \n1886                      0              111.4              133   \n...                     ...                ...              ...   \n1838                     26              208.0              115   \n2879                     26              146.6               68   \n923                       0              144.8              107   \n1409                     30              183.1               95   \n2475                      0              175.2               74   \n\n      Total day charge  Total eve minutes  Total eve calls  Total eve charge  \\\n817              16.24              163.7               63             13.91   \n1408             28.15              195.9              115             16.65   \n1751             31.06              246.5               63             20.95   \n1551             28.12              273.7              109             23.26   \n1886             18.94              175.0               66             14.88   \n...                ...                ...              ...               ...   \n1838             35.36              185.0              113             15.73   \n2879             24.92              172.8               67             14.69   \n923              24.62              112.5               66              9.56   \n1409             31.13              232.6              110             19.77   \n2475             29.78              151.7               79             12.89   \n\n      Total night minutes  Total night calls  Total night charge  \\\n817                 264.2                118               11.89   \n1408                118.3                 77                5.32   \n1751                218.0                103                9.81   \n1551                210.0                 93                9.45   \n1886                217.2                106                9.77   \n...                   ...                ...                 ...   \n1838                177.7                144                8.00   \n2879                173.8                113                7.82   \n923                 218.7                 79                9.84   \n1409                248.3                110               11.17   \n2475                230.5                109               10.37   \n\n      Total intl minutes  Total intl calls  Total intl charge  \\\n817                  6.6                 6               1.78   \n1408                11.8                 3               3.19   \n1751                 8.8                 2               2.38   \n1551                 8.7                 3               2.35   \n1886                 5.5                 6               1.49   \n...                  ...               ...                ...   \n1838                 8.1                 9               2.19   \n2879                10.0                 2               2.70   \n923                 13.8                 3               3.73   \n1409                 8.4                 2               2.27   \n2475                 5.3                 3               1.43   \n\n      Customer service calls  Churn  \n817                        2      0  \n1408                       1      0  \n1751                       1      0  \n1551                       0      1  \n1886                       3      0  \n...                      ...    ...  \n1838                       1      0  \n2879                       1      0  \n923                        1      0  \n1409                       0      0  \n2475                       1      0  \n\n[3333 rows x 20 columns]",
      "text/html": "<div>\n<style scoped>\n    .dataframe tbody tr th:only-of-type {\n        vertical-align: middle;\n    }\n\n    .dataframe tbody tr th {\n        vertical-align: top;\n    }\n\n    .dataframe thead th {\n        text-align: right;\n    }\n</style>\n<table border=\"1\" class=\"dataframe\">\n  <thead>\n    <tr style=\"text-align: right;\">\n      <th></th>\n      <th>State</th>\n      <th>Account length</th>\n      <th>Area code</th>\n      <th>International plan</th>\n      <th>Voice mail plan</th>\n      <th>Number vmail messages</th>\n      <th>Total day minutes</th>\n      <th>Total day calls</th>\n      <th>Total day charge</th>\n      <th>Total eve minutes</th>\n      <th>Total eve calls</th>\n      <th>Total eve charge</th>\n      <th>Total night minutes</th>\n      <th>Total night calls</th>\n      <th>Total night charge</th>\n      <th>Total intl minutes</th>\n      <th>Total intl calls</th>\n      <th>Total intl charge</th>\n      <th>Customer service calls</th>\n      <th>Churn</th>\n    </tr>\n  </thead>\n  <tbody>\n    <tr>\n      <th>817</th>\n      <td>UT</td>\n      <td>243</td>\n      <td>510</td>\n      <td>No</td>\n      <td>No</td>\n      <td>0</td>\n      <td>95.5</td>\n      <td>92</td>\n      <td>16.24</td>\n      <td>163.7</td>\n      <td>63</td>\n      <td>13.91</td>\n      <td>264.2</td>\n      <td>118</td>\n      <td>11.89</td>\n      <td>6.6</td>\n      <td>6</td>\n      <td>1.78</td>\n      <td>2</td>\n      <td>0</td>\n    </tr>\n    <tr>\n      <th>1408</th>\n      <td>NM</td>\n      <td>232</td>\n      <td>408</td>\n      <td>No</td>\n      <td>No</td>\n      <td>0</td>\n      <td>165.6</td>\n      <td>104</td>\n      <td>28.15</td>\n      <td>195.9</td>\n      <td>115</td>\n      <td>16.65</td>\n      <td>118.3</td>\n      <td>77</td>\n      <td>5.32</td>\n      <td>11.8</td>\n      <td>3</td>\n      <td>3.19</td>\n      <td>1</td>\n      <td>0</td>\n    </tr>\n    <tr>\n      <th>1751</th>\n      <td>WY</td>\n      <td>225</td>\n      <td>415</td>\n      <td>No</td>\n      <td>No</td>\n      <td>0</td>\n      <td>182.7</td>\n      <td>142</td>\n      <td>31.06</td>\n      <td>246.5</td>\n      <td>63</td>\n      <td>20.95</td>\n      <td>218.0</td>\n      <td>103</td>\n      <td>9.81</td>\n      <td>8.8</td>\n      <td>2</td>\n      <td>2.38</td>\n      <td>1</td>\n      <td>0</td>\n    </tr>\n    <tr>\n      <th>1551</th>\n      <td>MI</td>\n      <td>225</td>\n      <td>415</td>\n      <td>No</td>\n      <td>No</td>\n      <td>0</td>\n      <td>165.4</td>\n      <td>106</td>\n      <td>28.12</td>\n      <td>273.7</td>\n      <td>109</td>\n      <td>23.26</td>\n      <td>210.0</td>\n      <td>93</td>\n      <td>9.45</td>\n      <td>8.7</td>\n      <td>3</td>\n      <td>2.35</td>\n      <td>0</td>\n      <td>1</td>\n    </tr>\n    <tr>\n      <th>1886</th>\n      <td>ID</td>\n      <td>224</td>\n      <td>510</td>\n      <td>No</td>\n      <td>No</td>\n      <td>0</td>\n      <td>111.4</td>\n      <td>133</td>\n      <td>18.94</td>\n      <td>175.0</td>\n      <td>66</td>\n      <td>14.88</td>\n      <td>217.2</td>\n      <td>106</td>\n      <td>9.77</td>\n      <td>5.5</td>\n      <td>6</td>\n      <td>1.49</td>\n      <td>3</td>\n      <td>0</td>\n    </tr>\n    <tr>\n      <th>...</th>\n      <td>...</td>\n      <td>...</td>\n      <td>...</td>\n      <td>...</td>\n      <td>...</td>\n      <td>...</td>\n      <td>...</td>\n      <td>...</td>\n      <td>...</td>\n      <td>...</td>\n      <td>...</td>\n      <td>...</td>\n      <td>...</td>\n      <td>...</td>\n      <td>...</td>\n      <td>...</td>\n      <td>...</td>\n      <td>...</td>\n      <td>...</td>\n      <td>...</td>\n    </tr>\n    <tr>\n      <th>1838</th>\n      <td>IA</td>\n      <td>1</td>\n      <td>408</td>\n      <td>No</td>\n      <td>Yes</td>\n      <td>26</td>\n      <td>208.0</td>\n      <td>115</td>\n      <td>35.36</td>\n      <td>185.0</td>\n      <td>113</td>\n      <td>15.73</td>\n      <td>177.7</td>\n      <td>144</td>\n      <td>8.00</td>\n      <td>8.1</td>\n      <td>9</td>\n      <td>2.19</td>\n      <td>1</td>\n      <td>0</td>\n    </tr>\n    <tr>\n      <th>2879</th>\n      <td>SC</td>\n      <td>1</td>\n      <td>415</td>\n      <td>No</td>\n      <td>Yes</td>\n      <td>26</td>\n      <td>146.6</td>\n      <td>68</td>\n      <td>24.92</td>\n      <td>172.8</td>\n      <td>67</td>\n      <td>14.69</td>\n      <td>173.8</td>\n      <td>113</td>\n      <td>7.82</td>\n      <td>10.0</td>\n      <td>2</td>\n      <td>2.70</td>\n      <td>1</td>\n      <td>0</td>\n    </tr>\n    <tr>\n      <th>923</th>\n      <td>MS</td>\n      <td>1</td>\n      <td>415</td>\n      <td>No</td>\n      <td>No</td>\n      <td>0</td>\n      <td>144.8</td>\n      <td>107</td>\n      <td>24.62</td>\n      <td>112.5</td>\n      <td>66</td>\n      <td>9.56</td>\n      <td>218.7</td>\n      <td>79</td>\n      <td>9.84</td>\n      <td>13.8</td>\n      <td>3</td>\n      <td>3.73</td>\n      <td>1</td>\n      <td>0</td>\n    </tr>\n    <tr>\n      <th>1409</th>\n      <td>NJ</td>\n      <td>1</td>\n      <td>415</td>\n      <td>No</td>\n      <td>Yes</td>\n      <td>30</td>\n      <td>183.1</td>\n      <td>95</td>\n      <td>31.13</td>\n      <td>232.6</td>\n      <td>110</td>\n      <td>19.77</td>\n      <td>248.3</td>\n      <td>110</td>\n      <td>11.17</td>\n      <td>8.4</td>\n      <td>2</td>\n      <td>2.27</td>\n      <td>0</td>\n      <td>0</td>\n    </tr>\n    <tr>\n      <th>2475</th>\n      <td>AK</td>\n      <td>1</td>\n      <td>408</td>\n      <td>No</td>\n      <td>No</td>\n      <td>0</td>\n      <td>175.2</td>\n      <td>74</td>\n      <td>29.78</td>\n      <td>151.7</td>\n      <td>79</td>\n      <td>12.89</td>\n      <td>230.5</td>\n      <td>109</td>\n      <td>10.37</td>\n      <td>5.3</td>\n      <td>3</td>\n      <td>1.43</td>\n      <td>1</td>\n      <td>0</td>\n    </tr>\n  </tbody>\n</table>\n<p>3333 rows × 20 columns</p>\n</div>"
     },
     "execution_count": 14,
     "metadata": {},
     "output_type": "execute_result"
    }
   ],
   "source": [
    "# 4. Виконати сортування по Account length за спаданням.\n",
    "data.sort_values(by=\"Account length\", ascending=False)"
   ],
   "metadata": {
    "collapsed": false,
    "pycharm": {
     "name": "#%%\n"
    }
   }
  },
  {
   "cell_type": "code",
   "execution_count": 15,
   "outputs": [],
   "source": [
    "# 5. Надати відповідь на питання: яка максимальна довжина міжнародних дзвінків серед лояльних користувачів (Churn == 0), що не користуються послугою міжнародного роумінгу ('International plan' == 'No')?"
   ],
   "metadata": {
    "collapsed": false,
    "pycharm": {
     "name": "#%%\n"
    }
   }
  },
  {
   "cell_type": "code",
   "execution_count": 19,
   "outputs": [
    {
     "data": {
      "text/plain": "18.9"
     },
     "execution_count": 19,
     "metadata": {},
     "output_type": "execute_result"
    }
   ],
   "source": [
    "data[(data[\"Churn\"] == 0) & (data[\"International plan\"] == \"No\")][\"Total intl minutes\"].max()"
   ],
   "metadata": {
    "collapsed": false,
    "pycharm": {
     "name": "#%%\n"
    }
   }
  },
  {
   "cell_type": "code",
   "execution_count": 20,
   "outputs": [],
   "source": [
    "# 6. Порахувати загальну кількість дзвінків (Total day charge, Total eve charge, Total night charge) для всіх користувачів. Результат занести у новий стовпчик Total charge."
   ],
   "metadata": {
    "collapsed": false,
    "pycharm": {
     "name": "#%%\n"
    }
   }
  },
  {
   "cell_type": "code",
   "execution_count": 22,
   "outputs": [
    {
     "data": {
      "text/plain": "0       72.86\n1       55.54\n2       59.00\n3       65.02\n4       49.36\n        ...  \n3328    57.43\n3329    60.94\n3330    63.93\n3331    56.18\n3332    73.31\nName: Total charge, Length: 3333, dtype: float64"
     },
     "execution_count": 22,
     "metadata": {},
     "output_type": "execute_result"
    }
   ],
   "source": [
    "data[\"Total charge\"] = data[\"Total day charge\"] + data[\"Total eve charge\"] + data[\"Total night charge\"]\n",
    "data[\"Total charge\"]"
   ],
   "metadata": {
    "collapsed": false,
    "pycharm": {
     "name": "#%%\n"
    }
   }
  },
  {
   "cell_type": "code",
   "execution_count": 23,
   "outputs": [],
   "source": [
    "# 7. Зробити графічну інтерпретацію попереднього пункту для 10 користувачів за максимальними показниками, що формують Total charge. Значення Total day charge, Total eve charge, Total night charge, Total charge повинні відображатися графічно."
   ],
   "metadata": {
    "collapsed": false,
    "pycharm": {
     "name": "#%%\n"
    }
   }
  },
  {
   "cell_type": "code",
   "execution_count": 24,
   "outputs": [],
   "source": [
    "import matplotlib.pyplot as plt"
   ],
   "metadata": {
    "collapsed": false,
    "pycharm": {
     "name": "#%%\n"
    }
   }
  },
  {
   "cell_type": "code",
   "execution_count": 25,
   "outputs": [
    {
     "data": {
      "text/plain": "<Axes: xlabel='State'>"
     },
     "execution_count": 25,
     "metadata": {},
     "output_type": "execute_result"
    },
    {
     "data": {
      "text/plain": "<Figure size 640x480 with 1 Axes>",
      "image/png": "[encoded data removed]"
     },
     "metadata": {},
     "output_type": "display_data"
    }
   ],
   "source": [
    "data.sort_values(by=\"Total charge\", ascending=False).head(10).plot(kind=\"bar\", x=\"State\", y=[\"Total day charge\", \"Total eve charge\", \"Total night charge\", \"Total charge\"])"
   ],
   "metadata": {
    "collapsed": false,
    "pycharm": {
     "name": "#%%\n"
    }
   }
  },
  {
   "cell_type": "code",
   "execution_count": 26,
   "outputs": [],
   "source": [
    "# 8. Побудувати і вивести графічну інтерпретацію багатошарової моделі персептрона для бінарної класифікації. Модель повинна мати 8 входів, 4 прихованих шарів з 15, 10 15 та 20 нейронами і вихідний шар з 1 виходом. Функції лінійної активації використовуються в кожному прихованому шарі, а функція активації сигмоїда використовується в вихідному шарі для двійковій класифікації."
   ],
   "metadata": {
    "collapsed": false,
    "pycharm": {
     "name": "#%%\n"
    }
   }
  },
  {
   "cell_type": "code",
   "execution_count": 38,
   "outputs": [],
   "source": [
    "from keras.models import Sequential\n",
    "from keras.layers import Dense, Input\n",
    "from keras.utils import plot_model"
   ],
   "metadata": {
    "collapsed": false,
    "pycharm": {
     "name": "#%%\n"
    }
   }
  },
  {
   "cell_type": "code",
   "execution_count": 39,
   "outputs": [],
   "source": [
    "model = Sequential()\n",
    "model.add(Input(shape=(8,)))\n",
    "model.add(Dense(15, activation=\"linear\"))\n",
    "model.add(Dense(10, activation=\"linear\"))\n",
    "model.add(Dense(15, activation=\"linear\"))\n",
    "model.add(Dense(20, activation=\"linear\"))\n",
    "model.add(Dense(1, activation=\"sigmoid\"))"
   ],
   "metadata": {
    "collapsed": false,
    "pycharm": {
     "name": "#%%\n"
    }
   }
  },
  {
   "cell_type": "code",
   "execution_count": 40,
   "outputs": [
    {
     "name": "stdout",
     "output_type": "stream",
     "text": [
      "You must install pydot (`pip install pydot`) and install graphviz (see instructions at https://graphviz.gitlab.io/download/) for plot_model to work.\n"
     ]
    }
   ],
   "source": [
    "plot_model(model, show_shapes=True)"
   ],
   "metadata": {
    "collapsed": false,
    "pycharm": {
     "name": "#%%\n"
    }
   }
  },
  {
   "cell_type": "code",
   "execution_count": null,
   "outputs": [],
   "source": [],
   "metadata": {
    "collapsed": false,
    "pycharm": {
     "name": "#%%\n"
    }
   }
  }
 ],
 "metadata": {
  "kernelspec": {
   "display_name": "Python 3",
   "language": "python",
   "name": "python3"
  },
  "language_info": {
   "codemirror_mode": {
    "name": "ipython",
    "version": 2
   },
   "file_extension": ".py",
   "mimetype": "text/x-python",
   "name": "python",
   "nbconvert_exporter": "python",
   "pygments_lexer": "ipython2",
   "version": "2.7.6"
  }
 },
 "nbformat": 4,
 "nbformat_minor": 0
}