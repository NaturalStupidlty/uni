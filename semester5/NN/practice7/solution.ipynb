{
 "cells": [
  {
   "cell_type": "code",
   "execution_count": 298,
   "metadata": {
    "collapsed": true,
    "pycharm": {
     "name": "#%%\n"
    }
   },
   "outputs": [],
   "source": [
    "from keras.preprocessing.sequence import pad_sequences\n",
    "from keras.models import load_model\n",
    "from keras.datasets import imdb\n",
    "import gradio as gr\n",
    "import numpy as np"
   ]
  },
  {
   "cell_type": "code",
   "execution_count": 299,
   "outputs": [],
   "source": [
    "word_to_index = imdb.get_word_index()\n",
    "index_to_word = {index: word for word, index in word_to_index.items()}\n",
    "model = load_model(\"../lecture11/imdb_model.h5\")"
   ],
   "metadata": {
    "collapsed": false,
    "pycharm": {
     "name": "#%%\n"
    }
   }
  },
  {
   "cell_type": "code",
   "execution_count": 305,
   "outputs": [],
   "source": [
    "(x_train, y_train), (x_test, y_test) = imdb.load_data()"
   ],
   "metadata": {
    "collapsed": false,
    "pycharm": {
     "name": "#%%\n"
    }
   }
  },
  {
   "cell_type": "code",
   "execution_count": 300,
   "outputs": [],
   "source": [
    "def encode_text(text: str, start_index: int = 3):\n",
    "    encoded = [1]\n",
    "    for word in text.split():\n",
    "        if word in word_to_index:\n",
    "            encoded.append(word_to_index[word.lower()] + start_index)\n",
    "        else:\n",
    "            encoded.append(2)\n",
    "\n",
    "    return encoded\n",
    "\n",
    "def pad_text(encoded_text: list, pad_length: int = 256):\n",
    "    padded = pad_sequences([encoded_text], maxlen=pad_length, value=0, padding=\"post\")\n",
    "\n",
    "    return padded\n",
    "\n",
    "def preprocess_text(text: str):\n",
    "    encoded = encode_text(text)\n",
    "    padded = pad_text(encoded)\n",
    "    padded = np.array(padded)\n",
    "\n",
    "    return padded"
   ],
   "metadata": {
    "collapsed": false,
    "pycharm": {
     "name": "#%%\n"
    }
   }
  },
  {
   "cell_type": "code",
   "execution_count": 301,
   "outputs": [],
   "source": [
    "\n",
    "def predict(input_text: str):\n",
    "    preprocessed_text = preprocess_text(input_text)\n",
    "    print(preprocessed_text)\n",
    "    prediction = model.predict(preprocessed_text)[0][0]\n",
    "\n",
    "    return prediction\n",
    "\n",
    "def parse_prediction(prediction: float, threshold: float = 0.5):\n",
    "    return \"Positive\" if prediction > threshold else \"Negative\"\n",
    "\n",
    "def classify(input_text: str):\n",
    "    prediction = predict(input_text)\n",
    "\n",
    "    return parse_prediction(prediction)"
   ],
   "metadata": {
    "collapsed": false,
    "pycharm": {
     "name": "#%%\n"
    }
   }
  },
  {
   "cell_type": "code",
   "execution_count": 302,
   "outputs": [],
   "source": [
    "def start_ui():\n",
    "    ui = gr.Interface(fn=classify, inputs=\"text\", outputs=\"text\")\n",
    "    ui.launch(show_api=False, share=True)"
   ],
   "metadata": {
    "collapsed": false,
    "pycharm": {
     "name": "#%%\n"
    }
   }
  },
  {
   "cell_type": "code",
   "execution_count": 304,
   "outputs": [
    {
     "name": "stdout",
     "output_type": "stream",
     "text": [
      "Running on local URL:  http://127.0.0.1:7873\n",
      "Running on public URL: https://92a7a345f2a34d0a96.gradio.live\n",
      "\n",
      "This share link expires in 72 hours. For free permanent hosting and GPU upgrades, run `gradio deploy` from Terminal to deploy to Spaces (https://huggingface.co/spaces)\n"
     ]
    },
    {
     "data": {
      "text/plain": "<IPython.core.display.HTML object>",
      "text/html": "<div><iframe src=\"https://92a7a345f2a34d0a96.gradio.live\" width=\"100%\" height=\"500\" allow=\"autoplay; camera; microphone; clipboard-read; clipboard-write;\" frameborder=\"0\" allowfullscreen></iframe></div>"
     },
     "metadata": {},
     "output_type": "display_data"
    }
   ],
   "source": [
    "start_ui()"
   ],
   "metadata": {
    "collapsed": false,
    "pycharm": {
     "name": "#%%\n"
    }
   }
  }
 ],
 "metadata": {
  "kernelspec": {
   "display_name": "Python 3",
   "language": "python",
   "name": "python3"
  },
  "language_info": {
   "codemirror_mode": {
    "name": "ipython",
    "version": 2
   },
   "file_extension": ".py",
   "mimetype": "text/x-python",
   "name": "python",
   "nbconvert_exporter": "python",
   "pygments_lexer": "ipython2",
   "version": "2.7.6"
  }
 },
 "nbformat": 4,
 "nbformat_minor": 0
}