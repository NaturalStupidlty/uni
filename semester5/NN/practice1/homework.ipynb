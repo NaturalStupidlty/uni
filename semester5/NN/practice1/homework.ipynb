{
 "nbformat": 4,
 "nbformat_minor": 0,
 "metadata": {
  "colab": {
   "provenance": []
  },
  "kernelspec": {
   "name": "python3",
   "display_name": "Python 3"
  },
  "language_info": {
   "name": "python"
  }
 },
 "cells": [
  {
   "cell_type": "code",
   "execution_count": 1,
   "metadata": {
    "id": "jGiCau69VEB_",
    "pycharm": {
     "name": "#%%\n"
    }
   },
   "outputs": [],
   "source": [
    "import torch"
   ]
  },
  {
   "cell_type": "code",
   "source": [
    "### Task 1"
   ],
   "metadata": {
    "id": "WuCzLdV7VmIK",
    "pycharm": {
     "name": "#%%\n"
    }
   },
   "execution_count": 4,
   "outputs": []
  },
  {
   "cell_type": "code",
   "source": [
    "A = torch.Tensor([[1, -3], [8, 0]])\n",
    "B = torch.Tensor([[-1, 1], [0, 4]])\n",
    "\n",
    "X = torch.linalg.solve(2 * torch.eye(2), A - 3 * B)\n",
    "\n",
    "print(\"Solution:\")\n",
    "print(X)"
   ],
   "metadata": {
    "colab": {
     "base_uri": "https://localhost:8080/"
    },
    "id": "rmLQNvZtVFgI",
    "outputId": "de4bedeb-77a3-4ce0-a0f9-835d0f9e9582",
    "pycharm": {
     "name": "#%%\n"
    }
   },
   "execution_count": 17,
   "outputs": [
    {
     "output_type": "stream",
     "name": "stdout",
     "text": [
      "Solution:\n",
      "tensor([[ 2., -3.],\n",
      "        [ 4., -6.]])\n"
     ]
    }
   ]
  },
  {
   "cell_type": "code",
   "source": [
    "### Task 2"
   ],
   "metadata": {
    "id": "HJQurYgkXd6P",
    "pycharm": {
     "name": "#%%\n"
    }
   },
   "execution_count": 10,
   "outputs": []
  },
  {
   "cell_type": "code",
   "source": [
    "A = torch.Tensor([[3, 2, 1], [2, 3, 1], [2, 1, 3]])\n",
    "\n",
    "B = torch.Tensor([[3], [1], [4]])\n",
    "\n",
    "C = torch.Tensor([[2], [-2], [0]])\n",
    "\n",
    "X = torch.linalg.solve(A, B + C)\n",
    "\n",
    "print(\"Solution:\")\n",
    "print(X)"
   ],
   "metadata": {
    "colab": {
     "base_uri": "https://localhost:8080/"
    },
    "id": "ycWvIARgVFzF",
    "outputId": "cfb489fb-13f5-4633-ba99-8814d749b08d",
    "pycharm": {
     "name": "#%%\n"
    }
   },
   "execution_count": 20,
   "outputs": [
    {
     "output_type": "stream",
     "name": "stdout",
     "text": [
      "Solution:\n",
      "tensor([[ 3.4167],\n",
      "        [-2.5833],\n",
      "        [-0.0833]])\n"
     ]
    }
   ]
  },
  {
   "cell_type": "code",
   "source": [
    "### Task3"
   ],
   "metadata": {
    "id": "-2RdQEFRYNys",
    "pycharm": {
     "name": "#%%\n"
    }
   },
   "execution_count": 21,
   "outputs": []
  },
  {
   "cell_type": "code",
   "source": [
    "A = torch.Tensor([[9, 7, 6], [1, 1, 2], [1, 1, 1]])\n",
    "\n",
    "B = torch.Tensor([[2, 0, 2], [18, 12, 9], [24, 14, 11]])\n",
    "\n",
    "X = torch.linalg.solve(A, B, left=False)\n",
    "\n",
    "print(\"Solution:\")\n",
    "print(X)"
   ],
   "metadata": {
    "colab": {
     "base_uri": "https://localhost:8080/"
    },
    "id": "y4_PvT65WqAq",
    "outputId": "dc5973aa-985a-405e-d24b-309688fa8deb",
    "pycharm": {
     "name": "#%%\n"
    }
   },
   "execution_count": 22,
   "outputs": [
    {
     "output_type": "stream",
     "name": "stdout",
     "text": [
      "Solution:\n",
      "tensor([[ 1.0000e+00,  3.0000e+00, -1.0000e+01],\n",
      "        [ 3.0000e+00, -2.5332e-07, -9.0000e+00],\n",
      "        [ 5.0000e+00,  2.0000e+00, -2.3000e+01]])\n"
     ]
    }
   ]
  },
  {
   "cell_type": "code",
   "source": [
    "### Task 4"
   ],
   "metadata": {
    "id": "1F8gM0UrXqQM",
    "pycharm": {
     "name": "#%%\n"
    }
   },
   "execution_count": 13,
   "outputs": []
  },
  {
   "cell_type": "code",
   "source": [
    "A = torch.Tensor([[2, 1, 3], [-1, 4, 2], [1, 2, -2]])\n",
    "\n",
    "B = torch.Tensor([[3, 1, 2], [4, -1, 3]])\n",
    "\n",
    "C = torch.Tensor([[0, -1, 2], [-1, 2, 0]])\n",
    "\n",
    "X = torch.linalg.solve(A, 5 * C - 2 * B, left=False)\n",
    "\n",
    "print(\"Solution:\")\n",
    "print(X)"
   ],
   "metadata": {
    "colab": {
     "base_uri": "https://localhost:8080/"
    },
    "id": "Giu_E4bRYQKt",
    "outputId": "6671919b-34ee-4410-84e0-91f9cb782744",
    "pycharm": {
     "name": "#%%\n"
    }
   },
   "execution_count": 24,
   "outputs": [
    {
     "output_type": "stream",
     "name": "stdout",
     "text": [
      "tensor([[-0.8571,  0.4048, -3.8810],\n",
      "        [-4.5714,  4.0476,  0.1905]])\n"
     ]
    }
   ]
  },
  {
   "cell_type": "code",
   "source": [
    "### Task 5"
   ],
   "metadata": {
    "id": "r9Jad6C3Zv4E",
    "pycharm": {
     "name": "#%%\n"
    }
   },
   "execution_count": 26,
   "outputs": []
  },
  {
   "cell_type": "code",
   "source": [
    "A = torch.Tensor([[3, 1, -1], [-1, 1, 2], [1, 3, 1]])\n",
    "\n",
    "B = torch.Tensor([[2, -3], [1, 1], [-2, -3]])\n",
    "\n",
    "C = torch.Tensor([[2, -8], [3, 5], [-8, -5]])\n",
    "\n",
    "D = torch.zeros([3, 2])\n",
    "\n",
    "X = torch.linalg.solve(A, D + 2 * C - 5 * B)\n",
    "\n",
    "print(\"Solution:\")\n",
    "print(X)"
   ],
   "metadata": {
    "colab": {
     "base_uri": "https://localhost:8080/"
    },
    "id": "BbzZPxB6cUzr",
    "outputId": "db279236-a5ac-4471-c2ec-d16764b6461d",
    "pycharm": {
     "name": "#%%\n"
    }
   },
   "execution_count": 31,
   "outputs": [
    {
     "output_type": "stream",
     "name": "stdout",
     "text": [
      "Solution:\n",
      "tensor([[-1.0000e+00, -1.2914e-07],\n",
      "        [-2.0000e+00,  1.0000e+00],\n",
      "        [ 1.0000e+00,  2.0000e+00]])\n"
     ]
    }
   ]
  },
  {
   "cell_type": "code",
   "source": [],
   "metadata": {
    "id": "_TPq6gN3dvHt",
    "pycharm": {
     "name": "#%%\n"
    }
   },
   "execution_count": null,
   "outputs": []
  }
 ]
}